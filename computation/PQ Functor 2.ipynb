{
 "cells": [
  {
   "cell_type": "code",
   "execution_count": 11,
   "metadata": {},
   "outputs": [],
   "source": [
    "G = groups.presentation.Symmetric(6)"
   ]
  },
  {
   "cell_type": "code",
   "execution_count": null,
   "metadata": {},
   "outputs": [],
   "source": []
  },
  {
   "cell_type": "code",
   "execution_count": 12,
   "metadata": {},
   "outputs": [],
   "source": [
    "enumed = list(enumerate(G))\n",
    "gens = list(G.gens())\n",
    "\n",
    "rs = G.rewriting_system()\n",
    "rs.make_confluent()\n",
    "\n",
    "groupIndex = dict([(rs.reduce(g), i) for i, g in enumed])\n",
    "\n",
    "def indexOf(g):\n",
    "    g1 = rs.reduce(g)\n",
    "    return groupIndex[g1]\n",
    "    #for i, g1 in enumed:\n",
    "        #if g == g1:\n",
    "            #return i\n",
    "\n",
    "def forOneG(t):\n",
    "    (i, g) = t\n",
    "    gderivations = []\n",
    "    \n",
    "    for n in range(len(G)):\n",
    "        gn = g^n\n",
    "        if gn == g and n > 1:\n",
    "            break\n",
    "        indexN = indexOf(gn)\n",
    "        gderivations.append((indexN, i))\n",
    "\n",
    "    for g1 in gens:\n",
    "        i2 = indexOf(g1*g*g1^(-1)) \n",
    "        gderivations.append((i2, i))\n",
    "\n",
    "    return gderivations\n",
    "\n",
    "derivations = []\n",
    "\n",
    "#for i, g in enumed:\n",
    "    #rel = forOneG(i, g)\n",
    "    #relations.extend(rel)\n",
    "\n",
    "from multiprocessing import Pool\n",
    "\n",
    "pool = Pool(processes = 7)\n",
    "result = pool.map(forOneG, enumed)\n",
    "derivations = [der for ders in result for der in ders]\n",
    "pool.close()\n",
    "pool.join()"
   ]
  },
  {
   "cell_type": "code",
   "execution_count": null,
   "metadata": {},
   "outputs": [],
   "source": []
  },
  {
   "cell_type": "code",
   "execution_count": 14,
   "metadata": {},
   "outputs": [
    {
     "ename": "NameError",
     "evalue": "name 'graph' is not defined",
     "output_type": "error",
     "traceback": [
      "\u001b[0;31m---------------------------------------------------------------------------\u001b[0m",
      "\u001b[0;31mNameError\u001b[0m                                 Traceback (most recent call last)",
      "\u001b[0;32m<ipython-input-14-5fb1d46171e2>\u001b[0m in \u001b[0;36m<module>\u001b[0;34m()\u001b[0m\n\u001b[0;32m----> 1\u001b[0;31m \u001b[0mgraph\u001b[0m\u001b[0;34m(\u001b[0m\u001b[0mderivations\u001b[0m\u001b[0;34m)\u001b[0m\u001b[0;34m\u001b[0m\u001b[0;34m\u001b[0m\u001b[0m\n\u001b[0m",
      "\u001b[0;31mNameError\u001b[0m: name 'graph' is not defined"
     ]
    }
   ],
   "source": [
    "derivations"
   ]
  },
  {
   "cell_type": "code",
   "execution_count": null,
   "metadata": {},
   "outputs": [],
   "source": []
  }
 ],
 "metadata": {
  "kernelspec": {
   "display_name": "SageMath 9.0",
   "language": "sage",
   "name": "sagemath"
  },
  "language_info": {
   "codemirror_mode": {
    "name": "ipython",
    "version": 3
   },
   "file_extension": ".py",
   "mimetype": "text/x-python",
   "name": "python",
   "nbconvert_exporter": "python",
   "pygments_lexer": "ipython3",
   "version": "3.7.3"
  }
 },
 "nbformat": 4,
 "nbformat_minor": 2
}
