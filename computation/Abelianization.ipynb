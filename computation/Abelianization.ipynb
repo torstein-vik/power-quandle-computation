{
 "cells": [
  {
   "cell_type": "code",
   "execution_count": 29,
   "metadata": {},
   "outputs": [
    {
     "data": {
      "text/plain": [
       "[ 1, 1, 1, 7, 7, 1, 1, 5, 6, 7, 7, 7, 7, 13, 6, 1 ]"
      ]
     },
     "execution_count": 29,
     "metadata": {},
     "output_type": "execute_result"
    }
   ],
   "source": [
    "gap.SmallGroup(64, 135).CharacterTable().PowerMap(2)"
   ]
  },
  {
   "cell_type": "code",
   "execution_count": 30,
   "metadata": {},
   "outputs": [
    {
     "data": {
      "text/plain": [
       "[ 1, 7, 1, 1, 7, 1, 1, 5, 6, 1, 7, 1, 7, 13, 6, 7 ]"
      ]
     },
     "execution_count": 30,
     "metadata": {},
     "output_type": "execute_result"
    }
   ],
   "source": [
    "gap.SmallGroup(64, 136).CharacterTable().PowerMap(2)"
   ]
  },
  {
   "cell_type": "code",
   "execution_count": null,
   "metadata": {},
   "outputs": [],
   "source": []
  },
  {
   "cell_type": "code",
   "execution_count": 3,
   "metadata": {},
   "outputs": [
    {
     "data": {
      "text/plain": [
       "[0, 0, 0, 0, 0, 0, 0, 0, 0, 0, 0, 0, 1, 1, 2, 6, 6]"
      ]
     },
     "execution_count": 3,
     "metadata": {},
     "output_type": "execute_result"
    }
   ],
   "source": [
    "process(gap.SmallGroup(64, 135).CharacterTable().PowerMap(2))"
   ]
  },
  {
   "cell_type": "code",
   "execution_count": 2,
   "metadata": {},
   "outputs": [
    {
     "data": {
      "text/plain": [
       "[0, 0, 0, 0, 0, 0, 0, 0, 0, 0, 0, 0, 1, 1, 2, 5, 7]"
      ]
     },
     "execution_count": 2,
     "metadata": {},
     "output_type": "execute_result"
    }
   ],
   "source": [
    "process(gap.SmallGroup(64, 136).CharacterTable().PowerMap(2))"
   ]
  },
  {
   "cell_type": "code",
   "execution_count": null,
   "metadata": {},
   "outputs": [],
   "source": []
  },
  {
   "cell_type": "code",
   "execution_count": 19,
   "metadata": {},
   "outputs": [
    {
     "data": {
      "text/plain": [
       "CT5\n",
       "\n",
       "      2  6  3  4  4  5  5  6  3  4  4  4  4  5  3  4  4\n",
       "\n",
       "        1a 2a 2b 4a 4b 2c 2d 8a 4c 4d 4e 4f 4g 8b 4h 2e\n",
       "\n",
       "X.1      1  1  1  1  1  1  1  1  1  1  1  1  1  1  1  1\n",
       "X.2      1 -1  1  1  1  1  1 -1 -1  1  1  1  1 -1 -1  1\n",
       "X.3      1  1 -1  1  1  1  1 -1  1 -1 -1  1  1 -1  1 -1\n",
       "X.4      1 -1 -1  1  1  1  1  1 -1 -1 -1  1  1  1 -1 -1\n",
       "X.5      1  1  1 -1  1  1  1  1 -1 -1  1 -1  1 -1 -1 -1\n",
       "X.6      1 -1  1 -1  1  1  1 -1  1 -1  1 -1  1  1  1 -1\n",
       "X.7      1  1 -1 -1  1  1  1 -1 -1  1 -1 -1  1  1 -1  1\n",
       "X.8      1 -1 -1 -1  1  1  1  1  1  1 -1 -1  1 -1  1  1\n",
       "X.9      2  .  .  2 -2  2  2  .  .  .  . -2 -2  .  .  .\n",
       "X.10     2  .  . -2 -2  2  2  .  .  .  .  2 -2  .  .  .\n",
       "X.11     2  .  2  .  2 -2  2  .  .  . -2  . -2  .  .  .\n",
       "X.12     2  . -2  .  2 -2  2  .  .  .  2  . -2  .  .  .\n",
       "X.13     2  .  .  . -2 -2  2  .  .  2  .  .  2  .  . -2\n",
       "X.14     2  .  .  . -2 -2  2  .  . -2  .  .  2  .  .  2\n",
       "X.15     4  .  .  .  .  . -4  .  A  .  .  .  .  . -A  .\n",
       "X.16     4  .  .  .  .  . -4  . -A  .  .  .  .  .  A  .\n",
       "\n",
       "A = 2*E(4)\n",
       "  = 2*Sqrt(-1) = 2i"
      ]
     },
     "execution_count": 19,
     "metadata": {},
     "output_type": "execute_result"
    }
   ],
   "source": [
    "gap.SmallGroup(64, 135).CharacterTable().Display()"
   ]
  },
  {
   "cell_type": "code",
   "execution_count": 20,
   "metadata": {},
   "outputs": [
    {
     "data": {
      "text/plain": [
       "CT6\n",
       "\n",
       "      2  6  3  4  4  5  5  6  3  4  4  4  4  5  3  4  4\n",
       "\n",
       "        1a 4a 2a 2b 4b 2c 2d 8a 4c 2e 4d 2f 4e 8b 4f 4g\n",
       "\n",
       "X.1      1  1  1  1  1  1  1  1  1  1  1  1  1  1  1  1\n",
       "X.2      1 -1  1  1  1  1  1 -1 -1  1  1  1  1 -1 -1  1\n",
       "X.3      1  1 -1  1  1  1  1 -1  1 -1 -1  1  1 -1  1 -1\n",
       "X.4      1 -1 -1  1  1  1  1  1 -1 -1 -1  1  1  1 -1 -1\n",
       "X.5      1  1  1 -1  1  1  1  1 -1 -1  1 -1  1 -1 -1 -1\n",
       "X.6      1 -1  1 -1  1  1  1 -1  1 -1  1 -1  1  1  1 -1\n",
       "X.7      1  1 -1 -1  1  1  1 -1 -1  1 -1 -1  1  1 -1  1\n",
       "X.8      1 -1 -1 -1  1  1  1  1  1  1 -1 -1  1 -1  1  1\n",
       "X.9      2  .  .  2 -2  2  2  .  .  .  . -2 -2  .  .  .\n",
       "X.10     2  .  . -2 -2  2  2  .  .  .  .  2 -2  .  .  .\n",
       "X.11     2  .  2  .  2 -2  2  .  .  . -2  . -2  .  .  .\n",
       "X.12     2  . -2  .  2 -2  2  .  .  .  2  . -2  .  .  .\n",
       "X.13     2  .  .  . -2 -2  2  .  .  2  .  .  2  .  . -2\n",
       "X.14     2  .  .  . -2 -2  2  .  . -2  .  .  2  .  .  2\n",
       "X.15     4  .  .  .  .  . -4  .  A  .  .  .  .  . -A  .\n",
       "X.16     4  .  .  .  .  . -4  . -A  .  .  .  .  .  A  .\n",
       "\n",
       "A = 2*E(4)\n",
       "  = 2*Sqrt(-1) = 2i"
      ]
     },
     "execution_count": 20,
     "metadata": {},
     "output_type": "execute_result"
    }
   ],
   "source": [
    "gap.SmallGroup(64, 136).CharacterTable().Display()"
   ]
  },
  {
   "cell_type": "code",
   "execution_count": null,
   "metadata": {},
   "outputs": [],
   "source": []
  },
  {
   "cell_type": "code",
   "execution_count": null,
   "metadata": {},
   "outputs": [],
   "source": []
  },
  {
   "cell_type": "code",
   "execution_count": 4,
   "metadata": {},
   "outputs": [
    {
     "data": {
      "text/plain": [
       "[ Group( [ f1, f2 ] ), Group( [ f1, f2 ] ) ]"
      ]
     },
     "execution_count": 4,
     "metadata": {},
     "output_type": "execute_result"
    }
   ],
   "source": [
    "gap.AllSmallGroups(14)"
   ]
  },
  {
   "cell_type": "code",
   "execution_count": null,
   "metadata": {},
   "outputs": [],
   "source": []
  },
  {
   "cell_type": "code",
   "execution_count": 1,
   "metadata": {},
   "outputs": [],
   "source": [
    "# Not yet tested\n",
    "def process(pm):\n",
    "    countl = (len(pm)+1)*[0]\n",
    "    for n in pm:\n",
    "        countl[int(n)] += 1\n",
    "    return sorted(countl)\n",
    "    #return sorted([list(pm).count(i) for i, n in enumerate(pm)])"
   ]
  },
  {
   "cell_type": "code",
   "execution_count": null,
   "metadata": {},
   "outputs": [],
   "source": []
  },
  {
   "cell_type": "code",
   "execution_count": 26,
   "metadata": {},
   "outputs": [
    {
     "name": "stdout",
     "output_type": "stream",
     "text": [
      "Found duplicate\n",
      "Found duplicate\n",
      "Found duplicate\n",
      "Found duplicate\n",
      "Found duplicate\n",
      "Found duplicate\n",
      "Found duplicate\n",
      "Found duplicate\n",
      "Found duplicate\n",
      "Found duplicate\n",
      "Found duplicate\n",
      "Found duplicate\n"
     ]
    }
   ],
   "source": [
    "powerMapIndex = dict()\n",
    "for n in range(1, 64):\n",
    "    groups = gap.AllSmallGroups(n)\n",
    "    for i, group in enumerate(groups):\n",
    "        pm2 = group.CharacterTable().PowerMap(2)\n",
    "        pm3 = group.CharacterTable().PowerMap(3)\n",
    "        pm4 = group.CharacterTable().PowerMap(4)\n",
    "        pm5 = group.CharacterTable().PowerMap(5)\n",
    "        pm2s = process(pm2)\n",
    "        pm3s = process(pm3)\n",
    "        pm4s = process(pm4)\n",
    "        pm5s = process(pm5)\n",
    "        strrep = repr(n) + \" \" + repr(pm2s) + repr(pm3s) + repr(pm4s) + repr(pm5s)\n",
    "        if strrep not in powerMapIndex:\n",
    "            powerMapIndex[strrep] = [(n, i + 1)]\n",
    "        else:\n",
    "            powerMapIndex[strrep].append((n, i + 1))\n",
    "            print(\"Found duplicate\")"
   ]
  },
  {
   "cell_type": "code",
   "execution_count": null,
   "metadata": {},
   "outputs": [],
   "source": []
  },
  {
   "cell_type": "code",
   "execution_count": 27,
   "metadata": {},
   "outputs": [
    {
     "name": "stdout",
     "output_type": "stream",
     "text": [
      "16 [0, 0, 0, 0, 0, 2, 2, 3][0, 1, 1, 1, 1, 1, 1, 1][0, 0, 0, 0, 0, 0, 2, 5][0, 1, 1, 1, 1, 1, 1, 1]\n",
      "[(16, 8), (16, 9)]\n",
      "32 [0, 0, 0, 0, 0, 0, 0, 0, 0, 0, 0, 2, 4, 4, 4][0, 1, 1, 1, 1, 1, 1, 1, 1, 1, 1, 1, 1, 1, 1][0, 0, 0, 0, 0, 0, 0, 0, 0, 0, 0, 0, 0, 4, 10][0, 1, 1, 1, 1, 1, 1, 1, 1, 1, 1, 1, 1, 1, 1]\n",
      "[(32, 10), (32, 14)]\n",
      "32 [0, 0, 0, 0, 0, 0, 0, 2, 2, 2, 2, 3][0, 1, 1, 1, 1, 1, 1, 1, 1, 1, 1, 1][0, 0, 0, 0, 0, 0, 0, 0, 0, 2, 4, 5][0, 1, 1, 1, 1, 1, 1, 1, 1, 1, 1, 1]\n",
      "[(32, 19), (32, 20)]\n",
      "32 [0, 0, 0, 0, 0, 0, 0, 0, 0, 0, 0, 0, 0, 0, 0, 0, 0, 4, 4, 6, 6][0, 1, 1, 1, 1, 1, 1, 1, 1, 1, 1, 1, 1, 1, 1, 1, 1, 1, 1, 1, 1][0, 0, 0, 0, 0, 0, 0, 0, 0, 0, 0, 0, 0, 0, 0, 0, 0, 0, 0, 0, 20][0, 1, 1, 1, 1, 1, 1, 1, 1, 1, 1, 1, 1, 1, 1, 1, 1, 1, 1, 1, 1]\n",
      "[(32, 24), (32, 26)]\n",
      "32 [0, 0, 0, 0, 0, 0, 0, 0, 0, 0, 0, 2, 2, 4, 6][0, 1, 1, 1, 1, 1, 1, 1, 1, 1, 1, 1, 1, 1, 1][0, 0, 0, 0, 0, 0, 0, 0, 0, 0, 0, 0, 0, 0, 14][0, 1, 1, 1, 1, 1, 1, 1, 1, 1, 1, 1, 1, 1, 1]\n",
      "[(32, 31), (32, 35)]\n",
      "32 [0, 0, 0, 0, 0, 0, 0, 0, 0, 0, 0, 0, 4, 4, 6][0, 1, 1, 1, 1, 1, 1, 1, 1, 1, 1, 1, 1, 1, 1][0, 0, 0, 0, 0, 0, 0, 0, 0, 0, 0, 0, 0, 4, 10][0, 1, 1, 1, 1, 1, 1, 1, 1, 1, 1, 1, 1, 1, 1]\n",
      "[(32, 40), (32, 41)]\n",
      "48 [0, 0, 0, 0, 0, 0, 0, 0, 0, 2, 2, 2, 2, 2, 2, 3][0, 0, 0, 0, 0, 0, 0, 0, 0, 1, 1, 2, 2, 3, 3, 3][0, 0, 0, 0, 0, 0, 0, 0, 0, 0, 0, 0, 2, 4, 4, 5][0, 1, 1, 1, 1, 1, 1, 1, 1, 1, 1, 1, 1, 1, 1, 1]\n",
      "[(48, 6), (48, 8)]\n",
      "48 [0, 0, 0, 0, 0, 0, 0, 0, 0, 0, 0, 0, 0, 0, 2, 4, 4, 4, 4][0, 0, 0, 0, 0, 0, 0, 0, 0, 1, 1, 1, 1, 2, 2, 2, 2, 3, 3][0, 0, 0, 0, 0, 0, 0, 0, 0, 0, 0, 0, 0, 0, 0, 0, 0, 8, 10][0, 1, 1, 1, 1, 1, 1, 1, 1, 1, 1, 1, 1, 1, 1, 1, 1, 1, 1]\n",
      "[(48, 12), (48, 13)]\n",
      "48 [0, 0, 0, 0, 0, 0, 0, 0, 2, 2, 2, 3, 3][0, 0, 0, 0, 0, 0, 1, 1, 1, 2, 2, 2, 3][0, 0, 0, 0, 0, 0, 0, 0, 0, 0, 2, 5, 5][0, 1, 1, 1, 1, 1, 1, 1, 1, 1, 1, 1, 1]\n",
      "[(48, 17), (48, 18)]\n",
      "48 [0, 0, 0, 0, 0, 0, 0, 0, 0, 0, 0, 0, 0, 2, 2, 2, 2, 2, 2, 3, 3, 3][0, 0, 0, 0, 0, 0, 0, 0, 0, 0, 0, 0, 0, 0, 0, 3, 3, 3, 3, 3, 3, 3][0, 0, 0, 0, 0, 0, 0, 0, 0, 0, 0, 0, 0, 0, 0, 0, 2, 2, 2, 5, 5, 5][0, 1, 1, 1, 1, 1, 1, 1, 1, 1, 1, 1, 1, 1, 1, 1, 1, 1, 1, 1, 1, 1]\n",
      "[(48, 26), (48, 27)]\n",
      "49 [0, 1, 1, 1, 1, 1, 1, 1, 1, 1, 1, 1, 1, 1, 1, 1, 1, 1, 1, 1, 1, 1, 1, 1, 1, 1, 1, 1, 1, 1, 1, 1, 1, 1, 1, 1, 1, 1, 1, 1, 1, 1, 1, 1, 1, 1, 1, 1, 1, 1][0, 1, 1, 1, 1, 1, 1, 1, 1, 1, 1, 1, 1, 1, 1, 1, 1, 1, 1, 1, 1, 1, 1, 1, 1, 1, 1, 1, 1, 1, 1, 1, 1, 1, 1, 1, 1, 1, 1, 1, 1, 1, 1, 1, 1, 1, 1, 1, 1, 1][0, 1, 1, 1, 1, 1, 1, 1, 1, 1, 1, 1, 1, 1, 1, 1, 1, 1, 1, 1, 1, 1, 1, 1, 1, 1, 1, 1, 1, 1, 1, 1, 1, 1, 1, 1, 1, 1, 1, 1, 1, 1, 1, 1, 1, 1, 1, 1, 1, 1][0, 1, 1, 1, 1, 1, 1, 1, 1, 1, 1, 1, 1, 1, 1, 1, 1, 1, 1, 1, 1, 1, 1, 1, 1, 1, 1, 1, 1, 1, 1, 1, 1, 1, 1, 1, 1, 1, 1, 1, 1, 1, 1, 1, 1, 1, 1, 1, 1, 1]\n",
      "[(49, 1), (49, 2)]\n",
      "54 [0, 0, 0, 0, 1, 1, 1, 1, 2, 2, 2][0, 0, 0, 0, 0, 0, 0, 0, 0, 3, 7][0, 0, 0, 0, 1, 1, 1, 1, 2, 2, 2][0, 1, 1, 1, 1, 1, 1, 1, 1, 1, 1]\n",
      "[(54, 5), (54, 8)]\n"
     ]
    }
   ],
   "source": [
    "for pm in powerMapIndex:\n",
    "    grps = powerMapIndex[pm]\n",
    "    if len(grps) > 1:\n",
    "        print(pm)\n",
    "        print(grps)"
   ]
  },
  {
   "cell_type": "code",
   "execution_count": null,
   "metadata": {},
   "outputs": [],
   "source": []
  },
  {
   "cell_type": "code",
   "execution_count": 34,
   "metadata": {},
   "outputs": [
    {
     "data": {
      "text/plain": [
       "(C3 x Q8) : C2"
      ]
     },
     "execution_count": 34,
     "metadata": {},
     "output_type": "execute_result"
    }
   ],
   "source": [
    "gap.SmallGroup(48, 17).StructureDescription()"
   ]
  },
  {
   "cell_type": "code",
   "execution_count": 35,
   "metadata": {},
   "outputs": [
    {
     "data": {
      "text/plain": [
       "C3 : Q16"
      ]
     },
     "execution_count": 35,
     "metadata": {},
     "output_type": "execute_result"
    }
   ],
   "source": [
    "gap.SmallGroup(48, 18).StructureDescription()"
   ]
  },
  {
   "cell_type": "code",
   "execution_count": null,
   "metadata": {},
   "outputs": [],
   "source": []
  },
  {
   "cell_type": "code",
   "execution_count": 40,
   "metadata": {},
   "outputs": [
    {
     "data": {
      "text/plain": [
       "[ 1, 5, 7, 8, 2, 11, 3, 4, 10, 9, 6 ]"
      ]
     },
     "execution_count": 40,
     "metadata": {},
     "output_type": "execute_result"
    }
   ],
   "source": [
    "gap.SmallGroup(27, 3).CharacterTable().PowerMap(2)"
   ]
  },
  {
   "cell_type": "code",
   "execution_count": 41,
   "metadata": {},
   "outputs": [
    {
     "data": {
      "text/plain": [
       "[ 1, 5, 7, 8, 2, 11, 3, 4, 10, 9, 6 ]"
      ]
     },
     "execution_count": 41,
     "metadata": {},
     "output_type": "execute_result"
    }
   ],
   "source": [
    "gap.SmallGroup(27, 4).CharacterTable().PowerMap(2)"
   ]
  },
  {
   "cell_type": "code",
   "execution_count": null,
   "metadata": {},
   "outputs": [],
   "source": []
  },
  {
   "cell_type": "code",
   "execution_count": 63,
   "metadata": {},
   "outputs": [
    {
     "data": {
      "text/plain": [
       "[ 1, 1, 1, 1, 1, 1, 1, 1, 1, 1, 1, 1, 1, 1, 1, 1, 1, 1, 1, 1, 1, 1, 1, 1, 1, \n",
       "  1, 1, 1, 1 ]"
      ]
     },
     "execution_count": 63,
     "metadata": {},
     "output_type": "execute_result"
    }
   ],
   "source": [
    "gap.SmallGroup(125, 3).CharacterTable().PowerMap(5)"
   ]
  },
  {
   "cell_type": "code",
   "execution_count": 64,
   "metadata": {},
   "outputs": [
    {
     "data": {
      "text/plain": [
       "[ 1, 4, 1, 1, 8, 4, 1, 1, 13, 8, 4, 1, 1, 19, 13, 8, 4, 1, 1, 19, 13, 8, 4, \n",
       "  19, 13, 8, 19, 13, 19 ]"
      ]
     },
     "execution_count": 64,
     "metadata": {},
     "output_type": "execute_result"
    }
   ],
   "source": [
    "gap.SmallGroup(125, 4).CharacterTable().PowerMap(5)"
   ]
  },
  {
   "cell_type": "code",
   "execution_count": null,
   "metadata": {},
   "outputs": [],
   "source": []
  }
 ],
 "metadata": {
  "kernelspec": {
   "display_name": "SageMath 9.0",
   "language": "sage",
   "name": "sagemath"
  },
  "language_info": {
   "codemirror_mode": {
    "name": "ipython",
    "version": 3
   },
   "file_extension": ".py",
   "mimetype": "text/x-python",
   "name": "python",
   "nbconvert_exporter": "python",
   "pygments_lexer": "ipython3",
   "version": "3.7.3"
  }
 },
 "nbformat": 4,
 "nbformat_minor": 2
}
