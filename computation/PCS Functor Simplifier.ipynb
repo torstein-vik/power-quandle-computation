{
 "cells": [
  {
   "cell_type": "code",
   "execution_count": 1,
   "metadata": {},
   "outputs": [],
   "source": [
    "def get_gap_group(n, i):\n",
    "    return PermutationGroup(gap_group = gap.Image(gap.IsomorphismPermGroup(gap.SmallGroup(n, i)))).as_finitely_presented_group()"
   ]
  },
  {
   "cell_type": "code",
   "execution_count": 2,
   "metadata": {},
   "outputs": [],
   "source": [
    "def list_gap_groups(n):\n",
    "    for i, H in enumerate(gap.AllSmallGroups(n)):\n",
    "        print(i + 1, H.StructureDescription())"
   ]
  },
  {
   "cell_type": "code",
   "execution_count": 3,
   "metadata": {},
   "outputs": [
    {
     "name": "stdout",
     "output_type": "stream",
     "text": [
      "1 C64\n",
      "2 C8 x C8\n",
      "3 C8 : C8\n",
      "4 ((C8 x C2) : C2) : C2\n",
      "5 (C4 x C2) : C8\n",
      "6 (C8 x C4) : C2\n",
      "7 Q8 : C8\n",
      "8 ((C8 x C2) : C2) : C2\n",
      "9 (C4 : C4) : C4\n",
      "10 (C8 : C4) : C2\n",
      "11 (C2 x C2) . ((C4 x C2) : C2) = (C4 x C2) . (C4 x C2)\n",
      "12 (C4 : C8) : C2\n",
      "13 (C2 x C2) . ((C4 x C2) : C2) = (C4 x C2) . (C4 x C2)\n",
      "14 (C2 x C2) . ((C4 x C2) : C2) = (C4 x C2) . (C4 x C2)\n",
      "15 C8 : C8\n",
      "16 C8 : C8\n",
      "17 (C8 x C2) : C4\n",
      "18 (C4 x C4) : C4\n",
      "19 C4 . (C4 x C4)\n",
      "20 (C4 : C4) : C4\n",
      "21 (C4 : C4) : C4\n",
      "22 (C4 x C2) . D8 = C4 . (C4 x C4)\n",
      "23 ((C4 x C2) : C2) : C4\n",
      "24 (C8 : C2) : C4\n",
      "25 (C8 x C2) : C4\n",
      "26 C16 x C4\n",
      "27 C16 : C4\n",
      "28 C16 : C4\n",
      "29 (C16 x C2) : C2\n",
      "30 (C16 : C2) : C2\n",
      "31 (C16 : C2) : C2\n",
      "32 ((C8 : C2) : C2) : C2\n",
      "33 (C4 x C2 x C2) : C4\n",
      "34 ((C2 x C2 x C2) : C4) : C2\n",
      "35 (C2 x Q8) : C4\n",
      "36 (C2 . ((C4 x C2) : C2) = (C2 x C2) . (C4 x C2)) : C2\n",
      "37 C2 . ((C2 x C2 x C2) : C4) = (C4 x C2) . (C4 x C2)\n",
      "38 (C16 x C2) : C2\n",
      "39 Q16 : C4\n",
      "40 (C16 x C2) : C2\n",
      "41 (C16 : C2) : C2\n",
      "42 (C16 : C2) : C2\n",
      "43 C2 . ((C8 x C2) : C2) = C8 . (C4 x C2)\n",
      "44 C4 : C16\n",
      "45 C8 . D8 = C4 . (C8 x C2)\n",
      "46 C16 : C4\n",
      "47 C16 : C4\n",
      "48 C16 : C4\n",
      "49 C4 . D16 = C8 . (C4 x C2)\n",
      "50 C32 x C2\n",
      "51 C32 : C2\n",
      "52 D64\n",
      "53 QD64\n",
      "54 Q64\n",
      "55 C4 x C4 x C4\n",
      "56 C2 x ((C4 x C2) : C4)\n",
      "57 (C4 x C4) : C4\n",
      "58 C4 x ((C4 x C2) : C2)\n",
      "59 C4 x (C4 : C4)\n",
      "60 (C2 x ((C4 x C2) : C2)) : C2\n",
      "61 ((C4 x C2) : C4) : C2\n",
      "62 ((C4 x C2) : C4) : C2\n",
      "63 (C4 x C4) : C4\n",
      "64 (C4 x C4) : C4\n",
      "65 (C4 x C4) : C4\n",
      "66 (C2 x (C4 : C4)) : C2\n",
      "67 (C2 x ((C4 x C2) : C2)) : C2\n",
      "68 (C4 : C4) : C4\n",
      "69 ((C4 x C2) : C4) : C2\n",
      "70 (C4 : C4) : C4\n",
      "71 (C2 x (C4 : C4)) : C2\n",
      "72 (C2 x Q8) : C4\n",
      "73 (C2 x C2 x D8) : C2\n",
      "74 ((C4 x C2) : C4) : C2\n",
      "75 (C2 x ((C4 x C2) : C2)) : C2\n",
      "76 (C4 x C2) : Q8\n",
      "77 (C2 x (C4 : C4)) : C2\n",
      "78 (C2 x (C4 : C4)) : C2\n",
      "79 (C2 x C2 x C2) . (C2 x C2 x C2)\n",
      "80 ((C4 x C2) : C4) : C2\n",
      "81 (C2 x C2 x C2) . (C2 x C2 x C2)\n",
      "82 (C2 x C2 x C2) . (C2 x C2 x C2)\n",
      "83 C8 x C4 x C2\n",
      "84 C2 x (C8 : C4)\n",
      "85 C4 x (C8 : C2)\n",
      "86 (C8 x C4) : C2\n",
      "87 C2 x ((C8 x C2) : C2)\n",
      "88 (C2 x (C8 : C2)) : C2\n",
      "89 (C8 x C2 x C2) : C2\n",
      "90 C2 x ((C2 x C2 x C2) : C4)\n",
      "91 ((C4 x C4) : C2) : C2\n",
      "92 C2 x ((C8 : C2) : C2)\n",
      "93 C2 x (C2 . ((C4 x C2) : C2) = (C2 x C2) . (C4 x C2))\n",
      "94 (C2 x (C8 : C2)) : C2\n",
      "95 C2 x ((C8 x C2) : C2)\n",
      "96 C2 x (Q8 : C4)\n",
      "97 ((C4 x C4) : C2) : C2\n",
      "98 (C2 x (C4 : C4)) : C2\n",
      "99 ((C4 x C4) : C2) : C2\n",
      "100 (Q8 : C4) : C2\n",
      "101 C2 x ((C4 x C4) : C2)\n",
      "102 (C2 x (C8 : C2)) : C2\n",
      "103 C2 x (C4 : C8)\n",
      "104 (C4 : C8) : C2\n",
      "105 (C4 : C8) : C2\n",
      "106 C2 x (C8 : C4)\n",
      "107 C2 x (C8 : C4)\n",
      "108 (C8 : C4) : C2\n",
      "109 (C8 : C4) : C2\n",
      "110 C2 x (C4 . D8 = C4 . (C4 x C2))\n",
      "111 (C4 . D8 = C4 . (C4 x C2)) : C2\n",
      "112 (C8 x C4) : C2\n",
      "113 (C8 : C4) : C2\n",
      "114 (C8 x C4) : C2\n",
      "115 C8 x D8\n",
      "116 (C2 x (C8 : C2)) : C2\n",
      "117 (C2 x (C8 : C2)) : C2\n",
      "118 C4 x D16\n",
      "119 C4 x QD16\n",
      "120 C4 x Q16\n",
      "121 (C4 x Q8) : C2\n",
      "122 Q16 : C4\n",
      "123 (C4 x D8) : C2\n",
      "124 ((C8 x C2) : C2) : C2\n",
      "125 ((C8 x C2) : C2) : C2\n",
      "126 C8 x Q8\n",
      "127 C8 : Q8\n",
      "128 ((C4 x C2 x C2) : C2) : C2\n",
      "129 (C2 x QD16) : C2\n",
      "130 ((C4 x C2 x C2) : C2) : C2\n",
      "131 ((C2 x Q8) : C2) : C2\n",
      "132 (C2 x Q16) : C2\n",
      "133 ((C2 x Q8) : C2) : C2\n",
      "134 ((C4 x C4) : C2) : C2\n",
      "135 ((C4 x C4) : C2) : C2\n",
      "136 ((C4 x C4) : C2) : C2\n",
      "137 (C4 : Q8) : C2\n",
      "138 ((C2 x C2 x C2 x C2) : C2) : C2\n",
      "139 ((C4 x C2 x C2) : C2) : C2\n",
      "140 (C2 x D16) : C2\n",
      "141 (C2 x QD16) : C2\n",
      "142 (Q8 : C4) : C2\n",
      "143 C4 : Q16\n",
      "144 ((C8 x C2) : C2) : C2\n",
      "145 (C4 x Q8) : C2\n",
      "146 ((C8 x C2) : C2) : C2\n",
      "147 ((C4 x C2 x C2) : C2) : C2\n",
      "148 (Q8 : C4) : C2\n",
      "149 ((C8 x C2) : C2) : C2\n",
      "150 ((C4 x C2 x C2) : C2) : C2\n",
      "151 (Q8 : C4) : C2\n",
      "152 ((C8 : C2) : C2) : C2\n",
      "153 (C8 : (C2 x C2)) : C2\n",
      "154 (C2 . ((C4 x C2) : C2) = (C2 x C2) . (C4 x C2)) : C2\n",
      "155 (C8 : C4) : C2\n",
      "156 Q8 : Q8\n",
      "157 (C8 : C4) : C2\n",
      "158 Q8 : Q8\n",
      "159 (C8 : C4) : C2\n",
      "160 (C2 x C2) . (C2 x D8) = (C4 x C2) . (C2 x C2 x C2)\n",
      "161 ((C8 x C2) : C2) : C2\n",
      "162 ((C8 x C2) : C2) : C2\n",
      "163 ((C8 x C2) : C2) : C2\n",
      "164 (Q8 : C4) : C2\n",
      "165 (Q8 : C4) : C2\n",
      "166 (Q8 : C4) : C2\n",
      "167 ((C8 x C2) : C2) : C2\n",
      "168 (C2 x C2) . (C2 x D8) = (C4 x C2) . (C2 x C2 x C2)\n",
      "169 (C8 x C4) : C2\n",
      "170 (C8 : C4) : C2\n",
      "171 ((C8 x C2) : C2) : C2\n",
      "172 (C2 x C2) . (C2 x D8) = (C4 x C2) . (C2 x C2 x C2)\n",
      "173 (C2 x QD16) : C2\n",
      "174 ((C4 x C4) : C2) : C2\n",
      "175 C4 : Q16\n",
      "176 ((C4 x C4) : C2) : C2\n",
      "177 ((C4 x C4) : C2) : C2\n",
      "178 (C4 : Q8) : C2\n",
      "179 C8 : Q8\n",
      "180 (C2 x C2) . (C2 x D8) = (C4 x C2) . (C2 x C2 x C2)\n",
      "181 C8 : Q8\n",
      "182 C8 : Q8\n",
      "183 C16 x C2 x C2\n",
      "184 C2 x (C16 : C2)\n",
      "185 (C16 x C2) : C2\n",
      "186 C2 x D32\n",
      "187 C2 x QD32\n",
      "188 C2 x Q32\n",
      "189 ((C8 x C2) : C2) : C2\n",
      "190 ((C8 x C2) : C2) : C2\n",
      "191 QD32 : C2\n",
      "192 C4 x C4 x C2 x C2\n",
      "193 C2 x C2 x ((C4 x C2) : C2)\n",
      "194 C2 x C2 x (C4 : C4)\n",
      "195 C2 x ((C4 x C4) : C2)\n",
      "196 C2 x C4 x D8\n",
      "197 C2 x C4 x Q8\n",
      "198 C4 x ((C4 x C2) : C2)\n",
      "199 (C2 x ((C4 x C2) : C2)) : C2\n",
      "200 (C4 x Q8) : C2\n",
      "201 ((C4 x C4) : C2) : C2\n",
      "202 C2 x ((C2 x C2 x C2 x C2) : C2)\n",
      "203 C2 x ((C4 x C2 x C2) : C2)\n",
      "204 C2 x ((C2 x Q8) : C2)\n",
      "205 C2 x ((C4 x C2 x C2) : C2)\n",
      "206 (C2 x ((C4 x C2) : C2)) : C2\n",
      "207 C2 x ((C4 x C4) : C2)\n",
      "208 C2 x ((C2 x C2) . (C2 x C2 x C2))\n",
      "209 C2 x ((C4 x C4) : C2)\n",
      "210 ((C4 x C4) : C2) : C2\n",
      "211 C2 x ((C4 x C4) : C2)\n",
      "212 C2 x (C4 : Q8)\n",
      "213 (C2 x ((C4 x C2) : C2)) : C2\n",
      "214 (C4 x Q8) : C2\n",
      "215 (C2 x C2 x D8) : C2\n",
      "216 (C2 x ((C4 x C2) : C2)) : C2\n",
      "217 ((C4 x C4) : C2) : C2\n",
      "218 (C2 x ((C4 x C2) : C2)) : C2\n",
      "219 (C4 x D8) : C2\n",
      "220 (C4 x D8) : C2\n",
      "221 (C4 x D8) : C2\n",
      "222 (C4 x Q8) : C2\n",
      "223 (C4 x D8) : C2\n",
      "224 ((C2 x Q8) : C2) : C2\n",
      "225 (C4 : Q8) : C2\n",
      "226 D8 x D8\n",
      "227 (C2 x ((C4 x C2) : C2)) : C2\n",
      "228 (C2 x ((C4 x C2) : C2)) : C2\n",
      "229 (C2 x ((C4 x C2) : C2)) : C2\n",
      "230 Q8 x D8\n",
      "231 (C2 x ((C4 x C2) : C2)) : C2\n",
      "232 ((C4 x C4) : C2) : C2\n",
      "233 ((C4 x C4) : C2) : C2\n",
      "234 ((C4 x C4) : C2) : C2\n",
      "235 (C2 x (C4 : C4)) : C2\n",
      "236 ((C4 x C4) : C2) : C2\n",
      "237 ((C4 x C4) : C2) : C2\n",
      "238 Q8 : Q8\n",
      "239 Q8 x Q8\n",
      "240 (C4 x D8) : C2\n",
      "241 ((C4 x C2 x C2) : C2) : C2\n",
      "242 ((C4 x C4) : C2) : C2\n",
      "243 ((C4 x C2 x C2) : C2) : C2\n",
      "244 (C4 : Q8) : C2\n",
      "245 (C2 x C2) . (C2 x C2 x C2 x C2)\n",
      "246 C8 x C2 x C2 x C2\n",
      "247 C2 x C2 x (C8 : C2)\n",
      "248 C2 x ((C8 x C2) : C2)\n",
      "249 (C2 x (C8 : C2)) : C2\n",
      "250 C2 x C2 x D16\n",
      "251 C2 x C2 x QD16\n",
      "252 C2 x C2 x Q16\n",
      "253 C2 x ((C8 x C2) : C2)\n",
      "254 C2 x (C8 : (C2 x C2))\n",
      "255 C2 x ((C2 x Q8) : C2)\n",
      "256 ((C8 x C2) : C2) : C2\n",
      "257 (C2 x D16) : C2\n",
      "258 (C2 x QD16) : C2\n",
      "259 (C2 x Q16) : C2\n",
      "260 C4 x C2 x C2 x C2 x C2\n",
      "261 C2 x C2 x C2 x D8\n",
      "262 C2 x C2 x C2 x Q8\n",
      "263 C2 x C2 x ((C4 x C2) : C2)\n",
      "264 C2 x ((C2 x C2 x C2) : (C2 x C2))\n",
      "265 C2 x ((C2 x Q8) : C2)\n",
      "266 (C2 x ((C4 x C2) : C2)) : C2\n",
      "267 C2 x C2 x C2 x C2 x C2 x C2\n"
     ]
    }
   ],
   "source": [
    "list_gap_groups(64)"
   ]
  },
  {
   "cell_type": "markdown",
   "metadata": {},
   "source": [
    "G1 = gap(\"\"\"Group(\n",
    " ( 1, 3, 8, 6)(9,33,25,17)(11,35,27,19),\n",
    " ( 9,11,16,14)( 1,17,41,40)( 6,22,46,35),\n",
    " (17,19,24,22)( 6,25,43,16)( 8,30,41,11)\n",
    " );\"\"\")"
   ]
  },
  {
   "cell_type": "markdown",
   "metadata": {},
   "source": [
    "G = PermutationGroup(gap_group = gap.Image(gap.IsomorphismPermGroup(G1))).as_finitely_presented_group()"
   ]
  },
  {
   "cell_type": "code",
   "execution_count": 15,
   "metadata": {},
   "outputs": [],
   "source": [
    "C2 = groups.presentation.Cyclic(2)\n",
    "C3 = groups.presentation.Cyclic(3)\n",
    "C4 = groups.presentation.Cyclic(4)\n",
    "C6 = groups.presentation.Cyclic(6)\n",
    "C8 = groups.presentation.Cyclic(8)\n",
    "C12 = groups.presentation.Cyclic(12)\n",
    "C16 = groups.presentation.Cyclic(16)\n",
    "C15 = groups.presentation.Cyclic(15)\n",
    "#G = C8.direct_product(C4)\n",
    "# G = groups.presentation.Dihedral(6)\n",
    "# G = groups.presentation.Symmetric(3).direct_product(C4)\n",
    "G = get_gap_group(64, 136)"
   ]
  },
  {
   "cell_type": "code",
   "execution_count": 16,
   "metadata": {},
   "outputs": [
    {
     "data": {
      "text/plain": [
       "'((C2 x Q8) : C2) : C2'"
      ]
     },
     "execution_count": 16,
     "metadata": {},
     "output_type": "execute_result"
    }
   ],
   "source": [
    "G.structure_description()"
   ]
  },
  {
   "cell_type": "code",
   "execution_count": 17,
   "metadata": {},
   "outputs": [
    {
     "data": {
      "text/plain": [
       "Finitely presented group < a, b, c, d, e, f | b^2, c^2, e^2, f^2, d^-2*f, f*a^-2, d*e*d^-1*e, (c*e)^2, a*e*a^-1*e, (c*d^-1)^2, (b*d^-1)^2, a*d^-1*a^-1*d^-1, (b*c)^2, e*c*a*c*a^-1, d*(b*a^-1)^2 >"
      ]
     },
     "execution_count": 17,
     "metadata": {},
     "output_type": "execute_result"
    }
   ],
   "source": [
    "G"
   ]
  },
  {
   "cell_type": "code",
   "execution_count": 18,
   "metadata": {},
   "outputs": [
    {
     "data": {
      "text/plain": [
       "Group([ f ])"
      ]
     },
     "execution_count": 18,
     "metadata": {},
     "output_type": "execute_result"
    }
   ],
   "source": [
    "G.center()"
   ]
  },
  {
   "cell_type": "code",
   "execution_count": 19,
   "metadata": {},
   "outputs": [],
   "source": [
    "# Optimization: Cache index of inverse\n",
    "# Optimization: Only look at quandling by generators! Perhaps not...\n",
    "\n",
    "enumed = list(enumerate(G))\n",
    "#gens = list(G.gens())\n",
    "\n",
    "rs = G.rewriting_system()\n",
    "rs.make_confluent()\n",
    "\n",
    "groupIndex = dict([(rs.reduce(g), i) for i, g in enumed])\n",
    "\n",
    "def indexOf(g):\n",
    "    g1 = rs.reduce(g)\n",
    "    return groupIndex[g1]\n",
    "    #for i, g1 in enumed:\n",
    "        #if g == g1:\n",
    "            #return i\n",
    "\n",
    "def forOneG(t):\n",
    "    (i, g) = t\n",
    "    grelations = []\n",
    "    \n",
    "    indexInv = indexOf(g^(-1))\n",
    "    \n",
    "    for n in range(len(G)):\n",
    "        gn = g^n\n",
    "        if gn == g and n > 1:\n",
    "            break\n",
    "        indexN = indexOf(gn)\n",
    "        grelations.append([indexInv + 1]*n + [indexN + 1])\n",
    "\n",
    "    for i1, g1 in enumed:\n",
    "        #i1 = indexOf(g1)\n",
    "        indexInv1 = indexOf(g1^(-1))\n",
    "        indexInv2 = indexOf((g1*g*g1^(-1))^(-1)) \n",
    "        grelations.append([i1 + 1, i + 1, indexInv1 + 1, indexInv2 + 1])\n",
    "\n",
    "    return grelations\n",
    "\n",
    "relations = []\n",
    "\n",
    "#for i, g in enumed:\n",
    "    #rel = forOneG(i, g)\n",
    "    #relations.extend(rel)\n",
    "\n",
    "from multiprocessing import Pool\n",
    "\n",
    "pool = Pool(processes = 7)\n",
    "result = pool.map(forOneG, enumed)\n",
    "relations = [rel for rels in result for rel in rels]\n",
    "pool.close()\n",
    "pool.join()"
   ]
  },
  {
   "cell_type": "code",
   "execution_count": 20,
   "metadata": {},
   "outputs": [],
   "source": [
    "FreeG = FreeGroup(len(G))"
   ]
  },
  {
   "cell_type": "code",
   "execution_count": 21,
   "metadata": {},
   "outputs": [],
   "source": [
    "FG = FreeG / relations"
   ]
  },
  {
   "cell_type": "code",
   "execution_count": 22,
   "metadata": {},
   "outputs": [
    {
     "data": {
      "text/plain": [
       "Finitely presented group < x3, x4, x14, x27, x37, x39, x45, x49, x53, x62 | x3^2, x27^2, x4^2, x62^2, x49^2*x53^-2, x53^-2*x39^2, (x49^-1*x53)^2, (x62*x49^-1)^2, x53^4, (x14*x45^-1)^2, x45^-1*x49*x45^-1*x49^-1, (x3*x4)^2, (x62*x3)^2, x27*x53*x27*x53^-1, (x49*x3)^2, x39*x14*x39^-1*x14, x14^-1*x53^-1*x14^-1*x53, (x14^-1*x45^-1)^2, x45*x39^-1*x45*x39, x37^4, (x53*x4)^2, (x49*x27)^2, x53^-1*x3*x53*x3, (x62*x53^-1)^2, (x49*x4)^2, x37*x14*x39^-1*x37^-1*x39^-1*x14, x14*x53*x45^-1*x53^-1*x14^-1*x45^-1, x14*x45^-1*x49^-1*x45*x14^-1*x49, x49^-1*x37*x45*x49*x45^-1*x37^-1, x37^-2*x39^-1*x37^-2*x39, x39*x45*x27*x45^-1*x39^-1*x27, x45*x39*x37^-1*x45^-1*x39^-1*x37, x49*x3*x49^-1*x14*x3*x14, x39^-1*x37^-1*x53^-2*x37*x39^-1, x14^-1*x45*x3*x45^-1*x3*x14^-1, x62*x49^-1*x14*x49^-1*x62*x14^-1, (x39*x45^-1*x49)^2, x14^-1*x39^-1*x14*x53*x39^-1*x53, x27*x53^-1*x62*x27*x62*x53^-1, x14*x39^-1*x53^-1*x39*x14^-1*x53^-1, x39^-1*x14*x49^-1*x14^-1*x39^-1*x49^-1, (x45^-1*x27*x39)^2, x4*x45*x39^-1*x4*x39^-1*x45^-1, x37*x4*x37^-2*x4*x37, x45^-1*x14^-1*x45*x49^-1*x14^-1*x49^-1, (x45*x27)^2*x14^-2, x45^-1*x14^-1*x37*x14^-1*x45^-1*x37^-1, x53^-1*x37*x3*x53*x37^-1*x3, x45^-1*x37*x49^-1*x37^-1*x49^-1*x45^-1, (x37^-2*x27)^2, x14^-1*x39^-1*x3*x14^-1*x39*x3, (x3*x62*x27)^2, x45^-1*x14^-1*x4*x14*x45*x4, x53^-1*x37*x14^2*x53^-1*x37^-1, x62*x49^-1*x4*x49*x62*x4, x4*x45^-1*x14*x45*x4*x14^-1, x14*x45^-1*x37*x45*x37^-1*x14, x37*x49^-1*x62*x37^-1*x49^-1*x62, x45*x37*x14^-1*x45*x14*x37^-1, x14^-2*x37*x3*x37^-1*x3, x45^-1*x37*x4*x37^-1*x45*x4, x14^-1*x37*x14^-1*x27*x37^-1*x27, x4*x39^-1*x4*x37*x39*x37^-1, x37*x39^-1*x27*x39^-1*x37^-1*x27, x37*x27*x37^-1*x14^-1*x27*x14, x27*x45*x4*x27*x45^-1*x4, x39^-1*x3*x39*x37^-1*x3*x37, (x53^-1*x45^-2)^2, x62*x45^-1*x53^-1*x62*x45^-1*x14^-2*x53^-1, x37*x62*x3*x37^-2*x62*x3*x37, x53^-1*x62*x37^-2*x62*x53*x37^-2, x14^-1*x37*x62*x14^-1*x39*x62*x37^-1*x39, x37^-2*x62*x45^-1*x62*x37^-2*x45^-1, (x14*x49^-1)^2*(x14*x62)^2 >"
      ]
     },
     "execution_count": 22,
     "metadata": {},
     "output_type": "execute_result"
    }
   ],
   "source": [
    "FGS = FG.simplified()\n",
    "FGS"
   ]
  },
  {
   "cell_type": "code",
   "execution_count": 12,
   "metadata": {},
   "outputs": [
    {
     "ename": "KeyboardInterrupt",
     "evalue": "",
     "output_type": "error",
     "traceback": [
      "\u001b[0;31m---------------------------------------------------------------------------\u001b[0m",
      "\u001b[0;31mKeyboardInterrupt\u001b[0m                         Traceback (most recent call last)",
      "\u001b[0;32m<ipython-input-12-f225da3e486b>\u001b[0m in \u001b[0;36m<module>\u001b[0;34m()\u001b[0m\n\u001b[0;32m----> 1\u001b[0;31m \u001b[0mFGS\u001b[0m\u001b[0;34m.\u001b[0m\u001b[0mstructure_description\u001b[0m\u001b[0;34m(\u001b[0m\u001b[0;34m)\u001b[0m\u001b[0;34m\u001b[0m\u001b[0;34m\u001b[0m\u001b[0m\n\u001b[0m",
      "\u001b[0;32m/home/torstein/TV/sage-9.0/local/lib/python3.7/site-packages/sage/groups/generic.py\u001b[0m in \u001b[0;36mstructure_description\u001b[0;34m(G, latex)\u001b[0m\n\u001b[1;32m   1421\u001b[0m         \u001b[0;32mreturn\u001b[0m \u001b[0;34m\"%sD%d\"\u001b[0m \u001b[0;34m%\u001b[0m \u001b[0;34m(\u001b[0m\u001b[0mmatch\u001b[0m\u001b[0;34m.\u001b[0m\u001b[0mgroup\u001b[0m\u001b[0;34m(\u001b[0m\u001b[0;36m1\u001b[0m\u001b[0;34m)\u001b[0m\u001b[0;34m,\u001b[0m \u001b[0mint\u001b[0m\u001b[0;34m(\u001b[0m\u001b[0mmatch\u001b[0m\u001b[0;34m.\u001b[0m\u001b[0mgroup\u001b[0m\u001b[0;34m(\u001b[0m\u001b[0;36m2\u001b[0m\u001b[0;34m)\u001b[0m\u001b[0;34m)\u001b[0m \u001b[0;34m//\u001b[0m \u001b[0;36m2\u001b[0m\u001b[0;34m)\u001b[0m\u001b[0;34m\u001b[0m\u001b[0;34m\u001b[0m\u001b[0m\n\u001b[1;32m   1422\u001b[0m \u001b[0;34m\u001b[0m\u001b[0m\n\u001b[0;32m-> 1423\u001b[0;31m     \u001b[0mdescription\u001b[0m \u001b[0;34m=\u001b[0m \u001b[0mstr\u001b[0m\u001b[0;34m(\u001b[0m\u001b[0mG\u001b[0m\u001b[0;34m.\u001b[0m\u001b[0m_gap_\u001b[0m\u001b[0;34m(\u001b[0m\u001b[0;34m)\u001b[0m\u001b[0;34m.\u001b[0m\u001b[0mStructureDescription\u001b[0m\u001b[0;34m(\u001b[0m\u001b[0;34m)\u001b[0m\u001b[0;34m)\u001b[0m\u001b[0;34m\u001b[0m\u001b[0;34m\u001b[0m\u001b[0m\n\u001b[0m\u001b[1;32m   1424\u001b[0m \u001b[0;34m\u001b[0m\u001b[0m\n\u001b[1;32m   1425\u001b[0m     \u001b[0mdescription\u001b[0m \u001b[0;34m=\u001b[0m \u001b[0mre\u001b[0m\u001b[0;34m.\u001b[0m\u001b[0msub\u001b[0m\u001b[0;34m(\u001b[0m\u001b[0;34mr\"(\\A|\\W)D(\\d+)\"\u001b[0m\u001b[0;34m,\u001b[0m \u001b[0mcorrect_dihedral_degree\u001b[0m\u001b[0;34m,\u001b[0m \u001b[0mdescription\u001b[0m\u001b[0;34m)\u001b[0m\u001b[0;34m\u001b[0m\u001b[0;34m\u001b[0m\u001b[0m\n",
      "\u001b[0;32m/home/torstein/TV/sage-9.0/local/lib/python3.7/site-packages/sage/libs/gap/element.pyx\u001b[0m in \u001b[0;36msage.libs.gap.element.GapElement_MethodProxy.__call__ (build/cythonized/sage/libs/gap/element.c:20359)\u001b[0;34m()\u001b[0m\n\u001b[1;32m   2666\u001b[0m             \u001b[0;32mreturn\u001b[0m \u001b[0mGapElement_Function\u001b[0m\u001b[0;34m.\u001b[0m\u001b[0m__call__\u001b[0m\u001b[0;34m(\u001b[0m\u001b[0mself\u001b[0m\u001b[0;34m,\u001b[0m \u001b[0;34m*\u001b[0m \u001b[0;34m(\u001b[0m\u001b[0;34m[\u001b[0m\u001b[0mself\u001b[0m\u001b[0;34m.\u001b[0m\u001b[0mfirst_argument\u001b[0m\u001b[0;34m]\u001b[0m \u001b[0;34m+\u001b[0m \u001b[0mlist\u001b[0m\u001b[0;34m(\u001b[0m\u001b[0margs\u001b[0m\u001b[0;34m)\u001b[0m\u001b[0;34m)\u001b[0m\u001b[0;34m)\u001b[0m\u001b[0;34m\u001b[0m\u001b[0;34m\u001b[0m\u001b[0m\n\u001b[1;32m   2667\u001b[0m         \u001b[0;32melse\u001b[0m\u001b[0;34m:\u001b[0m\u001b[0;34m\u001b[0m\u001b[0;34m\u001b[0m\u001b[0m\n\u001b[0;32m-> 2668\u001b[0;31m             \u001b[0;32mreturn\u001b[0m \u001b[0mGapElement_Function\u001b[0m\u001b[0;34m.\u001b[0m\u001b[0m__call__\u001b[0m\u001b[0;34m(\u001b[0m\u001b[0mself\u001b[0m\u001b[0;34m,\u001b[0m \u001b[0mself\u001b[0m\u001b[0;34m.\u001b[0m\u001b[0mfirst_argument\u001b[0m\u001b[0;34m)\u001b[0m\u001b[0;34m\u001b[0m\u001b[0;34m\u001b[0m\u001b[0m\n\u001b[0m\u001b[1;32m   2669\u001b[0m \u001b[0;34m\u001b[0m\u001b[0m\n\u001b[1;32m   2670\u001b[0m \u001b[0;34m\u001b[0m\u001b[0m\n",
      "\u001b[0;32m/home/torstein/TV/sage-9.0/local/lib/python3.7/site-packages/sage/libs/gap/element.pyx\u001b[0m in \u001b[0;36msage.libs.gap.element.GapElement_Function.__call__ (build/cythonized/sage/libs/gap/element.c:19304)\u001b[0;34m()\u001b[0m\n\u001b[1;32m   2512\u001b[0m         \u001b[0;32mtry\u001b[0m\u001b[0;34m:\u001b[0m\u001b[0;34m\u001b[0m\u001b[0;34m\u001b[0m\u001b[0m\n\u001b[1;32m   2513\u001b[0m             \u001b[0msig_GAP_Enter\u001b[0m\u001b[0;34m(\u001b[0m\u001b[0;34m)\u001b[0m\u001b[0;34m\u001b[0m\u001b[0;34m\u001b[0m\u001b[0m\n\u001b[0;32m-> 2514\u001b[0;31m             \u001b[0msig_on\u001b[0m\u001b[0;34m(\u001b[0m\u001b[0;34m)\u001b[0m\u001b[0;34m\u001b[0m\u001b[0;34m\u001b[0m\u001b[0m\n\u001b[0m\u001b[1;32m   2515\u001b[0m             \u001b[0;32mif\u001b[0m \u001b[0mn\u001b[0m \u001b[0;34m==\u001b[0m \u001b[0;36m0\u001b[0m\u001b[0;34m:\u001b[0m\u001b[0;34m\u001b[0m\u001b[0;34m\u001b[0m\u001b[0m\n\u001b[1;32m   2516\u001b[0m                 \u001b[0mresult\u001b[0m \u001b[0;34m=\u001b[0m \u001b[0mCALL_0ARGS\u001b[0m\u001b[0;34m(\u001b[0m\u001b[0mself\u001b[0m\u001b[0;34m.\u001b[0m\u001b[0mvalue\u001b[0m\u001b[0;34m)\u001b[0m\u001b[0;34m\u001b[0m\u001b[0;34m\u001b[0m\u001b[0m\n",
      "\u001b[0;31mKeyboardInterrupt\u001b[0m: "
     ]
    }
   ],
   "source": [
    "FGS.structure_description()"
   ]
  },
  {
   "cell_type": "code",
   "execution_count": 23,
   "metadata": {},
   "outputs": [
    {
     "data": {
      "text/plain": [
       "16384"
      ]
     },
     "execution_count": 23,
     "metadata": {},
     "output_type": "execute_result"
    }
   ],
   "source": [
    "FGS.order()"
   ]
  },
  {
   "cell_type": "code",
   "execution_count": 14,
   "metadata": {},
   "outputs": [],
   "source": [
    "FGS1 = FGS"
   ]
  },
  {
   "cell_type": "code",
   "execution_count": 24,
   "metadata": {},
   "outputs": [
    {
     "ename": "KeyboardInterrupt",
     "evalue": "",
     "output_type": "error",
     "traceback": [
      "\u001b[0;31m---------------------------------------------------------------------------\u001b[0m",
      "\u001b[0;31mKeyboardInterrupt\u001b[0m                         Traceback (most recent call last)",
      "\u001b[0;32m<ipython-input-24-084822131a2a>\u001b[0m in \u001b[0;36m<module>\u001b[0;34m()\u001b[0m\n\u001b[0;32m----> 1\u001b[0;31m \u001b[0mFGS1\u001b[0m\u001b[0;34m.\u001b[0m\u001b[0mis_isomorphic\u001b[0m\u001b[0;34m(\u001b[0m\u001b[0mFGS\u001b[0m\u001b[0;34m)\u001b[0m\u001b[0;34m\u001b[0m\u001b[0;34m\u001b[0m\u001b[0m\n\u001b[0m",
      "\u001b[0;32m/home/torstein/TV/sage-9.0/local/lib/python3.7/site-packages/sage/groups/libgap_mixin.py\u001b[0m in \u001b[0;36mis_isomorphic\u001b[0;34m(self, H)\u001b[0m\n\u001b[1;32m    611\u001b[0m             \u001b[0;34m(\u001b[0m\u001b[0;32mFalse\u001b[0m\u001b[0;34m,\u001b[0m \u001b[0;32mFalse\u001b[0m\u001b[0;34m,\u001b[0m \u001b[0;32mFalse\u001b[0m\u001b[0;34m)\u001b[0m\u001b[0;34m\u001b[0m\u001b[0;34m\u001b[0m\u001b[0m\n\u001b[1;32m    612\u001b[0m         \"\"\"\n\u001b[0;32m--> 613\u001b[0;31m         \u001b[0miso\u001b[0m \u001b[0;34m=\u001b[0m \u001b[0mself\u001b[0m\u001b[0;34m.\u001b[0m\u001b[0mgap\u001b[0m\u001b[0;34m(\u001b[0m\u001b[0;34m)\u001b[0m\u001b[0;34m.\u001b[0m\u001b[0mIsomorphismGroups\u001b[0m\u001b[0;34m(\u001b[0m\u001b[0mH\u001b[0m\u001b[0;34m.\u001b[0m\u001b[0mgap\u001b[0m\u001b[0;34m(\u001b[0m\u001b[0;34m)\u001b[0m\u001b[0;34m)\u001b[0m\u001b[0;34m\u001b[0m\u001b[0;34m\u001b[0m\u001b[0m\n\u001b[0m\u001b[1;32m    614\u001b[0m         \u001b[0;32mif\u001b[0m \u001b[0miso\u001b[0m\u001b[0;34m.\u001b[0m\u001b[0mis_bool\u001b[0m\u001b[0;34m(\u001b[0m\u001b[0;34m)\u001b[0m\u001b[0;34m:\u001b[0m   \u001b[0;31m# fail means not isomorphic\u001b[0m\u001b[0;34m\u001b[0m\u001b[0;34m\u001b[0m\u001b[0m\n\u001b[1;32m    615\u001b[0m             \u001b[0;32mtry\u001b[0m\u001b[0;34m:\u001b[0m\u001b[0;34m\u001b[0m\u001b[0;34m\u001b[0m\u001b[0m\n",
      "\u001b[0;32m/home/torstein/TV/sage-9.0/local/lib/python3.7/site-packages/sage/libs/gap/element.pyx\u001b[0m in \u001b[0;36msage.libs.gap.element.GapElement_MethodProxy.__call__ (build/cythonized/sage/libs/gap/element.c:20291)\u001b[0;34m()\u001b[0m\n\u001b[1;32m   2664\u001b[0m         \"\"\"\n\u001b[1;32m   2665\u001b[0m         \u001b[0;32mif\u001b[0m \u001b[0mlen\u001b[0m\u001b[0;34m(\u001b[0m\u001b[0margs\u001b[0m\u001b[0;34m)\u001b[0m \u001b[0;34m>\u001b[0m \u001b[0;36m0\u001b[0m\u001b[0;34m:\u001b[0m\u001b[0;34m\u001b[0m\u001b[0;34m\u001b[0m\u001b[0m\n\u001b[0;32m-> 2666\u001b[0;31m             \u001b[0;32mreturn\u001b[0m \u001b[0mGapElement_Function\u001b[0m\u001b[0;34m.\u001b[0m\u001b[0m__call__\u001b[0m\u001b[0;34m(\u001b[0m\u001b[0mself\u001b[0m\u001b[0;34m,\u001b[0m \u001b[0;34m*\u001b[0m \u001b[0;34m(\u001b[0m\u001b[0;34m[\u001b[0m\u001b[0mself\u001b[0m\u001b[0;34m.\u001b[0m\u001b[0mfirst_argument\u001b[0m\u001b[0;34m]\u001b[0m \u001b[0;34m+\u001b[0m \u001b[0mlist\u001b[0m\u001b[0;34m(\u001b[0m\u001b[0margs\u001b[0m\u001b[0;34m)\u001b[0m\u001b[0;34m)\u001b[0m\u001b[0;34m)\u001b[0m\u001b[0;34m\u001b[0m\u001b[0;34m\u001b[0m\u001b[0m\n\u001b[0m\u001b[1;32m   2667\u001b[0m         \u001b[0;32melse\u001b[0m\u001b[0;34m:\u001b[0m\u001b[0;34m\u001b[0m\u001b[0;34m\u001b[0m\u001b[0m\n\u001b[1;32m   2668\u001b[0m             \u001b[0;32mreturn\u001b[0m \u001b[0mGapElement_Function\u001b[0m\u001b[0;34m.\u001b[0m\u001b[0m__call__\u001b[0m\u001b[0;34m(\u001b[0m\u001b[0mself\u001b[0m\u001b[0;34m,\u001b[0m \u001b[0mself\u001b[0m\u001b[0;34m.\u001b[0m\u001b[0mfirst_argument\u001b[0m\u001b[0;34m)\u001b[0m\u001b[0;34m\u001b[0m\u001b[0;34m\u001b[0m\u001b[0m\n",
      "\u001b[0;32m/home/torstein/TV/sage-9.0/local/lib/python3.7/site-packages/sage/libs/gap/element.pyx\u001b[0m in \u001b[0;36msage.libs.gap.element.GapElement_Function.__call__ (build/cythonized/sage/libs/gap/element.c:19304)\u001b[0;34m()\u001b[0m\n\u001b[1;32m   2512\u001b[0m         \u001b[0;32mtry\u001b[0m\u001b[0;34m:\u001b[0m\u001b[0;34m\u001b[0m\u001b[0;34m\u001b[0m\u001b[0m\n\u001b[1;32m   2513\u001b[0m             \u001b[0msig_GAP_Enter\u001b[0m\u001b[0;34m(\u001b[0m\u001b[0;34m)\u001b[0m\u001b[0;34m\u001b[0m\u001b[0;34m\u001b[0m\u001b[0m\n\u001b[0;32m-> 2514\u001b[0;31m             \u001b[0msig_on\u001b[0m\u001b[0;34m(\u001b[0m\u001b[0;34m)\u001b[0m\u001b[0;34m\u001b[0m\u001b[0;34m\u001b[0m\u001b[0m\n\u001b[0m\u001b[1;32m   2515\u001b[0m             \u001b[0;32mif\u001b[0m \u001b[0mn\u001b[0m \u001b[0;34m==\u001b[0m \u001b[0;36m0\u001b[0m\u001b[0;34m:\u001b[0m\u001b[0;34m\u001b[0m\u001b[0;34m\u001b[0m\u001b[0m\n\u001b[1;32m   2516\u001b[0m                 \u001b[0mresult\u001b[0m \u001b[0;34m=\u001b[0m \u001b[0mCALL_0ARGS\u001b[0m\u001b[0;34m(\u001b[0m\u001b[0mself\u001b[0m\u001b[0;34m.\u001b[0m\u001b[0mvalue\u001b[0m\u001b[0;34m)\u001b[0m\u001b[0;34m\u001b[0m\u001b[0;34m\u001b[0m\u001b[0m\n",
      "\u001b[0;31mKeyboardInterrupt\u001b[0m: "
     ]
    }
   ],
   "source": [
    "FGS1.is_isomorphic(FGS)"
   ]
  },
  {
   "cell_type": "code",
   "execution_count": null,
   "metadata": {},
   "outputs": [],
   "source": []
  },
  {
   "cell_type": "markdown",
   "metadata": {},
   "source": [
    "# Table of computations:\n",
    "\n",
    "C4 : C4 -> C2 x C2 x C2 x (C4 : C4)\n",
    "\n",
    "(C4 x C2) : C2 -> C2 x C2 x C4 x ((C4 x C2) : C2)\n",
    "\n",
    "C2 x D4 -> C2 x C2 x C2 x C2 x C2 x C2 x D4\n",
    "\n",
    "C2 x Q8 -> C2 x C2 x C2 x C2 x C2 x C2 x Q8\n",
    "\n",
    "SmallGroup(64, 135) -> something of order 16384\n",
    "\n",
    "SmallGroup(64, 136) -> something of order 16384"
   ]
  },
  {
   "cell_type": "code",
   "execution_count": null,
   "metadata": {},
   "outputs": [],
   "source": []
  },
  {
   "cell_type": "code",
   "execution_count": 28,
   "metadata": {},
   "outputs": [
    {
     "data": {
      "text/plain": [
       "Finitely presented group < a, b, c, d, e, f | a^2, b^2, e^2, f^2, d^-2*f, f*c^-2, d*e*d^-1*e, c*e*c^-1*e, (a*e)^2, c*d^-1*c^-1*d^-1, (b*d^-1)^2, (a*d^-1)^2, b*c*b*c^-1, e*c*a*c^-1*a, d^-1*(b*a)^2 >"
      ]
     },
     "execution_count": 28,
     "metadata": {},
     "output_type": "execute_result"
    }
   ],
   "source": [
    "G"
   ]
  },
  {
   "cell_type": "code",
   "execution_count": null,
   "metadata": {},
   "outputs": [],
   "source": []
  },
  {
   "cell_type": "code",
   "execution_count": 9,
   "metadata": {},
   "outputs": [
    {
     "data": {
      "text/plain": [
       "(6, a*b^-1)"
      ]
     },
     "execution_count": 9,
     "metadata": {},
     "output_type": "execute_result"
    }
   ],
   "source": [
    "enumed[6]"
   ]
  },
  {
   "cell_type": "code",
   "execution_count": 10,
   "metadata": {},
   "outputs": [
    {
     "data": {
      "text/plain": [
       "(36, a*b^-6)"
      ]
     },
     "execution_count": 10,
     "metadata": {},
     "output_type": "execute_result"
    }
   ],
   "source": [
    "enumed[36]"
   ]
  },
  {
   "cell_type": "code",
   "execution_count": 11,
   "metadata": {},
   "outputs": [
    {
     "data": {
      "text/plain": [
       "(39, b^7)"
      ]
     },
     "execution_count": 11,
     "metadata": {},
     "output_type": "execute_result"
    }
   ],
   "source": [
    "enumed[39]"
   ]
  },
  {
   "cell_type": "code",
   "execution_count": 12,
   "metadata": {},
   "outputs": [
    {
     "data": {
      "text/plain": [
       "(41, a*b^7)"
      ]
     },
     "execution_count": 12,
     "metadata": {},
     "output_type": "execute_result"
    }
   ],
   "source": [
    "enumed[41]"
   ]
  },
  {
   "cell_type": "code",
   "execution_count": null,
   "metadata": {},
   "outputs": [],
   "source": []
  },
  {
   "cell_type": "code",
   "execution_count": null,
   "metadata": {},
   "outputs": [],
   "source": []
  },
  {
   "cell_type": "code",
   "execution_count": 47,
   "metadata": {},
   "outputs": [],
   "source": [
    "#FG.simplification_isomorphism()"
   ]
  },
  {
   "cell_type": "code",
   "execution_count": 58,
   "metadata": {},
   "outputs": [
    {
     "data": {
      "text/plain": [
       "[(0, 1),\n",
       " (1, a),\n",
       " (2, b),\n",
       " (3, b^-1),\n",
       " (4, a*b),\n",
       " (5, a*b^-1),\n",
       " (6, b^2),\n",
       " (7, b^-2),\n",
       " (8, a*b^2),\n",
       " (9, a*b^-2),\n",
       " (10, b^3),\n",
       " (11, a*b^3)]"
      ]
     },
     "execution_count": 58,
     "metadata": {},
     "output_type": "execute_result"
    }
   ],
   "source": [
    "enumed"
   ]
  },
  {
   "cell_type": "code",
   "execution_count": 50,
   "metadata": {},
   "outputs": [
    {
     "data": {
      "text/plain": [
       "Finitely presented group < a, b | a^2, b^16, a^-1*b^-1*a*b >"
      ]
     },
     "execution_count": 50,
     "metadata": {},
     "output_type": "execute_result"
    }
   ],
   "source": [
    "G"
   ]
  },
  {
   "cell_type": "code",
   "execution_count": 44,
   "metadata": {},
   "outputs": [
    {
     "data": {
      "text/plain": [
       "(1, a)"
      ]
     },
     "execution_count": 44,
     "metadata": {},
     "output_type": "execute_result"
    }
   ],
   "source": [
    "enumed[1]"
   ]
  },
  {
   "cell_type": "code",
   "execution_count": 45,
   "metadata": {},
   "outputs": [
    {
     "data": {
      "text/plain": [
       "(4, a*b)"
      ]
     },
     "execution_count": 45,
     "metadata": {},
     "output_type": "execute_result"
    }
   ],
   "source": [
    "enumed[4]"
   ]
  },
  {
   "cell_type": "code",
   "execution_count": 46,
   "metadata": {},
   "outputs": [
    {
     "data": {
      "text/plain": [
       "(8, a*b^2)"
      ]
     },
     "execution_count": 46,
     "metadata": {},
     "output_type": "execute_result"
    }
   ],
   "source": [
    "enumed[8]"
   ]
  },
  {
   "cell_type": "code",
   "execution_count": 47,
   "metadata": {},
   "outputs": [
    {
     "data": {
      "text/plain": [
       "(16, a*b^4)"
      ]
     },
     "execution_count": 47,
     "metadata": {},
     "output_type": "execute_result"
    }
   ],
   "source": [
    "enumed[16]"
   ]
  },
  {
   "cell_type": "code",
   "execution_count": 48,
   "metadata": {},
   "outputs": [
    {
     "data": {
      "text/plain": [
       "(26, b^7)"
      ]
     },
     "execution_count": 48,
     "metadata": {},
     "output_type": "execute_result"
    }
   ],
   "source": [
    "enumed[26]"
   ]
  },
  {
   "cell_type": "code",
   "execution_count": 49,
   "metadata": {},
   "outputs": [
    {
     "data": {
      "text/plain": [
       "(31, a*b^8)"
      ]
     },
     "execution_count": 49,
     "metadata": {},
     "output_type": "execute_result"
    }
   ],
   "source": [
    "enumed[31]"
   ]
  },
  {
   "cell_type": "code",
   "execution_count": null,
   "metadata": {},
   "outputs": [],
   "source": []
  },
  {
   "cell_type": "code",
   "execution_count": 50,
   "metadata": {},
   "outputs": [
    {
     "data": {
      "text/plain": [
       "(1, a)"
      ]
     },
     "execution_count": 50,
     "metadata": {},
     "output_type": "execute_result"
    }
   ],
   "source": [
    "enumed[1]"
   ]
  },
  {
   "cell_type": "code",
   "execution_count": 51,
   "metadata": {},
   "outputs": [
    {
     "data": {
      "text/plain": [
       "(5, a*b)"
      ]
     },
     "execution_count": 51,
     "metadata": {},
     "output_type": "execute_result"
    }
   ],
   "source": [
    "enumed[5]"
   ]
  },
  {
   "cell_type": "code",
   "execution_count": 52,
   "metadata": {},
   "outputs": [
    {
     "data": {
      "text/plain": [
       "(10, a^-2*b)"
      ]
     },
     "execution_count": 52,
     "metadata": {},
     "output_type": "execute_result"
    }
   ],
   "source": [
    "enumed[10]"
   ]
  },
  {
   "cell_type": "code",
   "execution_count": 27,
   "metadata": {},
   "outputs": [
    {
     "data": {
      "text/plain": [
       "(24, a^7)"
      ]
     },
     "execution_count": 27,
     "metadata": {},
     "output_type": "execute_result"
    }
   ],
   "source": [
    "enumed[24]"
   ]
  },
  {
   "cell_type": "code",
   "execution_count": null,
   "metadata": {},
   "outputs": [],
   "source": []
  },
  {
   "cell_type": "code",
   "execution_count": 15,
   "metadata": {},
   "outputs": [
    {
     "data": {
      "text/plain": [
       "Finitely presented group < a, b | a^12, b^2, (a*b)^2 >"
      ]
     },
     "execution_count": 15,
     "metadata": {},
     "output_type": "execute_result"
    }
   ],
   "source": [
    "G"
   ]
  },
  {
   "cell_type": "code",
   "execution_count": null,
   "metadata": {},
   "outputs": [],
   "source": []
  },
  {
   "cell_type": "code",
   "execution_count": 76,
   "metadata": {},
   "outputs": [
    {
     "data": {
      "text/plain": [
       "Dihedral group of order 4 as a permutation group"
      ]
     },
     "execution_count": 76,
     "metadata": {},
     "output_type": "execute_result"
    }
   ],
   "source": [
    "DihedralGroup(2)"
   ]
  },
  {
   "cell_type": "code",
   "execution_count": 80,
   "metadata": {},
   "outputs": [
    {
     "ename": "AttributeError",
     "evalue": "'tuple' object has no attribute 'direct_product'",
     "output_type": "error",
     "traceback": [
      "\u001b[0;31m---------------------------------------------------------------------------\u001b[0m",
      "\u001b[0;31mAttributeError\u001b[0m                            Traceback (most recent call last)",
      "\u001b[0;32m<ipython-input-80-d177d1609981>\u001b[0m in \u001b[0;36m<module>\u001b[0;34m()\u001b[0m\n\u001b[1;32m      1\u001b[0m \u001b[0mD3\u001b[0m \u001b[0;34m=\u001b[0m \u001b[0mDihedralGroup\u001b[0m\u001b[0;34m(\u001b[0m\u001b[0mInteger\u001b[0m\u001b[0;34m(\u001b[0m\u001b[0;36m3\u001b[0m\u001b[0;34m)\u001b[0m\u001b[0;34m)\u001b[0m \u001b[0;31m#groups.presentation.Dihedral(3)\u001b[0m\u001b[0;34m\u001b[0m\u001b[0;34m\u001b[0m\u001b[0m\n\u001b[1;32m      2\u001b[0m \u001b[0mC2\u001b[0m \u001b[0;34m=\u001b[0m \u001b[0mCyclicPermutationGroup\u001b[0m\u001b[0;34m(\u001b[0m\u001b[0mInteger\u001b[0m\u001b[0;34m(\u001b[0m\u001b[0;36m2\u001b[0m\u001b[0;34m)\u001b[0m\u001b[0;34m)\u001b[0m \u001b[0;31m#groups.presentation.Cyclic(2)\u001b[0m\u001b[0;34m\u001b[0m\u001b[0;34m\u001b[0m\u001b[0m\n\u001b[0;32m----> 3\u001b[0;31m \u001b[0mG1\u001b[0m \u001b[0;34m=\u001b[0m \u001b[0mC2\u001b[0m\u001b[0;34m.\u001b[0m\u001b[0mdirect_product\u001b[0m\u001b[0;34m(\u001b[0m\u001b[0mC2\u001b[0m\u001b[0;34m)\u001b[0m\u001b[0;34m.\u001b[0m\u001b[0mdirect_product\u001b[0m\u001b[0;34m(\u001b[0m\u001b[0mD3\u001b[0m\u001b[0;34m)\u001b[0m\u001b[0;34m\u001b[0m\u001b[0;34m\u001b[0m\u001b[0m\n\u001b[0m",
      "\u001b[0;31mAttributeError\u001b[0m: 'tuple' object has no attribute 'direct_product'"
     ]
    }
   ],
   "source": [
    "D3 = DihedralGroup(3) #groups.presentation.Dihedral(3)\n",
    "C2 = CyclicPermutationGroup(2) #groups.presentation.Cyclic(2)\n",
    "G1 = C2.direct_product(C2).direct_product(D3)"
   ]
  },
  {
   "cell_type": "code",
   "execution_count": 81,
   "metadata": {},
   "outputs": [
    {
     "ename": "AttributeError",
     "evalue": "'tuple' object has no attribute 'simplification_isomorphism'",
     "output_type": "error",
     "traceback": [
      "\u001b[0;31m---------------------------------------------------------------------------\u001b[0m",
      "\u001b[0;31mAttributeError\u001b[0m                            Traceback (most recent call last)",
      "\u001b[0;32m<ipython-input-81-32d304e395b7>\u001b[0m in \u001b[0;36m<module>\u001b[0;34m()\u001b[0m\n\u001b[0;32m----> 1\u001b[0;31m \u001b[0mG1\u001b[0m\u001b[0;34m.\u001b[0m\u001b[0msimplification_isomorphism\u001b[0m\u001b[0;34m(\u001b[0m\u001b[0;34m)\u001b[0m\u001b[0;34m\u001b[0m\u001b[0;34m\u001b[0m\u001b[0m\n\u001b[0m",
      "\u001b[0;31mAttributeError\u001b[0m: 'tuple' object has no attribute 'simplification_isomorphism'"
     ]
    }
   ],
   "source": [
    "G1.simplification_isomorphism()"
   ]
  },
  {
   "cell_type": "code",
   "execution_count": null,
   "metadata": {},
   "outputs": [],
   "source": []
  },
  {
   "cell_type": "code",
   "execution_count": 91,
   "metadata": {},
   "outputs": [
    {
     "data": {
      "text/plain": [
       "True"
      ]
     },
     "execution_count": 91,
     "metadata": {},
     "output_type": "execute_result"
    }
   ],
   "source": [
    "D3p = groups.presentation.Dihedral(3)\n",
    "D6p = groups.presentation.Dihedral(6)\n",
    "C2p = groups.presentation.Cyclic(2)\n",
    "C2p.direct_product(D3p).is_isomorphic(D6p)"
   ]
  },
  {
   "cell_type": "code",
   "execution_count": 93,
   "metadata": {},
   "outputs": [
    {
     "data": {
      "text/plain": [
       "'C2 x C2 x S3'"
      ]
     },
     "execution_count": 93,
     "metadata": {},
     "output_type": "execute_result"
    }
   ],
   "source": [
    "C2p.direct_product(D6p).structure_description()"
   ]
  },
  {
   "cell_type": "code",
   "execution_count": null,
   "metadata": {},
   "outputs": [],
   "source": []
  },
  {
   "cell_type": "code",
   "execution_count": 87,
   "metadata": {},
   "outputs": [
    {
     "data": {
      "text/plain": [
       "[Generic morphism:\n",
       "   From: Finitely presented group < x1, x5, x10 | x5^2, x10^2, (x5*x1)^2, (x5*x10)^2, (x10*x1)^2, x1^6 >\n",
       "   To:   Dihedral group of order 6 as a permutation group\n",
       "   Defn: x1 |--> (1,2,3)\n",
       "         x5 |--> (2,3)\n",
       "         x10 |--> (2,3)]"
      ]
     },
     "execution_count": 87,
     "metadata": {},
     "output_type": "execute_result"
    }
   ],
   "source": [
    "FGS.epimorphisms(DihedralGroup(3))"
   ]
  },
  {
   "cell_type": "code",
   "execution_count": null,
   "metadata": {},
   "outputs": [],
   "source": []
  },
  {
   "cell_type": "code",
   "execution_count": 89,
   "metadata": {},
   "outputs": [
    {
     "data": {
      "text/plain": [
       "[Generic morphism:\n",
       "   From: Finitely presented group < a, b | a^6, b^2, (a*b)^2 >\n",
       "   To:   Dihedral group of order 6 as a permutation group\n",
       "   Defn: a |--> (1,2,3)\n",
       "         b |--> (2,3)]"
      ]
     },
     "execution_count": 89,
     "metadata": {},
     "output_type": "execute_result"
    }
   ],
   "source": [
    "groups.presentation.Dihedral(6).epimorphisms(DihedralGroup(3))"
   ]
  },
  {
   "cell_type": "code",
   "execution_count": null,
   "metadata": {},
   "outputs": [],
   "source": []
  },
  {
   "cell_type": "code",
   "execution_count": 83,
   "metadata": {},
   "outputs": [
    {
     "data": {
      "text/plain": [
       "[Generic morphism:\n",
       "   From: Finitely presented group < x1, x5, x10 | x5^2, x10^2, (x5*x1)^2, (x5*x10)^2, (x10*x1)^2, x1^6 >\n",
       "   To:   Dihedral group of order 12 as a permutation group\n",
       "   Defn: x1 |--> (1,2,3,4,5,6)\n",
       "         x5 |--> (2,6)(3,5)\n",
       "         x10 |--> (2,6)(3,5), Generic morphism:\n",
       "   From: Finitely presented group < x1, x5, x10 | x5^2, x10^2, (x5*x1)^2, (x5*x10)^2, (x10*x1)^2, x1^6 >\n",
       "   To:   Dihedral group of order 12 as a permutation group\n",
       "   Defn: x1 |--> (1,2,3,4,5,6)\n",
       "         x5 |--> (1,4)(2,3)(5,6)\n",
       "         x10 |--> (2,6)(3,5), Generic morphism:\n",
       "   From: Finitely presented group < x1, x5, x10 | x5^2, x10^2, (x5*x1)^2, (x5*x10)^2, (x10*x1)^2, x1^6 >\n",
       "   To:   Dihedral group of order 12 as a permutation group\n",
       "   Defn: x1 |--> (1,3,5)(2,4,6)\n",
       "         x5 |--> (1,4)(2,3)(5,6)\n",
       "         x10 |--> (2,6)(3,5)]"
      ]
     },
     "execution_count": 83,
     "metadata": {},
     "output_type": "execute_result"
    }
   ],
   "source": [
    "FGS.epimorphisms(DihedralGroup(6))"
   ]
  },
  {
   "cell_type": "code",
   "execution_count": 84,
   "metadata": {},
   "outputs": [
    {
     "data": {
      "text/plain": [
       "[Generic morphism:\n",
       "   From: Finitely presented group < a, b | a^6, b^2, (a*b)^2 >\n",
       "   To:   Dihedral group of order 12 as a permutation group\n",
       "   Defn: a |--> (1,2,3,4,5,6)\n",
       "         b |--> (2,6)(3,5)]"
      ]
     },
     "execution_count": 84,
     "metadata": {},
     "output_type": "execute_result"
    }
   ],
   "source": [
    "groups.presentation.Dihedral(6).epimorphisms(DihedralGroup(6))"
   ]
  },
  {
   "cell_type": "code",
   "execution_count": null,
   "metadata": {},
   "outputs": [],
   "source": []
  },
  {
   "cell_type": "code",
   "execution_count": 86,
   "metadata": {},
   "outputs": [
    {
     "data": {
      "text/plain": [
       "[Generic morphism:\n",
       "   From: Finitely presented group < x1, x5, x10 | x5^2, x10^2, (x5*x1)^2, (x5*x10)^2, (x10*x1)^2, x1^6 >\n",
       "   To:   Cyclic group of order 2 as a permutation group\n",
       "   Defn: x1 |--> ()\n",
       "         x5 |--> ()\n",
       "         x10 |--> (1,2), Generic morphism:\n",
       "   From: Finitely presented group < x1, x5, x10 | x5^2, x10^2, (x5*x1)^2, (x5*x10)^2, (x10*x1)^2, x1^6 >\n",
       "   To:   Cyclic group of order 2 as a permutation group\n",
       "   Defn: x1 |--> ()\n",
       "         x5 |--> (1,2)\n",
       "         x10 |--> (), Generic morphism:\n",
       "   From: Finitely presented group < x1, x5, x10 | x5^2, x10^2, (x5*x1)^2, (x5*x10)^2, (x10*x1)^2, x1^6 >\n",
       "   To:   Cyclic group of order 2 as a permutation group\n",
       "   Defn: x1 |--> ()\n",
       "         x5 |--> (1,2)\n",
       "         x10 |--> (1,2), Generic morphism:\n",
       "   From: Finitely presented group < x1, x5, x10 | x5^2, x10^2, (x5*x1)^2, (x5*x10)^2, (x10*x1)^2, x1^6 >\n",
       "   To:   Cyclic group of order 2 as a permutation group\n",
       "   Defn: x1 |--> (1,2)\n",
       "         x5 |--> ()\n",
       "         x10 |--> (), Generic morphism:\n",
       "   From: Finitely presented group < x1, x5, x10 | x5^2, x10^2, (x5*x1)^2, (x5*x10)^2, (x10*x1)^2, x1^6 >\n",
       "   To:   Cyclic group of order 2 as a permutation group\n",
       "   Defn: x1 |--> (1,2)\n",
       "         x5 |--> ()\n",
       "         x10 |--> (1,2), Generic morphism:\n",
       "   From: Finitely presented group < x1, x5, x10 | x5^2, x10^2, (x5*x1)^2, (x5*x10)^2, (x10*x1)^2, x1^6 >\n",
       "   To:   Cyclic group of order 2 as a permutation group\n",
       "   Defn: x1 |--> (1,2)\n",
       "         x5 |--> (1,2)\n",
       "         x10 |--> (), Generic morphism:\n",
       "   From: Finitely presented group < x1, x5, x10 | x5^2, x10^2, (x5*x1)^2, (x5*x10)^2, (x10*x1)^2, x1^6 >\n",
       "   To:   Cyclic group of order 2 as a permutation group\n",
       "   Defn: x1 |--> (1,2)\n",
       "         x5 |--> (1,2)\n",
       "         x10 |--> (1,2)]"
      ]
     },
     "execution_count": 86,
     "metadata": {},
     "output_type": "execute_result"
    }
   ],
   "source": [
    "FGS.epimorphisms(CyclicPermutationGroup(2))"
   ]
  },
  {
   "cell_type": "code",
   "execution_count": null,
   "metadata": {},
   "outputs": [],
   "source": []
  },
  {
   "cell_type": "code",
   "execution_count": null,
   "metadata": {},
   "outputs": [],
   "source": []
  },
  {
   "cell_type": "code",
   "execution_count": null,
   "metadata": {},
   "outputs": [],
   "source": [
    "G.inject_variables()"
   ]
  },
  {
   "cell_type": "code",
   "execution_count": null,
   "metadata": {},
   "outputs": [],
   "source": [
    "x = b"
   ]
  },
  {
   "cell_type": "code",
   "execution_count": null,
   "metadata": {},
   "outputs": [],
   "source": [
    "y = a*b*a"
   ]
  },
  {
   "cell_type": "code",
   "execution_count": null,
   "metadata": {},
   "outputs": [],
   "source": [
    "indexOf((y*x)^3)"
   ]
  },
  {
   "cell_type": "code",
   "execution_count": null,
   "metadata": {},
   "outputs": [],
   "source": [
    "enumed[8]"
   ]
  },
  {
   "cell_type": "code",
   "execution_count": null,
   "metadata": {},
   "outputs": [],
   "source": [
    "FGS.inject_variables()"
   ]
  },
  {
   "cell_type": "code",
   "execution_count": null,
   "metadata": {},
   "outputs": [],
   "source": [
    "(x10*x3)^6 == x10^0"
   ]
  },
  {
   "cell_type": "code",
   "execution_count": null,
   "metadata": {},
   "outputs": [],
   "source": []
  },
  {
   "cell_type": "code",
   "execution_count": 74,
   "metadata": {},
   "outputs": [
    {
     "data": {
      "text/plain": [
       "799958220"
      ]
     },
     "execution_count": 74,
     "metadata": {},
     "output_type": "execute_result"
    }
   ],
   "source": [
    "sage.interfaces.gap.get_gap_memory_pool_size()"
   ]
  },
  {
   "cell_type": "code",
   "execution_count": 75,
   "metadata": {},
   "outputs": [],
   "source": [
    "sage.interfaces.gap.set_gap_memory_pool_size(20000000000)"
   ]
  },
  {
   "cell_type": "code",
   "execution_count": null,
   "metadata": {},
   "outputs": [],
   "source": []
  }
 ],
 "metadata": {
  "kernelspec": {
   "display_name": "SageMath 9.0",
   "language": "sage",
   "name": "sagemath"
  },
  "language_info": {
   "codemirror_mode": {
    "name": "ipython",
    "version": 3
   },
   "file_extension": ".py",
   "mimetype": "text/x-python",
   "name": "python",
   "nbconvert_exporter": "python",
   "pygments_lexer": "ipython3",
   "version": "3.7.3"
  }
 },
 "nbformat": 4,
 "nbformat_minor": 2
}
