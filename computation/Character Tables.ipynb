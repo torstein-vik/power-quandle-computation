{
 "cells": [
  {
   "cell_type": "code",
   "execution_count": 2,
   "metadata": {},
   "outputs": [],
   "source": [
    "C = gap.CharacterTable(gap.SymmetricGroup(5))"
   ]
  },
  {
   "cell_type": "code",
   "execution_count": 3,
   "metadata": {},
   "outputs": [
    {
     "data": {
      "text/plain": [
       "CT1\n",
       "\n",
       "     2  3  2  3  1  1  2  .\n",
       "     3  1  1  .  1  1  .  .\n",
       "     5  1  .  .  .  .  .  1\n",
       "\n",
       "       1a 2a 2b 3a 6a 4a 5a\n",
       "    2P 1a 1a 1a 3a 3a 2b 5a\n",
       "    3P 1a 2a 2b 1a 2a 4a 5a\n",
       "    5P 1a 2a 2b 3a 6a 4a 1a\n",
       "\n",
       "X.1     1 -1  1  1 -1 -1  1\n",
       "X.2     4 -2  .  1  1  . -1\n",
       "X.3     5 -1  1 -1 -1  1  .\n",
       "X.4     6  . -2  .  .  .  1\n",
       "X.5     5  1  1 -1  1 -1  .\n",
       "X.6     4  2  .  1 -1  . -1\n",
       "X.7     1  1  1  1  1  1  1"
      ]
     },
     "execution_count": 3,
     "metadata": {},
     "output_type": "execute_result"
    }
   ],
   "source": [
    "gap.Display(C)"
   ]
  },
  {
   "cell_type": "code",
   "execution_count": 4,
   "metadata": {},
   "outputs": [],
   "source": [
    "classes = gap.ConjugacyClasses(C)"
   ]
  },
  {
   "cell_type": "code",
   "execution_count": 5,
   "metadata": {},
   "outputs": [],
   "source": [
    "irr = gap.Irr(C)"
   ]
  },
  {
   "cell_type": "code",
   "execution_count": 6,
   "metadata": {},
   "outputs": [],
   "source": [
    "N = len(classes)"
   ]
  },
  {
   "cell_type": "code",
   "execution_count": 7,
   "metadata": {},
   "outputs": [],
   "source": [
    "def solvePowerSum(zetatype):\n",
    "    lambdas = [1]\n",
    "    for k in range(1, len(zetatype) + 1):\n",
    "        s = 0\n",
    "        for i in range(k):\n",
    "            s += (-1)^i * lambdas[i] * zetatype[k - i - 1]\n",
    "        f = s/(k * (-1)^(k + 1))\n",
    "        lambdas.append(f)\n",
    "    R = PolynomialRing(CC, 't')\n",
    "    f = R(lambdas)\n",
    "    rootsMult = f.roots()\n",
    "    return flatten([m*[-1/r] for r, m in rootsMult]) # Is -1/r right??"
   ]
  },
  {
   "cell_type": "code",
   "execution_count": 8,
   "metadata": {},
   "outputs": [],
   "source": [
    "data = [[None for i in range(N)] for i in range(N)]\n",
    "for chIndex, ch in enumerate(irr):\n",
    "    vals = gap.ValuesOfClassFunction(ch)\n",
    "    dim = vals[1].sage()\n",
    "    compute = 2 * dim + 2 # Optimize\n",
    "    for cl in range(1, N + 1):\n",
    "        zetatype = []\n",
    "        for ex in range(1, compute + 1):\n",
    "            ind = gap.PowerMap(C, ex, cl)\n",
    "            val = vals[ind]\n",
    "            zetatype.append(val)\n",
    "        data[chIndex][cl- 1] = solvePowerSum(zetatype)\n",
    "        "
   ]
  },
  {
   "cell_type": "code",
   "execution_count": null,
   "metadata": {},
   "outputs": [],
   "source": []
  },
  {
   "cell_type": "code",
   "execution_count": null,
   "metadata": {},
   "outputs": [],
   "source": []
  },
  {
   "cell_type": "code",
   "execution_count": null,
   "metadata": {},
   "outputs": [],
   "source": []
  },
  {
   "cell_type": "code",
   "execution_count": null,
   "metadata": {},
   "outputs": [],
   "source": []
  },
  {
   "cell_type": "code",
   "execution_count": null,
   "metadata": {},
   "outputs": [],
   "source": []
  },
  {
   "cell_type": "code",
   "execution_count": null,
   "metadata": {},
   "outputs": [],
   "source": []
  },
  {
   "cell_type": "code",
   "execution_count": null,
   "metadata": {},
   "outputs": [],
   "source": []
  },
  {
   "cell_type": "code",
   "execution_count": 10,
   "metadata": {},
   "outputs": [],
   "source": [
    "def roundSmart(num):\n",
    "    rat = RR(log(num)/(2*pi*I))\n",
    "    return rat.nearby_rational(max_error = 0.01)\n",
    "    #return numerical_approx(num, digits = 2)\n",
    "\n",
    "\n",
    "roundedData = [[[roundSmart(num) for num in item] for item in row] for row in data]"
   ]
  },
  {
   "cell_type": "code",
   "execution_count": null,
   "metadata": {},
   "outputs": [],
   "source": []
  },
  {
   "cell_type": "code",
   "execution_count": 11,
   "metadata": {},
   "outputs": [
    {
     "name": "stdout",
     "output_type": "stream",
     "text": [
      "X.1 & {0} & {\\frac{1}{2}} & {0} & {0}  \\\\\n",
      "X.2 & {0, 0, 0, 0} & {0, \\frac{1}{2}, \\frac{1}{2}, \\frac{1}{2}} & {0, 0, \\frac{1}{2}, \\frac{1}{2}} & {0, 0, -\\frac{1}{3}, \\frac{1}{3}}  \\\\\n",
      "X.3 & {0, 0, 0, 0, 0} & {0, 0, \\frac{1}{2}, \\frac{1}{2}, \\frac{1}{2}} & {0, 0, 0, \\frac{1}{2}, \\frac{1}{2}} & {0, -\\frac{1}{3}, -\\frac{1}{3}, \\frac{1}{3}, \\frac{1}{3}}  \\\\\n",
      "X.4 & {0, 0, 0, 0, 0, 0} & {0, 0, 0, \\frac{1}{2}, \\frac{1}{2}, \\frac{1}{2}} & {0, 0, \\frac{1}{2}, \\frac{1}{2}, \\frac{1}{2}, \\frac{1}{2}} & {0, 0, -\\frac{1}{3}, -\\frac{1}{3}, \\frac{1}{3}, \\frac{1}{3}}  \\\\\n",
      "X.5 & {0, 0, 0, 0, 0} & {0, 0, 0, \\frac{1}{2}, \\frac{1}{2}} & {0, 0, 0, \\frac{1}{2}, \\frac{1}{2}} & {0, -\\frac{1}{3}, -\\frac{1}{3}, \\frac{1}{3}, \\frac{1}{3}}  \\\\\n",
      "X.6 & {0, 0, 0, 0} & {0, 0, 0, \\frac{1}{2}} & {0, 0, \\frac{1}{2}, \\frac{1}{2}} & {0, 0, -\\frac{1}{3}, \\frac{1}{3}}  \\\\\n",
      "X.7 & {0} & {0} & {0} & {0}  \\\\\n"
     ]
    }
   ],
   "source": [
    "for n, row in enumerate(roundedData):\n",
    "    string = \"X.\" + str(n + 1)\n",
    "    \n",
    "    for m in row[:4]:\n",
    "        ms = \"{\" + \", \".join([latex(n) for n in m]) + \"}\"\n",
    "        string += \" & \" + ms\n",
    "    \n",
    "    print(string + \"  \\\\\\\\\")"
   ]
  },
  {
   "cell_type": "code",
   "execution_count": 12,
   "metadata": {},
   "outputs": [
    {
     "name": "stdout",
     "output_type": "stream",
     "text": [
      "X.1 & {\\frac{1}{2}} & {\\frac{1}{2}} & {0}  \\\\\n",
      "X.2 & {0, \\frac{1}{2}, -\\frac{1}{6}, \\frac{1}{6}} & {0, \\frac{1}{2}, -\\frac{1}{4}, \\frac{1}{4}} & {-\\frac{1}{5}, \\frac{1}{5}, -\\frac{2}{5}, \\frac{2}{5}}  \\\\\n",
      "X.3 & {\\frac{1}{2}, -\\frac{1}{6}, \\frac{1}{6}, -\\frac{1}{3}, \\frac{1}{3}} & {0, 0, \\frac{1}{2}, -\\frac{1}{4}, \\frac{1}{4}} & {0, -\\frac{1}{5}, \\frac{1}{5}, -\\frac{2}{5}, \\frac{2}{5}}  \\\\\n",
      "X.4 & {0, \\frac{1}{2}, -\\frac{1}{6}, \\frac{1}{6}, -\\frac{1}{3}, \\frac{1}{3}} & {0, \\frac{1}{2}, -\\frac{1}{4}, -\\frac{1}{4}, \\frac{1}{4}, \\frac{1}{4}} & {0, 0, -\\frac{1}{5}, \\frac{1}{5}, -\\frac{2}{5}, \\frac{2}{5}}  \\\\\n",
      "X.5 & {0, -\\frac{1}{6}, \\frac{1}{6}, -\\frac{1}{3}, \\frac{1}{3}} & {0, \\frac{1}{2}, \\frac{1}{2}, -\\frac{1}{4}, \\frac{1}{4}} & {0, -\\frac{1}{5}, \\frac{1}{5}, -\\frac{2}{5}, \\frac{2}{5}}  \\\\\n",
      "X.6 & {0, \\frac{1}{2}, -\\frac{1}{3}, \\frac{1}{3}} & {0, \\frac{1}{2}, -\\frac{1}{4}, \\frac{1}{4}} & {-\\frac{1}{5}, \\frac{1}{5}, -\\frac{2}{5}, \\frac{2}{5}}  \\\\\n",
      "X.7 & {0} & {0} & {0}  \\\\\n"
     ]
    }
   ],
   "source": [
    "for n, row in enumerate(roundedData):\n",
    "    string = \"X.\" + str(n + 1)\n",
    "    \n",
    "    for m in row[4:]:\n",
    "        ms = \"{\" + \", \".join([latex(n) for n in m]) + \"}\"\n",
    "        string += \" & \" + ms\n",
    "    \n",
    "    print(string + \"  \\\\\\\\\")"
   ]
  },
  {
   "cell_type": "code",
   "execution_count": 13,
   "metadata": {},
   "outputs": [
    {
     "name": "stdout",
     "output_type": "stream",
     "text": [
      "X.1 & {0} & {\\frac{1}{2}} & {0} & {0} & {\\frac{1}{2}} & {\\frac{1}{2}} & {0}  \\\\\n",
      "X.2 & {0, 0, 0, 0} & {0, \\frac{1}{2}, \\frac{1}{2}, \\frac{1}{2}} & {0, 0, \\frac{1}{2}, \\frac{1}{2}} & {0, 0, -\\frac{1}{3}, \\frac{1}{3}} & {0, \\frac{1}{2}, -\\frac{1}{6}, \\frac{1}{6}} & {0, \\frac{1}{2}, -\\frac{1}{4}, \\frac{1}{4}} & {-\\frac{1}{5}, \\frac{1}{5}, -\\frac{2}{5}, \\frac{2}{5}}  \\\\\n",
      "X.3 & {0, 0, 0, 0, 0} & {0, 0, \\frac{1}{2}, \\frac{1}{2}, \\frac{1}{2}} & {0, 0, 0, \\frac{1}{2}, \\frac{1}{2}} & {0, -\\frac{1}{3}, -\\frac{1}{3}, \\frac{1}{3}, \\frac{1}{3}} & {\\frac{1}{2}, -\\frac{1}{6}, \\frac{1}{6}, -\\frac{1}{3}, \\frac{1}{3}} & {0, 0, \\frac{1}{2}, -\\frac{1}{4}, \\frac{1}{4}} & {0, -\\frac{1}{5}, \\frac{1}{5}, -\\frac{2}{5}, \\frac{2}{5}}  \\\\\n",
      "X.4 & {0, 0, 0, 0, 0, 0} & {0, 0, 0, \\frac{1}{2}, \\frac{1}{2}, \\frac{1}{2}} & {0, 0, \\frac{1}{2}, \\frac{1}{2}, \\frac{1}{2}, \\frac{1}{2}} & {0, 0, -\\frac{1}{3}, -\\frac{1}{3}, \\frac{1}{3}, \\frac{1}{3}} & {0, \\frac{1}{2}, -\\frac{1}{6}, \\frac{1}{6}, -\\frac{1}{3}, \\frac{1}{3}} & {0, \\frac{1}{2}, -\\frac{1}{4}, -\\frac{1}{4}, \\frac{1}{4}, \\frac{1}{4}} & {0, 0, -\\frac{1}{5}, \\frac{1}{5}, -\\frac{2}{5}, \\frac{2}{5}}  \\\\\n",
      "X.5 & {0, 0, 0, 0, 0} & {0, 0, 0, \\frac{1}{2}, \\frac{1}{2}} & {0, 0, 0, \\frac{1}{2}, \\frac{1}{2}} & {0, -\\frac{1}{3}, -\\frac{1}{3}, \\frac{1}{3}, \\frac{1}{3}} & {0, -\\frac{1}{6}, \\frac{1}{6}, -\\frac{1}{3}, \\frac{1}{3}} & {0, \\frac{1}{2}, \\frac{1}{2}, -\\frac{1}{4}, \\frac{1}{4}} & {0, -\\frac{1}{5}, \\frac{1}{5}, -\\frac{2}{5}, \\frac{2}{5}}  \\\\\n",
      "X.6 & {0, 0, 0, 0} & {0, 0, 0, \\frac{1}{2}} & {0, 0, \\frac{1}{2}, \\frac{1}{2}} & {0, 0, -\\frac{1}{3}, \\frac{1}{3}} & {0, \\frac{1}{2}, -\\frac{1}{3}, \\frac{1}{3}} & {0, \\frac{1}{2}, -\\frac{1}{4}, \\frac{1}{4}} & {-\\frac{1}{5}, \\frac{1}{5}, -\\frac{2}{5}, \\frac{2}{5}}  \\\\\n",
      "X.7 & {0} & {0} & {0} & {0} & {0} & {0} & {0}  \\\\\n"
     ]
    }
   ],
   "source": [
    "for n, row in enumerate(roundedData):\n",
    "    string = \"X.\" + str(n + 1)\n",
    "    \n",
    "    for m in row:\n",
    "        ms = \"{\" + \", \".join([latex(n) for n in m]) + \"}\"\n",
    "        string += \" & \" + ms\n",
    "    \n",
    "    print(string + \"  \\\\\\\\\")"
   ]
  },
  {
   "cell_type": "code",
   "execution_count": null,
   "metadata": {},
   "outputs": [],
   "source": []
  }
 ],
 "metadata": {
  "kernelspec": {
   "display_name": "SageMath 9.0",
   "language": "sage",
   "name": "sagemath"
  },
  "language_info": {
   "codemirror_mode": {
    "name": "ipython",
    "version": 3
   },
   "file_extension": ".py",
   "mimetype": "text/x-python",
   "name": "python",
   "nbconvert_exporter": "python",
   "pygments_lexer": "ipython3",
   "version": "3.7.3"
  }
 },
 "nbformat": 4,
 "nbformat_minor": 2
}
