{
 "cells": [
  {
   "cell_type": "code",
   "execution_count": null,
   "metadata": {},
   "outputs": [],
   "source": []
  },
  {
   "cell_type": "code",
   "execution_count": 2,
   "metadata": {},
   "outputs": [],
   "source": [
    "def matrixAt(n):\n",
    "    prod = matrix([[1, 0], [0, 1]])\n",
    "    for p, e in list(factor(n)):\n",
    "        pm = matrix([[1, 0], [0, p]])\n",
    "        prod *= pm^e\n",
    "    return prod"
   ]
  },
  {
   "cell_type": "code",
   "execution_count": 3,
   "metadata": {},
   "outputs": [
    {
     "data": {
      "text/plain": [
       "[1 0]\n",
       "[0 4]"
      ]
     },
     "execution_count": 3,
     "metadata": {},
     "output_type": "execute_result"
    }
   ],
   "source": [
    "matrixAt(4)"
   ]
  },
  {
   "cell_type": "code",
   "execution_count": null,
   "metadata": {},
   "outputs": [],
   "source": []
  },
  {
   "cell_type": "code",
   "execution_count": 4,
   "metadata": {},
   "outputs": [
    {
     "data": {
      "text/plain": [
       "[1, 3, 4, 7, 6, 12, 8, 15, 13, 18, 12, 28, 14, 24, 24, 31, 18, 39, 20]"
      ]
     },
     "execution_count": 4,
     "metadata": {},
     "output_type": "execute_result"
    }
   ],
   "source": [
    "[sigma(n) for n in range(1, 20)]"
   ]
  },
  {
   "cell_type": "code",
   "execution_count": 5,
   "metadata": {},
   "outputs": [
    {
     "data": {
      "text/plain": [
       "[2, 3, 4, 5, 6, 7, 8, 9, 10, 11, 12, 13, 14, 15, 16, 17, 18, 19, 20]"
      ]
     },
     "execution_count": 5,
     "metadata": {},
     "output_type": "execute_result"
    }
   ],
   "source": [
    "[matrixAt(n).trace() for n in range(1, 20)]"
   ]
  },
  {
   "cell_type": "code",
   "execution_count": null,
   "metadata": {},
   "outputs": [],
   "source": []
  },
  {
   "cell_type": "raw",
   "metadata": {},
   "source": [
    "A, B\n",
    "\n",
    "tr(A*B) = sum A_ij * B_ji\n",
    "tr(A)*tr(B) = (sum A_ii) * (sum B_jj) = sum A_ii B_jj\n",
    "\n",
    "Equal if A_ij = A_ii and B_ji = B_jj\n",
    "Hmmm, for 2x2:\n",
    "\n",
    "A = [[a, b], [c, d]]\n",
    "B = [[e, f], [g, h]]\n",
    "Then:\n",
    "tr(A) * tr(B) = (a + d)(e + h) = ae + ah + de + dh\n",
    "tr(AB) = ae + bg + cf + dh\n",
    "tr(A) * tr(B) - tr(AB) = ae + ah + de + dh - ae - bg - cf - dh = ah + de - bg - cf = 0\n",
    "ah + de = bg + cf\n"
   ]
  },
  {
   "cell_type": "code",
   "execution_count": null,
   "metadata": {},
   "outputs": [],
   "source": []
  },
  {
   "cell_type": "code",
   "execution_count": 20,
   "metadata": {},
   "outputs": [],
   "source": [
    "def mystery(n):\n",
    "    s = 0\n",
    "    for d in divisors(n):\n",
    "        s += (n/d + 1) * sigma(d)\n",
    "        \n",
    "    return s / sigma(n)"
   ]
  },
  {
   "cell_type": "code",
   "execution_count": null,
   "metadata": {},
   "outputs": [],
   "source": []
  },
  {
   "cell_type": "code",
   "execution_count": 21,
   "metadata": {},
   "outputs": [
    {
     "data": {
      "text/plain": [
       "[(1, 2),\n",
       " (2, 3),\n",
       " (3, 3),\n",
       " (4, 4),\n",
       " (5, 3),\n",
       " (6, 55/12),\n",
       " (7, 3),\n",
       " (8, 5),\n",
       " (9, 4),\n",
       " (10, 83/18),\n",
       " (11, 3),\n",
       " (12, 87/14),\n",
       " (13, 3),\n",
       " (14, 37/8),\n",
       " (15, 14/3),\n",
       " (16, 6),\n",
       " (17, 3),\n",
       " (18, 242/39),\n",
       " (19, 3)]"
      ]
     },
     "execution_count": 21,
     "metadata": {},
     "output_type": "execute_result"
    }
   ],
   "source": [
    "[(n, mystery(n)) for n in range(1, 20)]"
   ]
  },
  {
   "cell_type": "code",
   "execution_count": null,
   "metadata": {},
   "outputs": [],
   "source": []
  },
  {
   "cell_type": "code",
   "execution_count": null,
   "metadata": {},
   "outputs": [],
   "source": []
  },
  {
   "cell_type": "code",
   "execution_count": 17,
   "metadata": {},
   "outputs": [],
   "source": [
    "def mystery2(n):\n",
    "    s = 0\n",
    "    for d in divisors(n):\n",
    "        s += 2 * number_of_divisors(d)\n",
    "        \n",
    "    return s / number_of_divisors(n)"
   ]
  },
  {
   "cell_type": "code",
   "execution_count": 19,
   "metadata": {},
   "outputs": [
    {
     "data": {
      "text/plain": [
       "[(1, 2),\n",
       " (2, 3),\n",
       " (3, 3),\n",
       " (4, 4),\n",
       " (5, 3),\n",
       " (6, 9/2),\n",
       " (7, 3),\n",
       " (8, 5),\n",
       " (9, 4),\n",
       " (10, 9/2),\n",
       " (11, 3),\n",
       " (12, 6),\n",
       " (13, 3),\n",
       " (14, 9/2),\n",
       " (15, 9/2),\n",
       " (16, 6),\n",
       " (17, 3),\n",
       " (18, 6),\n",
       " (19, 3),\n",
       " (20, 6),\n",
       " (21, 9/2),\n",
       " (22, 9/2),\n",
       " (23, 3),\n",
       " (24, 15/2),\n",
       " (25, 4),\n",
       " (26, 9/2),\n",
       " (27, 5),\n",
       " (28, 6),\n",
       " (29, 3),\n",
       " (30, 27/4),\n",
       " (31, 3),\n",
       " (32, 7),\n",
       " (33, 9/2),\n",
       " (34, 9/2),\n",
       " (35, 9/2),\n",
       " (36, 8),\n",
       " (37, 3),\n",
       " (38, 9/2),\n",
       " (39, 9/2)]"
      ]
     },
     "execution_count": 19,
     "metadata": {},
     "output_type": "execute_result"
    }
   ],
   "source": [
    "[(n, mystery2(n)) for n in range(1, 40)]"
   ]
  },
  {
   "cell_type": "code",
   "execution_count": null,
   "metadata": {},
   "outputs": [],
   "source": []
  }
 ],
 "metadata": {
  "kernelspec": {
   "display_name": "SageMath 9.0",
   "language": "sage",
   "name": "sagemath"
  },
  "language_info": {
   "codemirror_mode": {
    "name": "ipython",
    "version": 3
   },
   "file_extension": ".py",
   "mimetype": "text/x-python",
   "name": "python",
   "nbconvert_exporter": "python",
   "pygments_lexer": "ipython3",
   "version": "3.7.3"
  }
 },
 "nbformat": 4,
 "nbformat_minor": 2
}
