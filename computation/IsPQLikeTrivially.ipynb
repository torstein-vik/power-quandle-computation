{
 "cells": [
  {
   "cell_type": "code",
   "execution_count": 16,
   "metadata": {},
   "outputs": [],
   "source": [
    "# generate PQ\n",
    "\n",
    "def generate_pq (G, gens):\n",
    "    pq = set()\n",
    "    queue = [g for g in gens]\n",
    "    \n",
    "    N = len(G)\n",
    "    \n",
    "    rs = G.rewriting_system()\n",
    "    rs.make_confluent()\n",
    "    \n",
    "    while len(queue) > 0:\n",
    "        gpre = queue.pop()\n",
    "        \n",
    "        g = rs.reduce(gpre)\n",
    "        \n",
    "        if g in pq:\n",
    "            continue\n",
    "        \n",
    "        for x in pq:\n",
    "            queue.append(x*g*(x^(-1)))\n",
    "            queue.append(g*x*(g^(-1)))\n",
    "        \n",
    "        for n in range(N):\n",
    "            queue.append(g^n)\n",
    "        \n",
    "        pq.add(g)\n",
    "        \n",
    "    return pq"
   ]
  },
  {
   "cell_type": "code",
   "execution_count": null,
   "metadata": {},
   "outputs": [],
   "source": []
  },
  {
   "cell_type": "code",
   "execution_count": null,
   "metadata": {},
   "outputs": [],
   "source": []
  },
  {
   "cell_type": "code",
   "execution_count": 40,
   "metadata": {},
   "outputs": [],
   "source": [
    "G = groups.presentation.Symmetric(5)"
   ]
  },
  {
   "cell_type": "code",
   "execution_count": 50,
   "metadata": {},
   "outputs": [
    {
     "data": {
      "text/plain": [
       "Finitely presented group < a, b | b^2, a^3*(b*a^-1)^3*b*a, (b*a^2*b*a^-2)^2, (b*a*b*a^-1)^3 >"
      ]
     },
     "execution_count": 50,
     "metadata": {},
     "output_type": "execute_result"
    }
   ],
   "source": [
    "G"
   ]
  },
  {
   "cell_type": "code",
   "execution_count": 41,
   "metadata": {},
   "outputs": [
    {
     "data": {
      "text/plain": [
       "(a, b)"
      ]
     },
     "execution_count": 41,
     "metadata": {},
     "output_type": "execute_result"
    }
   ],
   "source": [
    "G.gens()"
   ]
  },
  {
   "cell_type": "code",
   "execution_count": 42,
   "metadata": {},
   "outputs": [
    {
     "data": {
      "text/plain": [
       "{1,\n",
       " b,\n",
       " b*a^-1*b*a*b,\n",
       " a^-1*b*a,\n",
       " (a^2*b)^2*a*b*a^-1,\n",
       " a*b*a^-1,\n",
       " b*a*b*a^-1*b,\n",
       " a^2*b*a^-2,\n",
       " a*b*a^2*b*a^-1,\n",
       " a^-2*b*a*b*a^-1,\n",
       " a,\n",
       " a^-1*(a^-1*b)^2,\n",
       " b*a*b,\n",
       " b*a^-2*b*a^-1,\n",
       " b*a^-1*b,\n",
       " a^-1,\n",
       " a^-2*b*a^2,\n",
       " a^2*b*a^-1*b*a,\n",
       " a*(a*b)^2,\n",
       " a^-1*b*a^-2*b*a,\n",
       " b*a^2*b*a,\n",
       " a*b*a^-1*b*a^2,\n",
       " a*b*a^2*b,\n",
       " (a*b*a)^2*b,\n",
       " a^-1*b*a^2*b*a,\n",
       " b*a^-2*b,\n",
       " (a*b)^2*a^-1,\n",
       " a^2,\n",
       " a*b*a^-2*b*a^-1,\n",
       " (a^-1*b)^2*a,\n",
       " (a^-1*b*a^-1)^2*b,\n",
       " a^-1*b*a*b*a^-2,\n",
       " a^-2,\n",
       " a^-1*b*a^-2*b,\n",
       " b*a^2*b}"
      ]
     },
     "execution_count": 42,
     "metadata": {},
     "output_type": "execute_result"
    }
   ],
   "source": [
    "pq = generate_pq(G, G.gens()); pq"
   ]
  },
  {
   "cell_type": "code",
   "execution_count": 43,
   "metadata": {},
   "outputs": [
    {
     "data": {
      "text/plain": [
       "35"
      ]
     },
     "execution_count": 43,
     "metadata": {},
     "output_type": "execute_result"
    }
   ],
   "source": [
    "len(pq)"
   ]
  },
  {
   "cell_type": "code",
   "execution_count": 44,
   "metadata": {},
   "outputs": [
    {
     "data": {
      "text/plain": [
       "120"
      ]
     },
     "execution_count": 44,
     "metadata": {},
     "output_type": "execute_result"
    }
   ],
   "source": [
    "len(G)"
   ]
  },
  {
   "cell_type": "code",
   "execution_count": null,
   "metadata": {},
   "outputs": [],
   "source": []
  },
  {
   "cell_type": "code",
   "execution_count": 45,
   "metadata": {},
   "outputs": [],
   "source": [
    "\n",
    "enumed = list(enumerate(pq))\n",
    "#gens = list(G.gens())\n",
    "\n",
    "rs = G.rewriting_system()\n",
    "rs.make_confluent()\n",
    "\n",
    "groupIndex = dict([(rs.reduce(g), i) for i, g in enumed])\n",
    "\n",
    "def indexOf(g):\n",
    "    g1 = rs.reduce(g)\n",
    "    return groupIndex[g1]\n",
    "    #for i, g1 in enumed:\n",
    "        #if g == g1:\n",
    "            #return i\n",
    "\n",
    "def forOneG(t):\n",
    "    (i, g) = t\n",
    "    grelations = []\n",
    "    \n",
    "    indexInv = indexOf(g^(-1))\n",
    "    \n",
    "    for n in range(len(G)):\n",
    "        gn = g^n\n",
    "        if gn == g and n > 1:\n",
    "            break\n",
    "        indexN = indexOf(gn)\n",
    "        grelations.append([indexInv + 1]*n + [indexN + 1])\n",
    "\n",
    "    for i1, g1 in enumed:\n",
    "        #i1 = indexOf(g1)\n",
    "        indexInv1 = indexOf(g1^(-1))\n",
    "        indexInv2 = indexOf((g1*g*g1^(-1))^(-1)) \n",
    "        grelations.append([i1 + 1, i + 1, indexInv1 + 1, indexInv2 + 1])\n",
    "\n",
    "    return grelations\n",
    "\n",
    "relations = []\n",
    "\n",
    "#for i, g in enumed:\n",
    "    #rel = forOneG(i, g)\n",
    "    #relations.extend(rel)\n",
    "\n",
    "from multiprocessing import Pool\n",
    "\n",
    "pool = Pool(processes = 7)\n",
    "result = pool.map(forOneG, enumed)\n",
    "relations = [rel for rels in result for rel in rels]\n",
    "pool.close()\n",
    "pool.join()"
   ]
  },
  {
   "cell_type": "code",
   "execution_count": 46,
   "metadata": {},
   "outputs": [],
   "source": [
    "FreeG = FreeGroup(len(pq))"
   ]
  },
  {
   "cell_type": "code",
   "execution_count": 47,
   "metadata": {},
   "outputs": [],
   "source": [
    "FG = FreeG / relations"
   ]
  },
  {
   "cell_type": "code",
   "execution_count": 48,
   "metadata": {},
   "outputs": [
    {
     "data": {
      "text/plain": [
       "Finitely presented group < x7, x30 | x30^2, x7^5, (x30*x7^-1)^4, (x30*x7^2*x30*x7^-2)^2, (x7^-1*x30*x7*x30)^3 >"
      ]
     },
     "execution_count": 48,
     "metadata": {},
     "output_type": "execute_result"
    }
   ],
   "source": [
    "FGS = FG.simplified()\n",
    "FGS"
   ]
  },
  {
   "cell_type": "code",
   "execution_count": 49,
   "metadata": {},
   "outputs": [
    {
     "data": {
      "text/plain": [
       "'S5'"
      ]
     },
     "execution_count": 49,
     "metadata": {},
     "output_type": "execute_result"
    }
   ],
   "source": [
    "FGS.structure_description()"
   ]
  },
  {
   "cell_type": "code",
   "execution_count": null,
   "metadata": {},
   "outputs": [],
   "source": []
  }
 ],
 "metadata": {
  "kernelspec": {
   "display_name": "SageMath 9.0",
   "language": "sage",
   "name": "sagemath"
  },
  "language_info": {
   "codemirror_mode": {
    "name": "ipython",
    "version": 3
   },
   "file_extension": ".py",
   "mimetype": "text/x-python",
   "name": "python",
   "nbconvert_exporter": "python",
   "pygments_lexer": "ipython3",
   "version": "3.7.3"
  }
 },
 "nbformat": 4,
 "nbformat_minor": 2
}
