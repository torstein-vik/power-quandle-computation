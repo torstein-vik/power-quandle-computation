{
 "cells": [
  {
   "cell_type": "code",
   "execution_count": 1,
   "metadata": {},
   "outputs": [],
   "source": [
    "# generate PQ\n",
    "\n",
    "def generate_pq (G, gens):\n",
    "    pq = set()\n",
    "    queue = [g for g in gens]\n",
    "    \n",
    "    N = len(G)\n",
    "    \n",
    "    rs = G.rewriting_system()\n",
    "    rs.make_confluent()\n",
    "    \n",
    "    while len(queue) > 0:\n",
    "        gpre = queue.pop()\n",
    "        \n",
    "        g = rs.reduce(gpre)\n",
    "        \n",
    "        if g in pq:\n",
    "            continue\n",
    "        \n",
    "        for x in pq:\n",
    "            queue.append(x*g*(x^(-1)))\n",
    "            queue.append(g*x*(g^(-1)))\n",
    "        \n",
    "        for n in range(N):\n",
    "            queue.append(g^n)\n",
    "        \n",
    "        pq.add(g)\n",
    "        \n",
    "    return pq"
   ]
  },
  {
   "cell_type": "code",
   "execution_count": null,
   "metadata": {},
   "outputs": [],
   "source": []
  },
  {
   "cell_type": "code",
   "execution_count": 2,
   "metadata": {},
   "outputs": [],
   "source": [
    "def get_gap_group(n, i):\n",
    "    return PermutationGroup(gap_group = gap.Image(gap.IsomorphismPermGroup(gap.SmallGroup(n, i)))).as_finitely_presented_group()"
   ]
  },
  {
   "cell_type": "code",
   "execution_count": 3,
   "metadata": {},
   "outputs": [],
   "source": [
    "G = get_gap_group(64, 135)"
   ]
  },
  {
   "cell_type": "code",
   "execution_count": 4,
   "metadata": {},
   "outputs": [
    {
     "data": {
      "text/plain": [
       "Finitely presented group < a, b, c, d, e, f | a^2, b^2, e^2, f^2, d^-2*f, f*c^-2, d*e*d^-1*e, c*e*c^-1*e, (a*e)^2, c*d^-1*c^-1*d^-1, (b*d^-1)^2, (a*d^-1)^2, b*c*b*c^-1, e*c*a*c^-1*a, d^-1*(b*a)^2 >"
      ]
     },
     "execution_count": 4,
     "metadata": {},
     "output_type": "execute_result"
    }
   ],
   "source": [
    "G"
   ]
  },
  {
   "cell_type": "code",
   "execution_count": 19,
   "metadata": {},
   "outputs": [
    {
     "data": {
      "text/plain": [
       "'(C8 : (C2 x C2)) : C2'"
      ]
     },
     "execution_count": 19,
     "metadata": {},
     "output_type": "execute_result"
    }
   ],
   "source": [
    "G.structure_description()"
   ]
  },
  {
   "cell_type": "code",
   "execution_count": 5,
   "metadata": {},
   "outputs": [
    {
     "data": {
      "text/plain": [
       "(a, b, c, d, e, f)"
      ]
     },
     "execution_count": 5,
     "metadata": {},
     "output_type": "execute_result"
    }
   ],
   "source": [
    "G.gens()"
   ]
  },
  {
   "cell_type": "code",
   "execution_count": 6,
   "metadata": {},
   "outputs": [
    {
     "data": {
      "text/plain": [
       "{1,\n",
       " a,\n",
       " b,\n",
       " c,\n",
       " d,\n",
       " e,\n",
       " f,\n",
       " a*d,\n",
       " a*e,\n",
       " a*f,\n",
       " b*d,\n",
       " b*f,\n",
       " c*e,\n",
       " c^-1,\n",
       " d^-1,\n",
       " e*f,\n",
       " a*d*e,\n",
       " a*d^-1,\n",
       " a*e*f,\n",
       " b*d^-1,\n",
       " c^-1*e,\n",
       " a*d^-1*e}"
      ]
     },
     "execution_count": 6,
     "metadata": {},
     "output_type": "execute_result"
    }
   ],
   "source": [
    "pq = generate_pq(G, G.gens()); pq"
   ]
  },
  {
   "cell_type": "code",
   "execution_count": 7,
   "metadata": {},
   "outputs": [
    {
     "data": {
      "text/plain": [
       "22"
      ]
     },
     "execution_count": 7,
     "metadata": {},
     "output_type": "execute_result"
    }
   ],
   "source": [
    "len(pq)"
   ]
  },
  {
   "cell_type": "code",
   "execution_count": 8,
   "metadata": {},
   "outputs": [
    {
     "data": {
      "text/plain": [
       "64"
      ]
     },
     "execution_count": 8,
     "metadata": {},
     "output_type": "execute_result"
    }
   ],
   "source": [
    "len(G)"
   ]
  },
  {
   "cell_type": "code",
   "execution_count": 45,
   "metadata": {},
   "outputs": [
    {
     "data": {
      "text/plain": [
       "[(0, 1),\n",
       " (1, a),\n",
       " (2, b),\n",
       " (3, c),\n",
       " (4, c^-1),\n",
       " (5, d),\n",
       " (6, d^-1),\n",
       " (7, e),\n",
       " (8, f),\n",
       " (9, a*b),\n",
       " (10, a*c),\n",
       " (11, a*c^-1),\n",
       " (12, a*d),\n",
       " (13, a*d^-1),\n",
       " (14, a*e),\n",
       " (15, a*f),\n",
       " (16, b*a),\n",
       " (17, b*c),\n",
       " (18, b*c^-1),\n",
       " (19, b*d),\n",
       " (20, b*d^-1),\n",
       " (21, b*e),\n",
       " (22, b*f),\n",
       " (23, c*a),\n",
       " (24, c*d),\n",
       " (25, c*d^-1),\n",
       " (26, c*e),\n",
       " (27, c^-1*a),\n",
       " (28, c^-1*e),\n",
       " (29, d*e),\n",
       " (30, d^-1*e),\n",
       " (31, e*b),\n",
       " (32, e*f),\n",
       " (33, a*b*c),\n",
       " (34, a*b*c^-1),\n",
       " (35, a*b*d^-1),\n",
       " (36, a*b*e),\n",
       " (37, a*b*f),\n",
       " (38, a*c*d),\n",
       " (39, a*c*d^-1),\n",
       " (40, a*d*e),\n",
       " (41, a*d^-1*e),\n",
       " (42, a*e*b),\n",
       " (43, a*e*f),\n",
       " (44, b*a*c),\n",
       " (45, b*a*c^-1),\n",
       " (46, b*a*e),\n",
       " (47, b*c*a),\n",
       " (48, b*c*d),\n",
       " (49, b*c*d^-1),\n",
       " (50, b*c*e),\n",
       " (51, b*c^-1*a),\n",
       " (52, b*c^-1*e),\n",
       " (53, b*d*e),\n",
       " (54, b*d^-1*e),\n",
       " (55, c*a*b),\n",
       " (56, c*a*d),\n",
       " (57, c*a*d^-1),\n",
       " (58, c*d*e),\n",
       " (59, c*d^-1*e),\n",
       " (60, c^-1*a*b),\n",
       " (61, e*b*a),\n",
       " (62, a*b*c*a),\n",
       " (63, a*b*c^-1*a)]"
      ]
     },
     "execution_count": 45,
     "metadata": {},
     "output_type": "execute_result"
    }
   ],
   "source": [
    "list(enumerate(G))"
   ]
  },
  {
   "cell_type": "code",
   "execution_count": 66,
   "metadata": {},
   "outputs": [
    {
     "data": {
      "text/plain": [
       "(a*d^-1, b*d^-1, a*b*c*a, d, a*b, a*b*e)"
      ]
     },
     "execution_count": 66,
     "metadata": {},
     "output_type": "execute_result"
    }
   ],
   "source": [
    "custom_gen = (list(G)[13], list(G)[20], list(G)[62], list(G)[5], list(G)[9], list(G)[36]); custom_gen"
   ]
  },
  {
   "cell_type": "code",
   "execution_count": 67,
   "metadata": {},
   "outputs": [
    {
     "data": {
      "text/plain": [
       "{1,\n",
       " a,\n",
       " b,\n",
       " d,\n",
       " f,\n",
       " a*b,\n",
       " a*d,\n",
       " a*e,\n",
       " a*f,\n",
       " b*c,\n",
       " b*d,\n",
       " b*f,\n",
       " d^-1,\n",
       " b*a,\n",
       " a*b*e,\n",
       " a*b*f,\n",
       " a*d*e,\n",
       " a*d^-1,\n",
       " a*e*f,\n",
       " b*c^-1,\n",
       " b*d^-1,\n",
       " b*a*e,\n",
       " a*b*d^-1,\n",
       " a*e*b,\n",
       " a*d^-1*e,\n",
       " a*b*c^-1*a,\n",
       " e*b*a,\n",
       " a*b*c*a}"
      ]
     },
     "execution_count": 67,
     "metadata": {},
     "output_type": "execute_result"
    }
   ],
   "source": [
    "pq1 = generate_pq(G, custom_gen); pq1"
   ]
  },
  {
   "cell_type": "code",
   "execution_count": 68,
   "metadata": {},
   "outputs": [
    {
     "data": {
      "text/plain": [
       "28"
      ]
     },
     "execution_count": 68,
     "metadata": {},
     "output_type": "execute_result"
    }
   ],
   "source": [
    "len(pq1)"
   ]
  },
  {
   "cell_type": "code",
   "execution_count": null,
   "metadata": {},
   "outputs": [],
   "source": []
  },
  {
   "cell_type": "code",
   "execution_count": null,
   "metadata": {},
   "outputs": [],
   "source": []
  },
  {
   "cell_type": "code",
   "execution_count": null,
   "metadata": {},
   "outputs": [],
   "source": []
  },
  {
   "cell_type": "code",
   "execution_count": 9,
   "metadata": {},
   "outputs": [],
   "source": [
    "\n",
    "enumed = list(enumerate(pq))\n",
    "#gens = list(G.gens())\n",
    "\n",
    "rs = G.rewriting_system()\n",
    "rs.make_confluent()\n",
    "\n",
    "groupIndex = dict([(rs.reduce(g), i) for i, g in enumed])\n",
    "\n",
    "def indexOf(g):\n",
    "    g1 = rs.reduce(g)\n",
    "    return groupIndex[g1]\n",
    "    #for i, g1 in enumed:\n",
    "        #if g == g1:\n",
    "            #return i\n",
    "\n",
    "def forOneG(t):\n",
    "    (i, g) = t\n",
    "    grelations = []\n",
    "    \n",
    "    indexInv = indexOf(g^(-1))\n",
    "    \n",
    "    for n in range(len(G)):\n",
    "        gn = g^n\n",
    "        if gn == g and n > 1:\n",
    "            break\n",
    "        indexN = indexOf(gn)\n",
    "        grelations.append([indexInv + 1]*n + [indexN + 1])\n",
    "\n",
    "    for i1, g1 in enumed:\n",
    "        #i1 = indexOf(g1)\n",
    "        indexInv1 = indexOf(g1^(-1))\n",
    "        indexInv2 = indexOf((g1*g*g1^(-1))^(-1)) \n",
    "        grelations.append([i1 + 1, i + 1, indexInv1 + 1, indexInv2 + 1])\n",
    "\n",
    "    return grelations\n",
    "\n",
    "relations = []\n",
    "\n",
    "#for i, g in enumed:\n",
    "    #rel = forOneG(i, g)\n",
    "    #relations.extend(rel)\n",
    "\n",
    "from multiprocessing import Pool\n",
    "\n",
    "pool = Pool(processes = 7)\n",
    "result = pool.map(forOneG, enumed)\n",
    "relations = [rel for rels in result for rel in rels]\n",
    "pool.close()\n",
    "pool.join()"
   ]
  },
  {
   "cell_type": "code",
   "execution_count": null,
   "metadata": {},
   "outputs": [],
   "source": []
  },
  {
   "cell_type": "code",
   "execution_count": 10,
   "metadata": {},
   "outputs": [],
   "source": [
    "FreeG = FreeGroup(len(pq))"
   ]
  },
  {
   "cell_type": "code",
   "execution_count": 11,
   "metadata": {},
   "outputs": [],
   "source": [
    "FG = FreeG / relations"
   ]
  },
  {
   "cell_type": "code",
   "execution_count": 12,
   "metadata": {},
   "outputs": [
    {
     "data": {
      "text/plain": [
       "Finitely presented group < x1, x2, x3, x7, x16 | x2^2, x3^2, x16^2, x7*x1^-2*x7, x1*x7^-1*x1*x7, x16*x7^-1*x16*x7, (x3*x2)^2, (x1^-1*x3)^2, x1^-1*x2*x1*x2, x2*x7^-1*x2*x7, (x16*x1^-1)^2, x2*x1^-1*x16*x1*x2*x16, (x3*x16*x3*x7)^2, (x16*x3*x16*x2)^2, (x7*x3)^4, x3*x16*x2*(x3*x16)^3*x2 >"
      ]
     },
     "execution_count": 12,
     "metadata": {},
     "output_type": "execute_result"
    }
   ],
   "source": [
    "FGS = FG.simplified()\n",
    "FGS"
   ]
  },
  {
   "cell_type": "code",
   "execution_count": 13,
   "metadata": {},
   "outputs": [
    {
     "data": {
      "text/plain": [
       "'C2 x C2 x (((C2 x Q8) : C2) : C2)'"
      ]
     },
     "execution_count": 13,
     "metadata": {},
     "output_type": "execute_result"
    }
   ],
   "source": [
    "FGS.structure_description()"
   ]
  },
  {
   "cell_type": "code",
   "execution_count": 14,
   "metadata": {},
   "outputs": [
    {
     "data": {
      "text/plain": [
       "(x1, x2, x3, x7, x16)"
      ]
     },
     "execution_count": 14,
     "metadata": {},
     "output_type": "execute_result"
    }
   ],
   "source": [
    "FGS.gens()"
   ]
  },
  {
   "cell_type": "code",
   "execution_count": 16,
   "metadata": {},
   "outputs": [
    {
     "data": {
      "text/plain": [
       "256"
      ]
     },
     "execution_count": 16,
     "metadata": {},
     "output_type": "execute_result"
    }
   ],
   "source": [
    "FGS.order()"
   ]
  },
  {
   "cell_type": "code",
   "execution_count": 15,
   "metadata": {},
   "outputs": [
    {
     "data": {
      "text/plain": [
       "False"
      ]
     },
     "execution_count": 15,
     "metadata": {},
     "output_type": "execute_result"
    }
   ],
   "source": [
    "FGS.is_isomorphic(G)"
   ]
  },
  {
   "cell_type": "code",
   "execution_count": null,
   "metadata": {},
   "outputs": [],
   "source": []
  },
  {
   "cell_type": "code",
   "execution_count": null,
   "metadata": {},
   "outputs": [],
   "source": []
  },
  {
   "cell_type": "code",
   "execution_count": null,
   "metadata": {},
   "outputs": [],
   "source": []
  },
  {
   "cell_type": "code",
   "execution_count": null,
   "metadata": {},
   "outputs": [],
   "source": []
  },
  {
   "cell_type": "code",
   "execution_count": null,
   "metadata": {},
   "outputs": [],
   "source": []
  },
  {
   "cell_type": "code",
   "execution_count": null,
   "metadata": {},
   "outputs": [],
   "source": []
  }
 ],
 "metadata": {
  "kernelspec": {
   "display_name": "SageMath 9.0",
   "language": "sage",
   "name": "sagemath"
  },
  "language_info": {
   "codemirror_mode": {
    "name": "ipython",
    "version": 3
   },
   "file_extension": ".py",
   "mimetype": "text/x-python",
   "name": "python",
   "nbconvert_exporter": "python",
   "pygments_lexer": "ipython3",
   "version": "3.7.3"
  }
 },
 "nbformat": 4,
 "nbformat_minor": 2
}
