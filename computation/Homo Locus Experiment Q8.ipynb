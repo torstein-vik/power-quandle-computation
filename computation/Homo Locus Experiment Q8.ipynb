{
 "cells": [
  {
   "cell_type": "code",
   "execution_count": null,
   "metadata": {},
   "outputs": [],
   "source": []
  },
  {
   "cell_type": "code",
   "execution_count": null,
   "metadata": {},
   "outputs": [],
   "source": []
  },
  {
   "cell_type": "code",
   "execution_count": null,
   "metadata": {},
   "outputs": [],
   "source": []
  },
  {
   "cell_type": "code",
   "execution_count": null,
   "metadata": {},
   "outputs": [],
   "source": []
  },
  {
   "cell_type": "code",
   "execution_count": 2,
   "metadata": {},
   "outputs": [],
   "source": [
    "G = groups.presentation.Quaternion()"
   ]
  },
  {
   "cell_type": "code",
   "execution_count": 3,
   "metadata": {},
   "outputs": [
    {
     "data": {
      "text/plain": [
       "Finitely presented group < a, b | a^4, b^2*a^-2, a*b*a*b^-1 >"
      ]
     },
     "execution_count": 3,
     "metadata": {},
     "output_type": "execute_result"
    }
   ],
   "source": [
    "G"
   ]
  },
  {
   "cell_type": "code",
   "execution_count": 4,
   "metadata": {},
   "outputs": [
    {
     "data": {
      "text/plain": [
       "'Q8'"
      ]
     },
     "execution_count": 4,
     "metadata": {},
     "output_type": "execute_result"
    }
   ],
   "source": [
    "G.structure_description()"
   ]
  },
  {
   "cell_type": "code",
   "execution_count": 5,
   "metadata": {},
   "outputs": [],
   "source": [
    "# Optimization: Cache index of inverse\n",
    "# Optimization: Only look at quandling by generators! Perhaps not...\n",
    "\n",
    "enumed = list(enumerate(G))\n",
    "#gens = list(G.gens())\n",
    "\n",
    "rs = G.rewriting_system()\n",
    "rs.make_confluent()\n",
    "\n",
    "groupIndex = dict([(rs.reduce(g), i) for i, g in enumed])\n",
    "\n",
    "def indexOf(g):\n",
    "    g1 = rs.reduce(g)\n",
    "    return groupIndex[g1]\n",
    "    #for i, g1 in enumed:\n",
    "        #if g == g1:\n",
    "            #return i\n",
    "\n",
    "def forOneG(t):\n",
    "    (i, g) = t\n",
    "    grelations = []\n",
    "    \n",
    "    indexInv = indexOf(g^(-1))\n",
    "    \n",
    "    for n in range(len(G)):\n",
    "        gn = g^n\n",
    "        if gn == g and n > 1:\n",
    "            break\n",
    "        indexN = indexOf(gn)\n",
    "        grelations.append([indexInv + 1]*n + [indexN + 1])\n",
    "\n",
    "    for i1, g1 in enumed:\n",
    "        #i1 = indexOf(g1)\n",
    "        indexInv1 = indexOf(g1^(-1))\n",
    "        indexInv2 = indexOf((g1*g*g1^(-1))^(-1)) \n",
    "        grelations.append([i1 + 1, i + 1, indexInv1 + 1, indexInv2 + 1])\n",
    "\n",
    "    return grelations\n",
    "\n",
    "relations = []\n",
    "\n",
    "#for i, g in enumed:\n",
    "    #rel = forOneG(i, g)\n",
    "    #relations.extend(rel)\n",
    "\n",
    "from multiprocessing import Pool\n",
    "\n",
    "pool = Pool(processes = 7)\n",
    "result = pool.map(forOneG, enumed)\n",
    "relations = [rel for rels in result for rel in rels]\n",
    "pool.close()\n",
    "pool.join()"
   ]
  },
  {
   "cell_type": "code",
   "execution_count": 6,
   "metadata": {},
   "outputs": [],
   "source": [
    "FreeG = FreeGroup(len(G))"
   ]
  },
  {
   "cell_type": "code",
   "execution_count": 7,
   "metadata": {},
   "outputs": [],
   "source": [
    "FG = FreeG / relations"
   ]
  },
  {
   "cell_type": "code",
   "execution_count": 8,
   "metadata": {},
   "outputs": [
    {
     "data": {
      "text/plain": [
       "Finitely presented group < x0, x1, x2, x3, x4, x5, x6, x7 | x0, x0^2, x0^4, x1*x0*x2*x0, x2*x0*x1*x0, x3*x0*x4*x0, x4*x0*x3*x0, (x5*x0)^2, x6*x0*x7*x0, x7*x0*x6*x0, x0, x2*x1, x2^2*x5, x2^4, x2^4*x0, x0*x1*x0*x2, x1^2*x2^2, x2*x1^2*x2, x3*x1*x4*x1, x4*x1*x3*x1, x5*x1*x5*x2, x6*x1*x7*x1, x7*x1*x6*x1, x0, x1*x2, x1^2*x5, x1^4, x1^4*x0, x0*x2*x0*x1, x1*x2^2*x1, x2^2*x1^2, x3*x2*x4*x2, x4*x2*x3*x2, x5*x2*x5*x1, x6*x2*x7*x2, x7*x2*x6*x2, x0, x4*x3, x4^2*x5, x4^4, x4^4*x0, x0*x3*x0*x4, x1*x3*x2*x3, x2*x3*x1*x3, x3^2*x4^2, x4*x3^2*x4, x5*x3*x5*x4, x6*x3*x7*x3, x7*x3*x6*x3, x0, x3*x4, x3^2*x5, x3^4, x3^4*x0, x0*x4*x0*x3, x1*x4*x2*x4, x2*x4*x1*x4, x3*x4^2*x3, x4^2*x3^2, x5*x4*x5*x3, x6*x4*x7*x4, x7*x4*x6*x4, x0, x5^2, x5^2*x0, (x0*x5)^2, x1*x5*x2*x5, x2*x5*x1*x5, x3*x5*x4*x5, x4*x5*x3*x5, x5^4, x6*x5*x7*x5, x7*x5*x6*x5, x0, x7*x6, x7^2*x5, x7^4, x7^4*x0, x0*x6*x0*x7, x1*x6*x2*x6, x2*x6*x1*x6, x3*x6*x4*x6, x4*x6*x3*x6, x5*x6*x5*x7, x6^2*x7^2, x7*x6^2*x7, x0, x6*x7, x6^2*x5, x6^4, x6^4*x0, x0*x7*x0*x6, x1*x7*x2*x7, x2*x7*x1*x7, x3*x7*x4*x7, x4*x7*x3*x7, x5*x7*x5*x6, x6*x7^2*x6, x7^2*x6^2 >"
      ]
     },
     "execution_count": 8,
     "metadata": {},
     "output_type": "execute_result"
    }
   ],
   "source": [
    "FG"
   ]
  },
  {
   "cell_type": "code",
   "execution_count": 9,
   "metadata": {},
   "outputs": [
    {
     "data": {
      "text/plain": [
       "'C2 x Q8'"
      ]
     },
     "execution_count": 9,
     "metadata": {},
     "output_type": "execute_result"
    }
   ],
   "source": [
    "FG.simplified().structure_description()"
   ]
  },
  {
   "cell_type": "code",
   "execution_count": null,
   "metadata": {},
   "outputs": [],
   "source": []
  },
  {
   "cell_type": "code",
   "execution_count": 10,
   "metadata": {},
   "outputs": [],
   "source": [
    "# Eta, takes index of element x in G and returns [x] in Gr Pq G\n",
    "def ofi(i):\n",
    "    return FG.gens()[i]"
   ]
  },
  {
   "cell_type": "code",
   "execution_count": null,
   "metadata": {},
   "outputs": [],
   "source": []
  },
  {
   "cell_type": "code",
   "execution_count": 11,
   "metadata": {},
   "outputs": [],
   "source": [
    "# Multiplies two elements of G by index and returns an index\n",
    "def mul_gi(i, j):\n",
    "    return indexOf(enumed[i][1] * enumed[j][1])\n",
    "\n",
    "def inv_gi(i):\n",
    "    return indexOf(enumed[i][1] ^ (-1))\n",
    "\n",
    "def one_gi():\n",
    "    return 0\n",
    "\n",
    "def pow_gi(i, n):\n",
    "    return indexOf(enumed[i][1] ^ n)\n",
    "\n",
    "def rhd_gi(i, j):\n",
    "    return mul_gi(i, mul_gi(j, inv_gi(i)))"
   ]
  },
  {
   "cell_type": "code",
   "execution_count": null,
   "metadata": {},
   "outputs": [],
   "source": []
  },
  {
   "cell_type": "code",
   "execution_count": 12,
   "metadata": {},
   "outputs": [],
   "source": [
    "def is_homo_locus(i, j):\n",
    "    k = mul_gi(i, j)\n",
    "    return ofi(i) * ofi(j) == ofi(k)"
   ]
  },
  {
   "cell_type": "code",
   "execution_count": null,
   "metadata": {},
   "outputs": [],
   "source": []
  },
  {
   "cell_type": "code",
   "execution_count": 14,
   "metadata": {},
   "outputs": [
    {
     "name": "stdout",
     "output_type": "stream",
     "text": [
      "True\n",
      "True\n",
      "True\n",
      "True\n",
      "True\n",
      "True\n",
      "True\n",
      "True\n"
     ]
    }
   ],
   "source": [
    "for i in range(8):\n",
    "    print(is_homo_locus(i, i))"
   ]
  },
  {
   "cell_type": "code",
   "execution_count": null,
   "metadata": {},
   "outputs": [],
   "source": []
  },
  {
   "cell_type": "code",
   "execution_count": 15,
   "metadata": {},
   "outputs": [],
   "source": [
    "def checkRefl():\n",
    "    for i in range(len(G)):\n",
    "        if not is_homo_locus(i, i):\n",
    "            return False\n",
    "    return True"
   ]
  },
  {
   "cell_type": "code",
   "execution_count": 16,
   "metadata": {},
   "outputs": [
    {
     "data": {
      "text/plain": [
       "True"
      ]
     },
     "execution_count": 16,
     "metadata": {},
     "output_type": "execute_result"
    }
   ],
   "source": [
    "checkRefl()"
   ]
  },
  {
   "cell_type": "code",
   "execution_count": null,
   "metadata": {},
   "outputs": [],
   "source": []
  },
  {
   "cell_type": "code",
   "execution_count": 17,
   "metadata": {},
   "outputs": [],
   "source": [
    "def checkSymm():\n",
    "    for i in range(len(G)):\n",
    "        for j in range(len(G)):\n",
    "            if is_homo_locus(i, j) != is_homo_locus(j, i):\n",
    "                return False\n",
    "    return True"
   ]
  },
  {
   "cell_type": "code",
   "execution_count": 18,
   "metadata": {},
   "outputs": [
    {
     "data": {
      "text/plain": [
       "True"
      ]
     },
     "execution_count": 18,
     "metadata": {},
     "output_type": "execute_result"
    }
   ],
   "source": [
    "checkSymm()"
   ]
  },
  {
   "cell_type": "code",
   "execution_count": null,
   "metadata": {},
   "outputs": [],
   "source": []
  },
  {
   "cell_type": "code",
   "execution_count": 19,
   "metadata": {},
   "outputs": [],
   "source": [
    "def checkTrans():\n",
    "    for i in range(len(G)):\n",
    "        for j in range(len(G)):\n",
    "            for k in range(len(G)):\n",
    "                if is_homo_locus(i, j) and is_homo_locus(j, k) and not is_homo_locus(i, k):\n",
    "                    print(i, j, k)\n",
    "                    return False\n",
    "    return True"
   ]
  },
  {
   "cell_type": "code",
   "execution_count": 20,
   "metadata": {},
   "outputs": [
    {
     "name": "stdout",
     "output_type": "stream",
     "text": [
      "1 0 3\n"
     ]
    },
    {
     "data": {
      "text/plain": [
       "False"
      ]
     },
     "execution_count": 20,
     "metadata": {},
     "output_type": "execute_result"
    }
   ],
   "source": [
    "checkTrans()"
   ]
  },
  {
   "cell_type": "code",
   "execution_count": null,
   "metadata": {},
   "outputs": [],
   "source": []
  },
  {
   "cell_type": "code",
   "execution_count": 21,
   "metadata": {},
   "outputs": [],
   "source": [
    "def checkInv():\n",
    "    for i in range(len(G)):\n",
    "        for j in range(len(G)):\n",
    "            hij = is_homo_locus(i, j)\n",
    "            hijinv = is_homo_locus(inv_gi(i), inv_gi(j))\n",
    "            if hij != hijinv:\n",
    "                return False\n",
    "    return True"
   ]
  },
  {
   "cell_type": "code",
   "execution_count": 22,
   "metadata": {},
   "outputs": [
    {
     "data": {
      "text/plain": [
       "True"
      ]
     },
     "execution_count": 22,
     "metadata": {},
     "output_type": "execute_result"
    }
   ],
   "source": [
    "checkInv()"
   ]
  },
  {
   "cell_type": "code",
   "execution_count": null,
   "metadata": {},
   "outputs": [],
   "source": []
  },
  {
   "cell_type": "code",
   "execution_count": 23,
   "metadata": {},
   "outputs": [],
   "source": [
    "def checkOneInv():\n",
    "    for i in range(len(G)):\n",
    "        for j in range(len(G)):\n",
    "            hij = is_homo_locus(i, j)\n",
    "            hijinv = is_homo_locus(inv_gi(i), j)\n",
    "            if hij != hijinv:\n",
    "                print(i, j)\n",
    "                return False\n",
    "    return True"
   ]
  },
  {
   "cell_type": "code",
   "execution_count": 24,
   "metadata": {},
   "outputs": [
    {
     "data": {
      "text/plain": [
       "True"
      ]
     },
     "execution_count": 24,
     "metadata": {},
     "output_type": "execute_result"
    }
   ],
   "source": [
    "checkOneInv()"
   ]
  },
  {
   "cell_type": "code",
   "execution_count": 25,
   "metadata": {},
   "outputs": [],
   "source": [
    "# This is not true for S4"
   ]
  },
  {
   "cell_type": "code",
   "execution_count": null,
   "metadata": {},
   "outputs": [],
   "source": []
  },
  {
   "cell_type": "code",
   "execution_count": 26,
   "metadata": {},
   "outputs": [],
   "source": [
    "def checkPow():\n",
    "    for i in range(len(G)):\n",
    "        for j in range(len(G)):\n",
    "            hij = is_homo_locus(i, j)\n",
    "            for n in range(len(G)):\n",
    "                hijn = is_homo_locus(pow_gi(i, n), pow_gi(j, n))\n",
    "                if not (hijn or not hij): # a implies b is b or not a\n",
    "                    print(i, j, n)\n",
    "                    return False\n",
    "    return True"
   ]
  },
  {
   "cell_type": "code",
   "execution_count": 27,
   "metadata": {},
   "outputs": [
    {
     "data": {
      "text/plain": [
       "True"
      ]
     },
     "execution_count": 27,
     "metadata": {},
     "output_type": "execute_result"
    }
   ],
   "source": [
    "checkPow()"
   ]
  },
  {
   "cell_type": "code",
   "execution_count": null,
   "metadata": {},
   "outputs": [],
   "source": [
    "# This is not true for S4"
   ]
  },
  {
   "cell_type": "code",
   "execution_count": null,
   "metadata": {},
   "outputs": [],
   "source": []
  },
  {
   "cell_type": "code",
   "execution_count": null,
   "metadata": {},
   "outputs": [],
   "source": []
  },
  {
   "cell_type": "code",
   "execution_count": null,
   "metadata": {},
   "outputs": [],
   "source": []
  },
  {
   "cell_type": "code",
   "execution_count": null,
   "metadata": {},
   "outputs": [],
   "source": []
  },
  {
   "cell_type": "code",
   "execution_count": null,
   "metadata": {},
   "outputs": [],
   "source": []
  },
  {
   "cell_type": "code",
   "execution_count": 28,
   "metadata": {},
   "outputs": [],
   "source": [
    "def checkPowComm():\n",
    "    for i in range(len(G)):\n",
    "        for j in range(len(G)):\n",
    "            hij = is_homo_locus(i, j)\n",
    "            if (mul_gi(i, j) != mul_gi(j, i)): # Check it does commute\n",
    "                continue\n",
    "            for n in range(len(G)):\n",
    "                hijn = is_homo_locus(pow_gi(i, n), pow_gi(j, n))\n",
    "                if not (hijn or not hij): # a implies b is b or not a\n",
    "                    print(i, j, n)\n",
    "                    return False\n",
    "    return True"
   ]
  },
  {
   "cell_type": "code",
   "execution_count": 29,
   "metadata": {},
   "outputs": [
    {
     "data": {
      "text/plain": [
       "True"
      ]
     },
     "execution_count": 29,
     "metadata": {},
     "output_type": "execute_result"
    }
   ],
   "source": [
    "checkPowComm()"
   ]
  },
  {
   "cell_type": "code",
   "execution_count": null,
   "metadata": {},
   "outputs": [],
   "source": []
  },
  {
   "cell_type": "code",
   "execution_count": 30,
   "metadata": {},
   "outputs": [],
   "source": [
    "def checkCommImplies():\n",
    "    for i in range(len(G)):\n",
    "        for j in range(len(G)):\n",
    "            if (mul_gi(i, j) != mul_gi(j, i)): # Check it does commute\n",
    "                continue\n",
    "            hij = is_homo_locus(i, j)\n",
    "            if not hij:\n",
    "                return False\n",
    "    return True"
   ]
  },
  {
   "cell_type": "code",
   "execution_count": 31,
   "metadata": {},
   "outputs": [
    {
     "data": {
      "text/plain": [
       "True"
      ]
     },
     "execution_count": 31,
     "metadata": {},
     "output_type": "execute_result"
    }
   ],
   "source": [
    "checkCommImplies()"
   ]
  },
  {
   "cell_type": "code",
   "execution_count": null,
   "metadata": {},
   "outputs": [],
   "source": [
    "# Interesting! True for both S4 and Q8"
   ]
  },
  {
   "cell_type": "code",
   "execution_count": null,
   "metadata": {},
   "outputs": [],
   "source": []
  },
  {
   "cell_type": "code",
   "execution_count": 32,
   "metadata": {},
   "outputs": [],
   "source": [
    "def checkImpliesComm():\n",
    "    for i in range(len(G)):\n",
    "        for j in range(len(G)):\n",
    "            hij = is_homo_locus(i, j)\n",
    "            if not hij:\n",
    "                continue\n",
    "            if (mul_gi(i, j) != mul_gi(j, i)): # Check it does commute\n",
    "                print(i, j)\n",
    "                return False\n",
    "    return True"
   ]
  },
  {
   "cell_type": "code",
   "execution_count": 33,
   "metadata": {},
   "outputs": [
    {
     "data": {
      "text/plain": [
       "True"
      ]
     },
     "execution_count": 33,
     "metadata": {},
     "output_type": "execute_result"
    }
   ],
   "source": [
    "checkImpliesComm()"
   ]
  },
  {
   "cell_type": "code",
   "execution_count": 34,
   "metadata": {},
   "outputs": [],
   "source": [
    "# Not true for S4"
   ]
  },
  {
   "cell_type": "code",
   "execution_count": null,
   "metadata": {},
   "outputs": [],
   "source": []
  },
  {
   "cell_type": "code",
   "execution_count": null,
   "metadata": {},
   "outputs": [],
   "source": []
  },
  {
   "cell_type": "code",
   "execution_count": 35,
   "metadata": {},
   "outputs": [],
   "source": [
    "def generateNegativeGraph():\n",
    "    graphObj = {}\n",
    "    for i in range(len(G)):\n",
    "        adj = []\n",
    "        for j in range(len(G)):\n",
    "            if not is_homo_locus(i, j):\n",
    "                adj.append(j)\n",
    "        graphObj[i] = adj\n",
    "    return Graph(graphObj)"
   ]
  },
  {
   "cell_type": "code",
   "execution_count": null,
   "metadata": {},
   "outputs": [],
   "source": []
  },
  {
   "cell_type": "code",
   "execution_count": 36,
   "metadata": {},
   "outputs": [],
   "source": [
    "Gr = generateNegativeGraph()"
   ]
  },
  {
   "cell_type": "code",
   "execution_count": 37,
   "metadata": {},
   "outputs": [
    {
     "data": {
      "image/png": "[encoded data removed]",
      "text/plain": [
       "Graphics object consisting of 21 graphics primitives"
      ]
     },
     "execution_count": 37,
     "metadata": {},
     "output_type": "execute_result"
    }
   ],
   "source": [
    "Gr.plot()"
   ]
  },
  {
   "cell_type": "code",
   "execution_count": 38,
   "metadata": {},
   "outputs": [
    {
     "name": "stdout",
     "output_type": "stream",
     "text": [
      "[1, 1, -1, -1, -1, -1, -2.464101615137755?, 4.464101615137755?]\n"
     ]
    }
   ],
   "source": [
    "print(Gr.complement().adjacency_matrix().eigenvalues())"
   ]
  },
  {
   "cell_type": "code",
   "execution_count": 39,
   "metadata": {},
   "outputs": [
    {
     "data": {
      "text/plain": [
       "(8, 12, 16)"
      ]
     },
     "execution_count": 39,
     "metadata": {},
     "output_type": "execute_result"
    }
   ],
   "source": [
    "Gr.order(), Gr.size(), Gr.complement().size()"
   ]
  },
  {
   "cell_type": "code",
   "execution_count": null,
   "metadata": {},
   "outputs": [],
   "source": []
  }
 ],
 "metadata": {
  "kernelspec": {
   "display_name": "SageMath 9.0",
   "language": "sage",
   "name": "sagemath"
  },
  "language_info": {
   "codemirror_mode": {
    "name": "ipython",
    "version": 3
   },
   "file_extension": ".py",
   "mimetype": "text/x-python",
   "name": "python",
   "nbconvert_exporter": "python",
   "pygments_lexer": "ipython3",
   "version": "3.7.3"
  }
 },
 "nbformat": 4,
 "nbformat_minor": 2
}
