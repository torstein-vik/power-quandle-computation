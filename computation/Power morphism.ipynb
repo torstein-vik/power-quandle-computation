{
 "cells": [
  {
   "cell_type": "code",
   "execution_count": 2,
   "metadata": {},
   "outputs": [],
   "source": [
    "C2 = groups.presentation.Cyclic(2)\n",
    "C3 = groups.presentation.Cyclic(3)\n",
    "C4 = groups.presentation.Cyclic(4)\n",
    "G = C2.direct_product(C4)"
   ]
  },
  {
   "cell_type": "code",
   "execution_count": null,
   "metadata": {},
   "outputs": [],
   "source": []
  },
  {
   "cell_type": "code",
   "execution_count": 3,
   "metadata": {},
   "outputs": [],
   "source": [
    "N = len(G)"
   ]
  },
  {
   "cell_type": "code",
   "execution_count": 4,
   "metadata": {},
   "outputs": [],
   "source": [
    "enumed = list(enumerate(G))\n",
    "\n",
    "rs = G.rewriting_system()\n",
    "rs.make_confluent()\n",
    "\n",
    "groupIndex = dict([(rs.reduce(g), i) for i, g in enumed])\n",
    "\n",
    "def indexOf(g):\n",
    "    g1 = rs.reduce(g)\n",
    "    return groupIndex[g1]\n",
    "    #for i, g1 in enumed:\n",
    "        #if g == g1:\n",
    "            #return i\n",
    "            \n",
    "def ofIndex(i):\n",
    "    return enumed[i][1]"
   ]
  },
  {
   "cell_type": "code",
   "execution_count": 5,
   "metadata": {},
   "outputs": [
    {
     "data": {
      "text/plain": [
       "[(0, 1),\n",
       " (1, a),\n",
       " (2, b),\n",
       " (3, b^-1),\n",
       " (4, a*b),\n",
       " (5, a*b^-1),\n",
       " (6, b^2),\n",
       " (7, a*b^2)]"
      ]
     },
     "execution_count": 5,
     "metadata": {},
     "output_type": "execute_result"
    }
   ],
   "source": [
    "enumed"
   ]
  },
  {
   "cell_type": "code",
   "execution_count": 47,
   "metadata": {},
   "outputs": [],
   "source": [
    "def checkPerm(perm):\n",
    "    fdata = list(perm.action(range(N)))\n",
    "    f = lambda x: fdata[x]\n",
    "    for i, x in enumed:\n",
    "        for n in range(N):\n",
    "            lhsIndex = f(indexOf(x^n))\n",
    "            rhsEl = ofIndex(f(i))^n\n",
    "            if ofIndex(lhsIndex) != rhsEl:\n",
    "                return False\n",
    "    return True"
   ]
  },
  {
   "cell_type": "code",
   "execution_count": 59,
   "metadata": {},
   "outputs": [
    {
     "name": "stdout",
     "output_type": "stream",
     "text": [
      "[1, 2, 3, 4, 5, 6, 7, 8]\n",
      "[1, 2, 3, 4, 6, 5, 7, 8]\n",
      "[1, 2, 4, 3, 5, 6, 7, 8]\n",
      "[1, 2, 4, 3, 6, 5, 7, 8]\n",
      "[1, 2, 5, 6, 3, 4, 7, 8]\n",
      "[1, 2, 5, 6, 4, 3, 7, 8]\n",
      "[1, 2, 6, 5, 3, 4, 7, 8]\n",
      "[1, 2, 6, 5, 4, 3, 7, 8]\n",
      "[1, 8, 3, 4, 5, 6, 7, 2]\n",
      "[1, 8, 3, 4, 6, 5, 7, 2]\n",
      "[1, 8, 4, 3, 5, 6, 7, 2]\n",
      "[1, 8, 4, 3, 6, 5, 7, 2]\n",
      "[1, 8, 5, 6, 3, 4, 7, 2]\n",
      "[1, 8, 5, 6, 4, 3, 7, 2]\n",
      "[1, 8, 6, 5, 3, 4, 7, 2]\n",
      "[1, 8, 6, 5, 4, 3, 7, 2]\n"
     ]
    }
   ],
   "source": [
    "powerMorphisms = []\n",
    "for perm in sage.combinat.permutation.Permutations(N):\n",
    "    if (checkPerm(perm)):\n",
    "        powerMorphisms.append(perm)\n",
    "        print(perm)"
   ]
  },
  {
   "cell_type": "code",
   "execution_count": 60,
   "metadata": {},
   "outputs": [
    {
     "data": {
      "text/plain": [
       "[[1, 2, 3, 4, 5, 6, 7, 8],\n",
       " [1, 2, 3, 4, 6, 5, 7, 8],\n",
       " [1, 2, 4, 3, 5, 6, 7, 8],\n",
       " [1, 2, 4, 3, 6, 5, 7, 8],\n",
       " [1, 2, 5, 6, 3, 4, 7, 8],\n",
       " [1, 2, 5, 6, 4, 3, 7, 8],\n",
       " [1, 2, 6, 5, 3, 4, 7, 8],\n",
       " [1, 2, 6, 5, 4, 3, 7, 8],\n",
       " [1, 8, 3, 4, 5, 6, 7, 2],\n",
       " [1, 8, 3, 4, 6, 5, 7, 2],\n",
       " [1, 8, 4, 3, 5, 6, 7, 2],\n",
       " [1, 8, 4, 3, 6, 5, 7, 2],\n",
       " [1, 8, 5, 6, 3, 4, 7, 2],\n",
       " [1, 8, 5, 6, 4, 3, 7, 2],\n",
       " [1, 8, 6, 5, 3, 4, 7, 2],\n",
       " [1, 8, 6, 5, 4, 3, 7, 2]]"
      ]
     },
     "execution_count": 60,
     "metadata": {},
     "output_type": "execute_result"
    }
   ],
   "source": [
    "powerMorphisms"
   ]
  },
  {
   "cell_type": "code",
   "execution_count": null,
   "metadata": {},
   "outputs": [],
   "source": []
  },
  {
   "cell_type": "code",
   "execution_count": 62,
   "metadata": {},
   "outputs": [],
   "source": [
    "def checkHomo(perm):\n",
    "    fdata = list(perm.action(range(N)))\n",
    "    f = lambda x: fdata[x]\n",
    "    for i1, x1 in enumed:\n",
    "        for i2, x2 in enumed:\n",
    "            lhsIndex = f(indexOf(x1 * x2))\n",
    "            rhsEl = ofIndex(f(i1)) * ofIndex(f(i2))\n",
    "            if ofIndex(lhsIndex) != rhsEl:\n",
    "                return False\n",
    "    return True"
   ]
  },
  {
   "cell_type": "code",
   "execution_count": null,
   "metadata": {},
   "outputs": [],
   "source": []
  },
  {
   "cell_type": "code",
   "execution_count": 63,
   "metadata": {},
   "outputs": [],
   "source": [
    "powerMorphismsIsHomo = [(f, checkHomo(f)) for f in powerMorphisms]"
   ]
  },
  {
   "cell_type": "code",
   "execution_count": 64,
   "metadata": {},
   "outputs": [
    {
     "data": {
      "text/plain": [
       "[([1, 2, 3, 4, 5, 6, 7, 8], True),\n",
       " ([1, 2, 3, 4, 6, 5, 7, 8], False),\n",
       " ([1, 2, 4, 3, 5, 6, 7, 8], False),\n",
       " ([1, 2, 4, 3, 6, 5, 7, 8], True),\n",
       " ([1, 2, 5, 6, 3, 4, 7, 8], True),\n",
       " ([1, 2, 5, 6, 4, 3, 7, 8], False),\n",
       " ([1, 2, 6, 5, 3, 4, 7, 8], False),\n",
       " ([1, 2, 6, 5, 4, 3, 7, 8], True),\n",
       " ([1, 8, 3, 4, 5, 6, 7, 2], False),\n",
       " ([1, 8, 3, 4, 6, 5, 7, 2], True),\n",
       " ([1, 8, 4, 3, 5, 6, 7, 2], True),\n",
       " ([1, 8, 4, 3, 6, 5, 7, 2], False),\n",
       " ([1, 8, 5, 6, 3, 4, 7, 2], False),\n",
       " ([1, 8, 5, 6, 4, 3, 7, 2], True),\n",
       " ([1, 8, 6, 5, 3, 4, 7, 2], True),\n",
       " ([1, 8, 6, 5, 4, 3, 7, 2], False)]"
      ]
     },
     "execution_count": 64,
     "metadata": {},
     "output_type": "execute_result"
    }
   ],
   "source": [
    "powerMorphismsIsHomo"
   ]
  },
  {
   "cell_type": "code",
   "execution_count": null,
   "metadata": {},
   "outputs": [],
   "source": []
  },
  {
   "cell_type": "code",
   "execution_count": null,
   "metadata": {},
   "outputs": [],
   "source": []
  },
  {
   "cell_type": "code",
   "execution_count": null,
   "metadata": {},
   "outputs": [],
   "source": []
  },
  {
   "cell_type": "code",
   "execution_count": 50,
   "metadata": {},
   "outputs": [],
   "source": [
    "from sage.groups.abelian_gps.abelian_group_gap import AbelianGroupGap"
   ]
  },
  {
   "cell_type": "code",
   "execution_count": null,
   "metadata": {},
   "outputs": [],
   "source": []
  },
  {
   "cell_type": "code",
   "execution_count": null,
   "metadata": {},
   "outputs": [],
   "source": []
  },
  {
   "cell_type": "code",
   "execution_count": null,
   "metadata": {},
   "outputs": [],
   "source": []
  },
  {
   "cell_type": "code",
   "execution_count": 53,
   "metadata": {},
   "outputs": [],
   "source": [
    "G1 = AbelianGroupGap([4, 2])"
   ]
  },
  {
   "cell_type": "code",
   "execution_count": null,
   "metadata": {},
   "outputs": [],
   "source": []
  },
  {
   "cell_type": "code",
   "execution_count": 58,
   "metadata": {},
   "outputs": [
    {
     "data": {
      "text/plain": [
       "[1,\n",
       " [ f3, f1*f2*f3 ] -> [ f3, f1*f3 ],\n",
       " [ f3, f1*f2*f3 ] -> [ f3, f1*f2 ],\n",
       " [ f3, f1*f2*f3 ] -> [ f3, f1 ],\n",
       " [ f3, f1*f2*f3 ] -> [ f2*f3, f1*f3 ],\n",
       " [ f3, f1*f2*f3 ] -> [ f2*f3, f1*f2*f3 ],\n",
       " [ f3, f1*f2*f3 ] -> [ f2*f3, f1 ],\n",
       " [ f3, f1*f2*f3 ] -> [ f2*f3, f1*f2 ]]"
      ]
     },
     "execution_count": 58,
     "metadata": {},
     "output_type": "execute_result"
    }
   ],
   "source": [
    "list(G1.aut())"
   ]
  },
  {
   "cell_type": "code",
   "execution_count": null,
   "metadata": {},
   "outputs": [],
   "source": []
  }
 ],
 "metadata": {
  "kernelspec": {
   "display_name": "SageMath 9.0",
   "language": "sage",
   "name": "sagemath"
  },
  "language_info": {
   "codemirror_mode": {
    "name": "ipython",
    "version": 3
   },
   "file_extension": ".py",
   "mimetype": "text/x-python",
   "name": "python",
   "nbconvert_exporter": "python",
   "pygments_lexer": "ipython3",
   "version": "3.7.3"
  }
 },
 "nbformat": 4,
 "nbformat_minor": 2
}
