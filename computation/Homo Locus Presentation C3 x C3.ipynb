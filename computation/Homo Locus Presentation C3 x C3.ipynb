{
 "cells": [
  {
   "cell_type": "code",
   "execution_count": null,
   "metadata": {},
   "outputs": [],
   "source": []
  },
  {
   "cell_type": "code",
   "execution_count": null,
   "metadata": {},
   "outputs": [],
   "source": []
  },
  {
   "cell_type": "code",
   "execution_count": null,
   "metadata": {},
   "outputs": [],
   "source": []
  },
  {
   "cell_type": "code",
   "execution_count": null,
   "metadata": {},
   "outputs": [],
   "source": []
  },
  {
   "cell_type": "code",
   "execution_count": 34,
   "metadata": {},
   "outputs": [],
   "source": [
    "C3 = groups.presentation.Cyclic(3)\n",
    "G = C3.direct_product(C3)"
   ]
  },
  {
   "cell_type": "code",
   "execution_count": 35,
   "metadata": {},
   "outputs": [
    {
     "data": {
      "text/plain": [
       "Finitely presented group < a, b | a^3, b^3, a^-1*b^-1*a*b >"
      ]
     },
     "execution_count": 35,
     "metadata": {},
     "output_type": "execute_result"
    }
   ],
   "source": [
    "G"
   ]
  },
  {
   "cell_type": "code",
   "execution_count": 36,
   "metadata": {},
   "outputs": [
    {
     "data": {
      "text/plain": [
       "'C3 x C3'"
      ]
     },
     "execution_count": 36,
     "metadata": {},
     "output_type": "execute_result"
    }
   ],
   "source": [
    "G.structure_description()"
   ]
  },
  {
   "cell_type": "code",
   "execution_count": 37,
   "metadata": {},
   "outputs": [],
   "source": [
    "# Optimization: Cache index of inverse\n",
    "# Optimization: Only look at quandling by generators! Perhaps not...\n",
    "\n",
    "enumed = list(enumerate(G))\n",
    "#gens = list(G.gens())\n",
    "\n",
    "rs = G.rewriting_system()\n",
    "rs.make_confluent()\n",
    "\n",
    "groupIndex = dict([(rs.reduce(g), i) for i, g in enumed])\n",
    "\n",
    "def indexOf(g):\n",
    "    g1 = rs.reduce(g)\n",
    "    return groupIndex[g1]\n",
    "    #for i, g1 in enumed:\n",
    "        #if g == g1:\n",
    "            #return i\n",
    "\n",
    "def forOneG(t):\n",
    "    (i, g) = t\n",
    "    grelations = []\n",
    "    \n",
    "    indexInv = indexOf(g^(-1))\n",
    "    \n",
    "    for n in range(len(G)):\n",
    "        gn = g^n\n",
    "        if gn == g and n > 1:\n",
    "            break\n",
    "        indexN = indexOf(gn)\n",
    "        grelations.append([indexInv + 1]*n + [indexN + 1])\n",
    "\n",
    "    for i1, g1 in enumed:\n",
    "        #i1 = indexOf(g1)\n",
    "        indexInv1 = indexOf(g1^(-1))\n",
    "        indexInv2 = indexOf((g1*g*g1^(-1))^(-1)) \n",
    "        grelations.append([i1 + 1, i + 1, indexInv1 + 1, indexInv2 + 1])\n",
    "\n",
    "    return grelations\n",
    "\n",
    "relations = []\n",
    "\n",
    "#for i, g in enumed:\n",
    "    #rel = forOneG(i, g)\n",
    "    #relations.extend(rel)\n",
    "\n",
    "from multiprocessing import Pool\n",
    "\n",
    "pool = Pool(processes = 7)\n",
    "result = pool.map(forOneG, enumed)\n",
    "relations = [rel for rels in result for rel in rels]\n",
    "pool.close()\n",
    "pool.join()"
   ]
  },
  {
   "cell_type": "code",
   "execution_count": 38,
   "metadata": {},
   "outputs": [],
   "source": [
    "FreeG = FreeGroup(len(G))"
   ]
  },
  {
   "cell_type": "code",
   "execution_count": 39,
   "metadata": {},
   "outputs": [],
   "source": [
    "FG = FreeG / relations"
   ]
  },
  {
   "cell_type": "code",
   "execution_count": 40,
   "metadata": {},
   "outputs": [
    {
     "data": {
      "text/plain": [
       "Finitely presented group < x0, x1, x2, x3, x4, x5, x6, x7, x8 | x0, x0^2, x0^4, x1*x0*x2*x0, x2*x0*x1*x0, x3*x0*x4*x0, x4*x0*x3*x0, x5*x0*x8*x0, x6*x0*x7*x0, x7*x0*x6*x0, x8*x0*x5*x0, x0, x2*x1, x2^3, x2^3*x0, x0*x1*x0*x2, x1^2*x2^2, x2*x1^2*x2, x3*x1*x4*x2, x4*x1*x3*x2, x5*x1*x8*x2, x6*x1*x7*x2, x7*x1*x6*x2, x8*x1*x5*x2, x0, x1*x2, x1^3, x1^3*x0, x0*x2*x0*x1, x1*x2^2*x1, x2^2*x1^2, x3*x2*x4*x1, x4*x2*x3*x1, x5*x2*x8*x1, x6*x2*x7*x1, x7*x2*x6*x1, x8*x2*x5*x1, x0, x4*x3, x4^3, x4^3*x0, x0*x3*x0*x4, x1*x3*x2*x4, x2*x3*x1*x4, x3^2*x4^2, x4*x3^2*x4, x5*x3*x8*x4, x6*x3*x7*x4, x7*x3*x6*x4, x8*x3*x5*x4, x0, x3*x4, x3^3, x3^3*x0, x0*x4*x0*x3, x1*x4*x2*x3, x2*x4*x1*x3, x3*x4^2*x3, x4^2*x3^2, x5*x4*x8*x3, x6*x4*x7*x3, x7*x4*x6*x3, x8*x4*x5*x3, x0, x8*x5, x8^3, x8^3*x0, x0*x5*x0*x8, x1*x5*x2*x8, x2*x5*x1*x8, x3*x5*x4*x8, x4*x5*x3*x8, x5^2*x8^2, x6*x5*x7*x8, x7*x5*x6*x8, x8*x5^2*x8, x0, x7*x6, x7^3, x7^3*x0, x0*x6*x0*x7, x1*x6*x2*x7, x2*x6*x1*x7, x3*x6*x4*x7, x4*x6*x3*x7, x5*x6*x8*x7, x6^2*x7^2, x7*x6^2*x7, x8*x6*x5*x7, x0, x6*x7, x6^3, x6^3*x0, x0*x7*x0*x6, x1*x7*x2*x6, x2*x7*x1*x6, x3*x7*x4*x6, x4*x7*x3*x6, x5*x7*x8*x6, x6*x7^2*x6, x7^2*x6^2, x8*x7*x5*x6, x0, x5*x8, x5^3, x5^3*x0, x0*x8*x0*x5, x1*x8*x2*x5, x2*x8*x1*x5, x3*x8*x4*x5, x4*x8*x3*x5, x5*x8^2*x5, x6*x8*x7*x5, x7*x8*x6*x5, x8^2*x5^2 >"
      ]
     },
     "execution_count": 40,
     "metadata": {},
     "output_type": "execute_result"
    }
   ],
   "source": [
    "FG"
   ]
  },
  {
   "cell_type": "code",
   "execution_count": 41,
   "metadata": {},
   "outputs": [
    {
     "data": {
      "text/plain": [
       "'C3 x C3 x C3 x C3'"
      ]
     },
     "execution_count": 41,
     "metadata": {},
     "output_type": "execute_result"
    }
   ],
   "source": [
    "FG.simplified().structure_description()"
   ]
  },
  {
   "cell_type": "code",
   "execution_count": null,
   "metadata": {},
   "outputs": [],
   "source": []
  },
  {
   "cell_type": "code",
   "execution_count": 42,
   "metadata": {},
   "outputs": [],
   "source": [
    "# Eta, takes index of element x in G and returns [x] in Gr Pq G\n",
    "def ofi(i):\n",
    "    return FG.gens()[i]"
   ]
  },
  {
   "cell_type": "code",
   "execution_count": null,
   "metadata": {},
   "outputs": [],
   "source": []
  },
  {
   "cell_type": "code",
   "execution_count": 43,
   "metadata": {},
   "outputs": [],
   "source": [
    "# Multiplies two elements of G by index and returns an index\n",
    "def mul_gi(i, j):\n",
    "    return indexOf(enumed[i][1] * enumed[j][1])\n",
    "\n",
    "def inv_gi(i):\n",
    "    return indexOf(enumed[i][1] ^ (-1))\n",
    "\n",
    "def one_gi():\n",
    "    return 0\n",
    "\n",
    "def pow_gi(i, n):\n",
    "    return indexOf(enumed[i][1] ^ n)\n",
    "\n",
    "def rhd_gi(i, j):\n",
    "    return mul_gi(i, mul_gi(j, inv_gi(i)))"
   ]
  },
  {
   "cell_type": "code",
   "execution_count": null,
   "metadata": {},
   "outputs": [],
   "source": []
  },
  {
   "cell_type": "code",
   "execution_count": 44,
   "metadata": {},
   "outputs": [],
   "source": [
    "def is_homo_locus(i, j):\n",
    "    k = mul_gi(i, j)\n",
    "    return ofi(i) * ofi(j) == ofi(k)"
   ]
  },
  {
   "cell_type": "code",
   "execution_count": null,
   "metadata": {},
   "outputs": [],
   "source": []
  },
  {
   "cell_type": "code",
   "execution_count": 45,
   "metadata": {},
   "outputs": [],
   "source": [
    "def generateRelations():\n",
    "    relations = []\n",
    "    \n",
    "    for i, x in enumed:\n",
    "        for j, y in enumed:\n",
    "            if is_homo_locus(i, j):\n",
    "                relations.append([i + 1, j + 1])\n",
    "                \n",
    "    return relations"
   ]
  },
  {
   "cell_type": "code",
   "execution_count": null,
   "metadata": {},
   "outputs": [],
   "source": []
  },
  {
   "cell_type": "code",
   "execution_count": 46,
   "metadata": {},
   "outputs": [],
   "source": [
    "relations = generateRelations()"
   ]
  },
  {
   "cell_type": "code",
   "execution_count": 47,
   "metadata": {},
   "outputs": [],
   "source": [
    "FG2 = FreeG / relations"
   ]
  },
  {
   "cell_type": "code",
   "execution_count": 48,
   "metadata": {},
   "outputs": [
    {
     "data": {
      "text/plain": [
       "'C2'"
      ]
     },
     "execution_count": 48,
     "metadata": {},
     "output_type": "execute_result"
    }
   ],
   "source": [
    "FG2.structure_description()"
   ]
  },
  {
   "cell_type": "code",
   "execution_count": 49,
   "metadata": {},
   "outputs": [
    {
     "data": {
      "text/plain": [
       "[[1, 1],\n",
       " [1, 2],\n",
       " [1, 3],\n",
       " [1, 4],\n",
       " [1, 5],\n",
       " [1, 6],\n",
       " [1, 7],\n",
       " [1, 8],\n",
       " [1, 9],\n",
       " [2, 1],\n",
       " [2, 2],\n",
       " [2, 3],\n",
       " [3, 1],\n",
       " [3, 2],\n",
       " [3, 3],\n",
       " [4, 1],\n",
       " [4, 4],\n",
       " [4, 5],\n",
       " [5, 1],\n",
       " [5, 4],\n",
       " [5, 5],\n",
       " [6, 1],\n",
       " [6, 6],\n",
       " [6, 9],\n",
       " [7, 1],\n",
       " [7, 7],\n",
       " [7, 8],\n",
       " [8, 1],\n",
       " [8, 7],\n",
       " [8, 8],\n",
       " [9, 1],\n",
       " [9, 6],\n",
       " [9, 9]]"
      ]
     },
     "execution_count": 49,
     "metadata": {},
     "output_type": "execute_result"
    }
   ],
   "source": [
    "relations"
   ]
  },
  {
   "cell_type": "code",
   "execution_count": null,
   "metadata": {},
   "outputs": [],
   "source": []
  },
  {
   "cell_type": "code",
   "execution_count": null,
   "metadata": {},
   "outputs": [],
   "source": []
  }
 ],
 "metadata": {
  "kernelspec": {
   "display_name": "SageMath 9.0",
   "language": "sage",
   "name": "sagemath"
  },
  "language_info": {
   "codemirror_mode": {
    "name": "ipython",
    "version": 3
   },
   "file_extension": ".py",
   "mimetype": "text/x-python",
   "name": "python",
   "nbconvert_exporter": "python",
   "pygments_lexer": "ipython3",
   "version": "3.7.3"
  }
 },
 "nbformat": 4,
 "nbformat_minor": 2
}
