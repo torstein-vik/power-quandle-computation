{
 "cells": [
  {
   "cell_type": "code",
   "execution_count": null,
   "metadata": {},
   "outputs": [],
   "source": [
    "# SmallGroup(64, 135 & 136)"
   ]
  },
  {
   "cell_type": "code",
   "execution_count": null,
   "metadata": {},
   "outputs": [],
   "source": [
    "# SmallGroup( 78125, 19908--19913 )"
   ]
  },
  {
   "cell_type": "code",
   "execution_count": 48,
   "metadata": {},
   "outputs": [],
   "source": [
    "G1 = gap.SmallGroup( 78125, 19913 )"
   ]
  },
  {
   "cell_type": "code",
   "execution_count": 49,
   "metadata": {},
   "outputs": [
    {
     "data": {
      "text/plain": [
       "(C5 x ((C5 x ((C5 x C5) : C5)) : C5)) : C5"
      ]
     },
     "execution_count": 49,
     "metadata": {},
     "output_type": "execute_result"
    }
   ],
   "source": [
    "G1.StructureDescription()"
   ]
  },
  {
   "cell_type": "code",
   "execution_count": null,
   "metadata": {},
   "outputs": [],
   "source": []
  },
  {
   "cell_type": "code",
   "execution_count": 21,
   "metadata": {},
   "outputs": [],
   "source": [
    "G1 = gap.SmallGroup(64, 135)"
   ]
  },
  {
   "cell_type": "code",
   "execution_count": 22,
   "metadata": {},
   "outputs": [],
   "source": [
    "G2 = gap.SmallGroup(64, 136)"
   ]
  },
  {
   "cell_type": "code",
   "execution_count": null,
   "metadata": {},
   "outputs": [],
   "source": []
  },
  {
   "cell_type": "code",
   "execution_count": 23,
   "metadata": {},
   "outputs": [
    {
     "data": {
      "text/plain": [
       "((C4 x C4) : C2) : C2"
      ]
     },
     "execution_count": 23,
     "metadata": {},
     "output_type": "execute_result"
    }
   ],
   "source": [
    "G1.StructureDescription()"
   ]
  },
  {
   "cell_type": "code",
   "execution_count": 24,
   "metadata": {},
   "outputs": [
    {
     "data": {
      "text/plain": [
       "((C4 x C4) : C2) : C2"
      ]
     },
     "execution_count": 24,
     "metadata": {},
     "output_type": "execute_result"
    }
   ],
   "source": [
    "G2.StructureDescription()"
   ]
  },
  {
   "cell_type": "code",
   "execution_count": null,
   "metadata": {},
   "outputs": [],
   "source": []
  },
  {
   "cell_type": "code",
   "execution_count": 28,
   "metadata": {},
   "outputs": [
    {
     "data": {
      "text/plain": [
       "C2"
      ]
     },
     "execution_count": 28,
     "metadata": {},
     "output_type": "execute_result"
    }
   ],
   "source": [
    "G1.Centre().StructureDescription()"
   ]
  },
  {
   "cell_type": "code",
   "execution_count": 29,
   "metadata": {},
   "outputs": [
    {
     "data": {
      "text/plain": [
       "C2"
      ]
     },
     "execution_count": 29,
     "metadata": {},
     "output_type": "execute_result"
    }
   ],
   "source": [
    "G2.Center().StructureDescription()"
   ]
  },
  {
   "cell_type": "code",
   "execution_count": null,
   "metadata": {},
   "outputs": [],
   "source": []
  },
  {
   "cell_type": "code",
   "execution_count": 30,
   "metadata": {},
   "outputs": [
    {
     "data": {
      "text/plain": [
       "(C2 x C2 x C2 x C2) : C2"
      ]
     },
     "execution_count": 30,
     "metadata": {},
     "output_type": "execute_result"
    }
   ],
   "source": [
    "G1.AutomorphismGroup().InnerAutomorphismsAutomorphismGroup().StructureDescription()"
   ]
  },
  {
   "cell_type": "code",
   "execution_count": 31,
   "metadata": {},
   "outputs": [
    {
     "data": {
      "text/plain": [
       "(C2 x C2 x C2 x C2) : C2"
      ]
     },
     "execution_count": 31,
     "metadata": {},
     "output_type": "execute_result"
    }
   ],
   "source": [
    "G2.AutomorphismGroup().InnerAutomorphismsAutomorphismGroup().StructureDescription()"
   ]
  },
  {
   "cell_type": "code",
   "execution_count": 35,
   "metadata": {},
   "outputs": [
    {
     "data": {
      "text/plain": [
       "CompositionMapping( GroupGeneralMappingByImages( Group( \n",
       "[ ( 1, 4)( 2, 6)( 3, 8)( 5,11)( 7,12)( 9,13)(10,14)(15,16), \n",
       "  ( 3, 8)( 4,11)( 6,12)( 9,16)(10,14)(13,15), \n",
       "  ( 3,15)( 4,11)( 8,13)( 9,10)(14,16), ( 1, 5)( 2, 7)( 4,11)( 6,12), \n",
       "  ( 1, 5)( 3,10)( 4,11)( 8,14)( 9,15)(13,16) ] ), Group( \n",
       "[ InnerAutomorphism( Group( [ f1, f2, f3, f4, f5, f6 ] ), f1 ), \n",
       "  InnerAutomorphism( Group( [ f1, f2, f3, f4, f5, f6 ] ), f2 ), \n",
       "  InnerAutomorphism( Group( [ f1, f2, f3, f4, f5, f6 ] ), f3 ), \n",
       "  InnerAutomorphism( Group( [ f1, f2, f3, f4, f5, f6 ] ), f4 ), \n",
       "  InnerAutomorphism( Group( [ f1, f2, f3, f4, f5, f6 ] ), f5 ) ] ), \n",
       "[ ( 1, 4)( 2, 6)( 3, 8)( 5,11)( 7,12)( 9,13)(10,14)(15,16), \n",
       "  ( 3, 8)( 4,11)( 6,12)( 9,16)(10,14)(13,15), \n",
       "  ( 3,15)( 4,11)( 8,13)( 9,10)(14,16), ( 1, 5)( 2, 7)( 4,11)( 6,12), \n",
       "  ( 1, 5)( 3,10)( 4,11)( 8,14)( 9,15)(13,16) ], \n",
       "[ Pcgs([ f1, f2, f3, f4, f5, f6 ]) -> [ f1*f6, f2*f4*f6, f3*f5*f6, f4*f6, f5, \n",
       "      f6 ], Pcgs([ f1, f2, f3, f4, f5, f6 ]) -> \n",
       "    [ f1*f4*f5*f6, f2, f3*f6, f4, f5*f6, f6 ], \n",
       "  Pcgs([ f1, f2, f3, f4, f5, f6 ]) -> [ f1*f5, f2, f3, f4*f6, f5, f6 ], \n",
       "  Pcgs([ f1, f2, f3, f4, f5, f6 ]) -> [ f1*f6, f2, f3*f6, f4, f5, f6 ], \n",
       "  Pcgs([ f1, f2, f3, f4, f5, f6 ]) -> [ f1, f2*f6, f3, f4, f5, f6 ] \n",
       " ] ), <action isomorphism> )"
      ]
     },
     "execution_count": 35,
     "metadata": {},
     "output_type": "execute_result"
    }
   ],
   "source": [
    "gap.IsomorphismGroups(G1.AutomorphismGroup().InnerAutomorphismsAutomorphismGroup(), G2.AutomorphismGroup().InnerAutomorphismsAutomorphismGroup())"
   ]
  },
  {
   "cell_type": "code",
   "execution_count": null,
   "metadata": {},
   "outputs": [],
   "source": [
    "# they are isomorphic"
   ]
  },
  {
   "cell_type": "code",
   "execution_count": null,
   "metadata": {},
   "outputs": [],
   "source": []
  },
  {
   "cell_type": "code",
   "execution_count": null,
   "metadata": {},
   "outputs": [],
   "source": []
  }
 ],
 "metadata": {
  "kernelspec": {
   "display_name": "SageMath 9.0",
   "language": "sage",
   "name": "sagemath"
  },
  "language_info": {
   "codemirror_mode": {
    "name": "ipython",
    "version": 3
   },
   "file_extension": ".py",
   "mimetype": "text/x-python",
   "name": "python",
   "nbconvert_exporter": "python",
   "pygments_lexer": "ipython3",
   "version": "3.7.3"
  }
 },
 "nbformat": 4,
 "nbformat_minor": 2
}
