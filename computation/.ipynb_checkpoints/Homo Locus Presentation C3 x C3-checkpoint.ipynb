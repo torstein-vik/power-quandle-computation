{
 "cells": [
  {
   "cell_type": "code",
   "execution_count": null,
   "metadata": {},
   "outputs": [],
   "source": []
  },
  {
   "cell_type": "code",
   "execution_count": null,
   "metadata": {},
   "outputs": [],
   "source": []
  },
  {
   "cell_type": "code",
   "execution_count": null,
   "metadata": {},
   "outputs": [],
   "source": []
  },
  {
   "cell_type": "code",
   "execution_count": null,
   "metadata": {},
   "outputs": [],
   "source": []
  },
  {
   "cell_type": "code",
   "execution_count": 3,
   "metadata": {},
   "outputs": [],
   "source": [
    "G = groups.presentation.Symmetric(4)"
   ]
  },
  {
   "cell_type": "code",
   "execution_count": 4,
   "metadata": {},
   "outputs": [
    {
     "data": {
      "text/plain": [
       "Finitely presented group < a, b | b^2, a^4, (b*a^-1)^3 >"
      ]
     },
     "execution_count": 4,
     "metadata": {},
     "output_type": "execute_result"
    }
   ],
   "source": [
    "G"
   ]
  },
  {
   "cell_type": "code",
   "execution_count": 5,
   "metadata": {},
   "outputs": [
    {
     "data": {
      "text/plain": [
       "'S4'"
      ]
     },
     "execution_count": 5,
     "metadata": {},
     "output_type": "execute_result"
    }
   ],
   "source": [
    "G.structure_description()"
   ]
  },
  {
   "cell_type": "code",
   "execution_count": 6,
   "metadata": {},
   "outputs": [],
   "source": [
    "# Optimization: Cache index of inverse\n",
    "# Optimization: Only look at quandling by generators! Perhaps not...\n",
    "\n",
    "enumed = list(enumerate(G))\n",
    "#gens = list(G.gens())\n",
    "\n",
    "rs = G.rewriting_system()\n",
    "rs.make_confluent()\n",
    "\n",
    "groupIndex = dict([(rs.reduce(g), i) for i, g in enumed])\n",
    "\n",
    "def indexOf(g):\n",
    "    g1 = rs.reduce(g)\n",
    "    return groupIndex[g1]\n",
    "    #for i, g1 in enumed:\n",
    "        #if g == g1:\n",
    "            #return i\n",
    "\n",
    "def forOneG(t):\n",
    "    (i, g) = t\n",
    "    grelations = []\n",
    "    \n",
    "    indexInv = indexOf(g^(-1))\n",
    "    \n",
    "    for n in range(len(G)):\n",
    "        gn = g^n\n",
    "        if gn == g and n > 1:\n",
    "            break\n",
    "        indexN = indexOf(gn)\n",
    "        grelations.append([indexInv + 1]*n + [indexN + 1])\n",
    "\n",
    "    for i1, g1 in enumed:\n",
    "        #i1 = indexOf(g1)\n",
    "        indexInv1 = indexOf(g1^(-1))\n",
    "        indexInv2 = indexOf((g1*g*g1^(-1))^(-1)) \n",
    "        grelations.append([i1 + 1, i + 1, indexInv1 + 1, indexInv2 + 1])\n",
    "\n",
    "    return grelations\n",
    "\n",
    "relations = []\n",
    "\n",
    "#for i, g in enumed:\n",
    "    #rel = forOneG(i, g)\n",
    "    #relations.extend(rel)\n",
    "\n",
    "from multiprocessing import Pool\n",
    "\n",
    "pool = Pool(processes = 7)\n",
    "result = pool.map(forOneG, enumed)\n",
    "relations = [rel for rels in result for rel in rels]\n",
    "pool.close()\n",
    "pool.join()"
   ]
  },
  {
   "cell_type": "code",
   "execution_count": 7,
   "metadata": {},
   "outputs": [],
   "source": [
    "FreeG = FreeGroup(len(G))"
   ]
  },
  {
   "cell_type": "code",
   "execution_count": 8,
   "metadata": {},
   "outputs": [],
   "source": [
    "FG = FreeG / relations"
   ]
  },
  {
   "cell_type": "code",
   "execution_count": 9,
   "metadata": {},
   "outputs": [
    {
     "data": {
      "text/plain": [
       "Finitely presented group < x0, x1, x2, x3, x4, x5, x6, x7, x8, x9, x10, x11, x12, x13, x14, x15, x16, x17, x18, x19, x20, x21, x22, x23 | x0, x0^2, x0^4, x1*x0*x2*x0, x2*x0*x1*x0, (x3*x0)^2, (x4*x0)^2, x5*x0*x8*x0, x6*x0*x7*x0, x7*x0*x6*x0, x8*x0*x5*x0, x9*x0*x14*x0, x10*x0*x13*x0, (x11*x0)^2, (x12*x0)^2, x13*x0*x10*x0, x14*x0*x9*x0, x15*x0*x18*x0, x16*x0*x17*x0, x17*x0*x16*x0, x18*x0*x15*x0, (x19*x0)^2, (x20*x0)^2, (x21*x0)^2, (x22*x0)^2, (x23*x0)^2, x0, x2*x1, x2^2*x4, x2^4, x2^4*x0, x0*x1*x0*x2, x1^2*x2^2, x2*x1^2*x2, x3*x1*x3*x10, x4*x1*x4*x2, x5*x1*x8*x9, x6*x1*x7*x14, x7*x1*x6*x10, x8*x1*x5*x10, x9*x1*x14*x13, x10*x1*x13*x9, x11*x1*x11*x9, x12*x1*x12*x14, x13*x1*x10*x14, x14*x1*x9*x10, x15*x1*x18*x13, x16*x1*x17*x13, x17*x1*x16*x9, x18*x1*x15*x14, (x19*x1)^2, x20*x1*x20*x13, (x21*x1)^2, (x22*x1)^2, (x23*x1)^2, x0, x1*x2, x1^2*x4, x1^4, x1^4*x0, x0*x2*x0*x1, x1*x2^2*x1, x2^2*x1^2, x3*x2*x3*x13, x4*x2*x4*x1, x5*x2*x8*x14, x6*x2*x7*x9, x7*x2*x6*x13, x8*x2*x5*x13, x9*x2*x14*x10, x10*x2*x13*x14, x11*x2*x11*x14, x12*x2*x12*x9, x13*x2*x10*x9, x14*x2*x9*x13, x15*x2*x18*x10, x16*x2*x17*x10, x17*x2*x16*x14, x18*x2*x15*x9, (x19*x2)^2, x20*x2*x20*x10, (x21*x2)^2, (x22*x2)^2, (x23*x2)^2, x0, x3^2, x3^2*x0, (x0*x3)^2, x1*x3*x2*x11, x2*x3*x1*x12, x3^4, x4*x3*x4*x20, x5*x3*x8*x11, x6*x3*x7*x12, x7*x3*x6*x22, x8*x3*x5*x21, x9*x3*x14*x20, x10*x3*x13*x21, x11*x3*x11*x22, x12*x3*x12*x21, x13*x3*x10*x22, x14*x3*x9*x20, x15*x3*x18*x22, x16*x3*x17*x21, x17*x3*x16*x12, x18*x3*x15*x11, x19*x3*x19*x20, (x20*x3)^2, x21*x3*x21*x12, x22*x3*x22*x11, (x23*x3)^2, x0, x4^2, x4^2*x0, (x0*x4)^2, x1*x4*x2*x4, x2*x4*x1*x4, x3*x4*x3*x19, x4^4, x5*x4*x8*x23, x6*x4*x7*x23, x7*x4*x6*x19, x8*x4*x5*x19, x9*x4*x14*x19, x10*x4*x13*x23, x11*x4*x11*x23, x12*x4*x12*x23, x13*x4*x10*x23, x14*x4*x9*x19, x15*x4*x18*x19, x16*x4*x17*x19, x17*x4*x16*x23, x18*x4*x15*x23, (x19*x4)^2, x20*x4*x20*x19, (x21*x4)^2, (x22*x4)^2, (x23*x4)^2, x0, x8*x5, x8^3, x8^3*x0, x0*x5*x0*x8, x1*x5*x2*x17, x2*x5*x1*x6, x3*x5*x3*x6, x4*x5*x4*x15, x5^2*x8^2, x6*x5*x7*x15, x7*x5*x6*x16, x8*x5^2*x8, x9*x5*x14*x17, x10*x5*x13*x18, x11*x5*x11*x17, (x12*x5)^2, x13*x5*x10*x6, x14*x5*x9*x18, x15*x5*x18*x7, x16*x5*x17*x15, x17*x5*x16*x7, x18*x5*x15*x16, x19*x5*x19*x16, (x20*x5)^2, x21*x5*x21*x18, (x22*x5)^2, x23*x5*x23*x7, x0, x7*x6, x7^3, x7^3*x0, x0*x6*x0*x7, x1*x6*x2*x5, x2*x6*x1*x18, x3*x6*x3*x5, x4*x6*x4*x16, x5*x6*x8*x16, x6^2*x7^2, x7*x6^2*x7, x8*x6*x5*x15, x9*x6*x14*x18, x10*x6*x13*x5, (x11*x6)^2, x12*x6*x12*x18, x13*x6*x10*x17, x14*x6*x9*x17, x15*x6*x18*x16, x16*x6*x17*x8, x17*x6*x16*x15, x18*x6*x15*x8, x19*x6*x19*x15, (x20*x6)^2, (x21*x6)^2, x22*x6*x22*x17, x23*x6*x23*x8, x0, x6*x7, x6^3, x6^3*x0, x0*x7*x0*x6, x1*x7*x2*x8, x2*x7*x1*x15, x3*x7*x3*x8, x4*x7*x4*x17, x5*x7*x8*x17, x6*x7^2*x6, x7^2*x6^2, x8*x7*x5*x18, x9*x7*x14*x15, x10*x7*x13*x8, (x11*x7)^2, x12*x7*x12*x15, x13*x7*x10*x16, x14*x7*x9*x16, x15*x7*x18*x17, x16*x7*x17*x5, x17*x7*x16*x18, x18*x7*x15*x5, x19*x7*x19*x18, (x20*x7)^2, (x21*x7)^2, x22*x7*x22*x16, x23*x7*x23*x5, x0, x5*x8, x5^3, x5^3*x0, x0*x8*x0*x5, x1*x8*x2*x16, x2*x8*x1*x7, x3*x8*x3*x7, x4*x8*x4*x18, x5*x8^2*x5, x6*x8*x7*x18, x7*x8*x6*x17, x8^2*x5^2, x9*x8*x14*x16, x10*x8*x13*x15, x11*x8*x11*x16, (x12*x8)^2, x13*x8*x10*x7, x14*x8*x9*x15, x15*x8*x18*x6, x16*x8*x17*x18, x17*x8*x16*x6, x18*x8*x15*x17, x19*x8*x19*x17, (x20*x8)^2, x21*x8*x21*x15, (x22*x8)^2, x23*x8*x23*x6, x0, x14*x9, x14^2*x23, x14^4, x14^4*x0, x0*x9*x0*x14, x1*x9*x2*x10, x2*x9*x1*x13, (x3*x9)^2, (x4*x9)^2, x5*x9*x8*x13, x6*x9*x7*x10, x7*x9*x6*x2, x8*x9*x5*x1, x9^2*x14^2, x10*x9*x13*x2, x11*x9*x11*x1, x12*x9*x12*x2, x13*x9*x10*x1, x14*x9^2*x14, x15*x9*x18*x2, x16*x9*x17*x1, x17*x9*x16*x10, x18*x9*x15*x13, (x19*x9)^2, (x20*x9)^2, x21*x9*x21*x13, x22*x9*x22*x10, x23*x9*x23*x14, x0, x13*x10, x13^2*x19, x13^4, x13^4*x0, x0*x10*x0*x13, x1*x10*x2*x14, x2*x10*x1*x9, x3*x10*x3*x1, (x4*x10)^2, x5*x10*x8*x1, x6*x10*x7*x1, x7*x10*x6*x9, x8*x10*x5*x14, x9*x10*x14*x1, x10^2*x13^2, (x11*x10)^2, (x12*x10)^2, x13*x10^2*x13, x14*x10*x9*x2, x15*x10*x18*x14, x16*x10*x17*x9, x17*x10*x16*x2, x18*x10*x15*x2, x19*x10*x19*x13, x20*x10*x20*x2, x21*x10*x21*x14, x22*x10*x22*x9, (x23*x10)^2, x0, x11^2, x11^2*x0, (x0*x11)^2, x1*x11*x2*x20, x2*x11*x1*x3, x3*x11*x3*x22, x4*x11*x4*x12, x5*x11*x8*x21, x6*x11*x7*x21, x7*x11*x6*x20, x8*x11*x5*x3, x9*x11*x14*x22, x10*x11*x13*x12, x11^4, (x12*x11)^2, x13*x11*x10*x12, x14*x11*x9*x21, x15*x11*x18*x3, x16*x11*x17*x20, x17*x11*x16*x22, x18*x11*x15*x22, (x19*x11)^2, x20*x11*x20*x21, x21*x11*x21*x20, x22*x11*x22*x3, x23*x11*x23*x12, x0, x12^2, x12^2*x0, (x0*x12)^2, x1*x12*x2*x3, x2*x12*x1*x20, x3*x12*x3*x21, x4*x12*x4*x11, x5*x12*x8*x22, x6*x12*x7*x22, x7*x12*x6*x3, x8*x12*x5*x20, x9*x12*x14*x21, x10*x12*x13*x11, (x11*x12)^2, x12^4, x13*x12*x10*x11, x14*x12*x9*x22, x15*x12*x18*x20, x16*x12*x17*x3, x17*x12*x16*x21, x18*x12*x15*x21, (x19*x12)^2, x20*x12*x20*x22, x21*x12*x21*x3, x22*x12*x22*x20, x23*x12*x23*x11, x0, x10*x13, x10^2*x19, x10^4, x10^4*x0, x0*x13*x0*x10, x1*x13*x2*x9, x2*x13*x1*x14, x3*x13*x3*x2, (x4*x13)^2, x5*x13*x8*x2, x6*x13*x7*x2, x7*x13*x6*x14, x8*x13*x5*x9, x9*x13*x14*x2, x10*x13^2*x10, (x11*x13)^2, (x12*x13)^2, x13^2*x10^2, x14*x13*x9*x1, x15*x13*x18*x9, x16*x13*x17*x14, x17*x13*x16*x1, x18*x13*x15*x1, x19*x13*x19*x10, x20*x13*x20*x1, x21*x13*x21*x9, x22*x13*x22*x14, (x23*x13)^2, x0, x9*x14, x9^2*x23, x9^4, x9^4*x0, x0*x14*x0*x9, x1*x14*x2*x13, x2*x14*x1*x10, (x3*x14)^2, (x4*x14)^2, x5*x14*x8*x10, x6*x14*x7*x13, x7*x14*x6*x1, x8*x14*x5*x2, x9*x14^2*x9, x10*x14*x13*x1, x11*x14*x11*x2, x12*x14*x12*x1, x13*x14*x10*x2, x14^2*x9^2, x15*x14*x18*x1, x16*x14*x17*x2, x17*x14*x16*x13, x18*x14*x15*x10, (x19*x14)^2, (x20*x14)^2, x21*x14*x21*x10, x22*x14*x22*x13, x23*x14*x23*x9, x0, x18*x15, x18^3, x18^3*x0, x0*x15*x0*x18, x1*x15*x2*x7, x2*x15*x1*x16, (x3*x15)^2, x4*x15*x4*x5, x5*x15*x8*x6, x6*x15*x7*x17, x7*x15*x6*x5, x8*x15*x5*x17, x9*x15*x14*x8, x10*x15*x13*x16, (x11*x15)^2, x12*x15*x12*x7, x13*x15*x10*x8, x14*x15*x9*x7, x15^2*x18^2, x16*x15*x17*x6, x17*x15*x16*x5, x18*x15^2*x18, x19*x15*x19*x6, x20*x15*x20*x16, x21*x15*x21*x8, (x22*x15)^2, x23*x15*x23*x17, x0, x17*x16, x17^3, x17^3*x0, x0*x16*x0*x17, x1*x16*x2*x15, x2*x16*x1*x8, (x3*x16)^2, x4*x16*x4*x6, x5*x16*x8*x18, x6*x16*x7*x5, x7*x16*x6*x18, x8*x16*x5*x6, x9*x16*x14*x7, x10*x16*x13*x7, x11*x16*x11*x8, (x12*x16)^2, x13*x16*x10*x15, x14*x16*x9*x8, x15*x16*x18*x5, x16^2*x17^2, x17*x16^2*x17, x18*x16*x15*x6, x19*x16*x19*x5, x20*x16*x20*x15, (x21*x16)^2, x22*x16*x22*x7, x23*x16*x23*x18, x0, x16*x17, x16^3, x16^3*x0, x0*x17*x0*x16, x1*x17*x2*x18, x2*x17*x1*x5, (x3*x17)^2, x4*x17*x4*x7, x5*x17*x8*x15, x6*x17*x7*x8, x7*x17*x6*x15, x8*x17*x5*x7, x9*x17*x14*x6, x10*x17*x13*x6, x11*x17*x11*x5, (x12*x17)^2, x13*x17*x10*x18, x14*x17*x9*x5, x15*x17*x18*x8, x16*x17^2*x16, x17^2*x16^2, x18*x17*x15*x7, x19*x17*x19*x8, x20*x17*x20*x18, (x21*x17)^2, x22*x17*x22*x6, x23*x17*x23*x15, x0, x15*x18, x15^3, x15^3*x0, x0*x18*x0*x15, x1*x18*x2*x6, x2*x18*x1*x17, (x3*x18)^2, x4*x18*x4*x8, x5*x18*x8*x7, x6*x18*x7*x16, x7*x18*x6*x8, x8*x18*x5*x16, x9*x18*x14*x5, x10*x18*x13*x17, (x11*x18)^2, x12*x18*x12*x6, x13*x18*x10*x5, x14*x18*x9*x6, x15*x18^2*x15, x16*x18*x17*x7, x17*x18*x16*x8, x18^2*x15^2, x19*x18*x19*x7, x20*x18*x20*x17, x21*x18*x21*x5, (x22*x18)^2, x23*x18*x23*x16, x0, x19^2, x19^2*x0, (x0*x19)^2, x1*x19*x2*x23, x2*x19*x1*x23, x3*x19*x3*x4, (x4*x19)^2, x5*x19*x8*x4, x6*x19*x7*x4, x7*x19*x6*x23, x8*x19*x5*x23, x9*x19*x14*x4, x10*x19*x13*x19, (x11*x19)^2, (x12*x19)^2, x13*x19*x10*x19, x14*x19*x9*x4, x15*x19*x18*x23, x16*x19*x17*x23, x17*x19*x16*x4, x18*x19*x15*x4, x19^4, x20*x19*x20*x4, x21*x19*x21*x23, x22*x19*x22*x23, (x23*x19)^2, x0, x20^2, x20^2*x0, (x0*x20)^2, x1*x20*x2*x12, x2*x20*x1*x11, (x3*x20)^2, x4*x20*x4*x3, x5*x20*x8*x12, x6*x20*x7*x11, x7*x20*x6*x21, x8*x20*x5*x22, x9*x20*x14*x3, x10*x20*x13*x22, x11*x20*x11*x21, x12*x20*x12*x22, x13*x20*x10*x21, x14*x20*x9*x3, x15*x20*x18*x21, x16*x20*x17*x22, x17*x20*x16*x11, x18*x20*x15*x12, x19*x20*x19*x3, x20^4, x21*x20*x21*x11, x22*x20*x22*x12, (x23*x20)^2, x0, x21^2, x21^2*x0, (x0*x21)^2, x1*x21*x2*x22, x2*x21*x1*x22, x3*x21*x3*x12, (x4*x21)^2, x5*x21*x8*x3, x6*x21*x7*x20, x7*x21*x6*x11, x8*x21*x5*x11, x9*x21*x14*x11, x10*x21*x13*x20, x11*x21*x11*x20, x12*x21*x12*x3, x13*x21*x10*x3, x14*x21*x9*x12, x15*x21*x18*x12, x16*x21*x17*x12, x17*x21*x16*x3, x18*x21*x15*x20, x19*x21*x19*x22, x20*x21*x20*x11, x21^4, (x22*x21)^2, x23*x21*x23*x22, x0, x22^2, x22^2*x0, (x0*x22)^2, x1*x22*x2*x21, x2*x22*x1*x21, x3*x22*x3*x11, (x4*x22)^2, x5*x22*x8*x20, x6*x22*x7*x3, x7*x22*x6*x12, x8*x22*x5*x12, x9*x22*x14*x12, x10*x22*x13*x3, x11*x22*x11*x3, x12*x22*x12*x20, x13*x22*x10*x20, x14*x22*x9*x11, x15*x22*x18*x11, x16*x22*x17*x11, x17*x22*x16*x20, x18*x22*x15*x3, x19*x22*x19*x21, x20*x22*x20*x12, (x21*x22)^2, x22^4, x23*x22*x23*x21, x0, x23^2, x23^2*x0, (x0*x23)^2, x1*x23*x2*x19, x2*x23*x1*x19, (x3*x23)^2, (x4*x23)^2, x5*x23*x8*x19, x6*x23*x7*x19, x7*x23*x6*x4, x8*x23*x5*x4, x9*x23*x14*x23, x10*x23*x13*x4, x11*x23*x11*x4, x12*x23*x12*x4, x13*x23*x10*x4, x14*x23*x9*x23, x15*x23*x18*x4, x16*x23*x17*x4, x17*x23*x16*x19, x18*x23*x15*x19, (x19*x23)^2, (x20*x23)^2, x21*x23*x21*x19, x22*x23*x22*x19, x23^4 >"
      ]
     },
     "execution_count": 9,
     "metadata": {},
     "output_type": "execute_result"
    }
   ],
   "source": [
    "FG"
   ]
  },
  {
   "cell_type": "code",
   "execution_count": 10,
   "metadata": {},
   "outputs": [
    {
     "data": {
      "text/plain": [
       "'C2 x S4'"
      ]
     },
     "execution_count": 10,
     "metadata": {},
     "output_type": "execute_result"
    }
   ],
   "source": [
    "FG.simplified().structure_description()"
   ]
  },
  {
   "cell_type": "code",
   "execution_count": null,
   "metadata": {},
   "outputs": [],
   "source": []
  },
  {
   "cell_type": "code",
   "execution_count": 11,
   "metadata": {},
   "outputs": [],
   "source": [
    "# Eta, takes index of element x in G and returns [x] in Gr Pq G\n",
    "def ofi(i):\n",
    "    return FG.gens()[i]"
   ]
  },
  {
   "cell_type": "code",
   "execution_count": null,
   "metadata": {},
   "outputs": [],
   "source": []
  },
  {
   "cell_type": "code",
   "execution_count": 12,
   "metadata": {},
   "outputs": [],
   "source": [
    "# Multiplies two elements of G by index and returns an index\n",
    "def mul_gi(i, j):\n",
    "    return indexOf(enumed[i][1] * enumed[j][1])\n",
    "\n",
    "def inv_gi(i):\n",
    "    return indexOf(enumed[i][1] ^ (-1))\n",
    "\n",
    "def one_gi():\n",
    "    return 0\n",
    "\n",
    "def pow_gi(i, n):\n",
    "    return indexOf(enumed[i][1] ^ n)\n",
    "\n",
    "def rhd_gi(i, j):\n",
    "    return mul_gi(i, mul_gi(j, inv_gi(i)))"
   ]
  },
  {
   "cell_type": "code",
   "execution_count": null,
   "metadata": {},
   "outputs": [],
   "source": []
  },
  {
   "cell_type": "code",
   "execution_count": 13,
   "metadata": {},
   "outputs": [],
   "source": [
    "def is_homo_locus(i, j):\n",
    "    k = mul_gi(i, j)\n",
    "    return ofi(i) * ofi(j) == ofi(k)"
   ]
  },
  {
   "cell_type": "code",
   "execution_count": null,
   "metadata": {},
   "outputs": [],
   "source": []
  },
  {
   "cell_type": "code",
   "execution_count": 14,
   "metadata": {},
   "outputs": [],
   "source": [
    "def generateRelations():\n",
    "    relations = []\n",
    "    \n",
    "    for i, x in enumed:\n",
    "        for j, y in enumed:\n",
    "            if is_homo_locus(i, j):\n",
    "                relations.append([i + 1, j + 1])\n",
    "                \n",
    "    return relations"
   ]
  },
  {
   "cell_type": "code",
   "execution_count": null,
   "metadata": {},
   "outputs": [],
   "source": []
  },
  {
   "cell_type": "code",
   "execution_count": 15,
   "metadata": {},
   "outputs": [],
   "source": [
    "relations = generateRelations()"
   ]
  },
  {
   "cell_type": "code",
   "execution_count": 17,
   "metadata": {},
   "outputs": [],
   "source": [
    "FG2 = FreeG / relations"
   ]
  },
  {
   "cell_type": "code",
   "execution_count": 18,
   "metadata": {},
   "outputs": [
    {
     "data": {
      "text/plain": [
       "'C2'"
      ]
     },
     "execution_count": 18,
     "metadata": {},
     "output_type": "execute_result"
    }
   ],
   "source": [
    "FG2.structure_description()"
   ]
  },
  {
   "cell_type": "code",
   "execution_count": null,
   "metadata": {},
   "outputs": [],
   "source": []
  }
 ],
 "metadata": {
  "kernelspec": {
   "display_name": "SageMath 9.0",
   "language": "sage",
   "name": "sagemath"
  },
  "language_info": {
   "codemirror_mode": {
    "name": "ipython",
    "version": 3
   },
   "file_extension": ".py",
   "mimetype": "text/x-python",
   "name": "python",
   "nbconvert_exporter": "python",
   "pygments_lexer": "ipython3",
   "version": "3.7.3"
  }
 },
 "nbformat": 4,
 "nbformat_minor": 2
}
