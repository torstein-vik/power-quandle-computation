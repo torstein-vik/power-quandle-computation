{
 "cells": [
  {
   "cell_type": "code",
   "execution_count": 1,
   "metadata": {},
   "outputs": [],
   "source": [
    "def get_gap_group(n, i):\n",
    "    return PermutationGroup(gap_group = gap.Image(gap.IsomorphismPermGroup(gap.SmallGroup(n, i)))).as_finitely_presented_group()"
   ]
  },
  {
   "cell_type": "code",
   "execution_count": 2,
   "metadata": {},
   "outputs": [],
   "source": [
    "def list_gap_groups(n):\n",
    "    for i, H in enumerate(gap.AllSmallGroups(n)):\n",
    "        print(i + 1, H.StructureDescription())"
   ]
  },
  {
   "cell_type": "code",
   "execution_count": null,
   "metadata": {},
   "outputs": [],
   "source": []
  },
  {
   "cell_type": "code",
   "execution_count": 3,
   "metadata": {},
   "outputs": [],
   "source": [
    "G = get_gap_group(16, 2)"
   ]
  },
  {
   "cell_type": "code",
   "execution_count": 4,
   "metadata": {},
   "outputs": [],
   "source": [
    "Z = G.center()"
   ]
  },
  {
   "cell_type": "code",
   "execution_count": 5,
   "metadata": {},
   "outputs": [
    {
     "ename": "TypeError",
     "evalue": "quotient() takes exactly one argument (0 given)",
     "output_type": "error",
     "traceback": [
      "\u001b[0;31m---------------------------------------------------------------------------\u001b[0m",
      "\u001b[0;31mTypeError\u001b[0m                                 Traceback (most recent call last)",
      "\u001b[0;32m<ipython-input-5-c61e03742162>\u001b[0m in \u001b[0;36m<module>\u001b[0;34m()\u001b[0m\n\u001b[0;32m----> 1\u001b[0;31m \u001b[0mZ\u001b[0m\u001b[0;34m.\u001b[0m\u001b[0mquotient\u001b[0m\u001b[0;34m(\u001b[0m\u001b[0;34m)\u001b[0m\u001b[0;34m\u001b[0m\u001b[0;34m\u001b[0m\u001b[0m\n\u001b[0m",
      "\u001b[0;31mTypeError\u001b[0m: quotient() takes exactly one argument (0 given)"
     ]
    }
   ],
   "source": [
    "Z.quotient()"
   ]
  },
  {
   "cell_type": "code",
   "execution_count": 11,
   "metadata": {},
   "outputs": [],
   "source": [
    "G1 = gap.SmallGroup(16, 2)"
   ]
  },
  {
   "cell_type": "code",
   "execution_count": 14,
   "metadata": {},
   "outputs": [
    {
     "data": {
      "text/plain": [
       "C4 x C4"
      ]
     },
     "execution_count": 14,
     "metadata": {},
     "output_type": "execute_result"
    }
   ],
   "source": [
    "G1.Centre().StructureDescription()"
   ]
  },
  {
   "cell_type": "code",
   "execution_count": 19,
   "metadata": {},
   "outputs": [
    {
     "data": {
      "text/plain": [
       "1"
      ]
     },
     "execution_count": 19,
     "metadata": {},
     "output_type": "execute_result"
    }
   ],
   "source": [
    "G1.AutomorphismGroup().InnerAutomorphismsAutomorphismGroup().StructureDescription()"
   ]
  },
  {
   "cell_type": "code",
   "execution_count": 9,
   "metadata": {},
   "outputs": [],
   "source": [
    "groups = dict()\n",
    "\n",
    "for i, H in enumerate(gap.AllSmallGroups(12)):\n",
    "    Hd = H.StructureDescription()\n",
    "    Zd = H.Centre().StructureDescription()\n",
    "    HZd = H.AutomorphismGroup().InnerAutomorphismsAutomorphismGroup().StructureDescription()\n",
    "    key = \"(Z: \" + str(Zd) + \")(HZ: \" + str(HZd) + \")\"\n",
    "    val = \"(id: \" + str(i+1) + \")(H: \" + str(Hd) + \")\"\n",
    "    if (key in groups):\n",
    "        groups[key].append(val)\n",
    "    else:\n",
    "        groups[key] = [val]"
   ]
  },
  {
   "cell_type": "code",
   "execution_count": null,
   "metadata": {},
   "outputs": [],
   "source": []
  },
  {
   "cell_type": "code",
   "execution_count": 10,
   "metadata": {},
   "outputs": [
    {
     "name": "stdout",
     "output_type": "stream",
     "text": [
      "(Z: C2)(HZ: S3)\n",
      "\t (id: 1)(H: C3 : C4)\n",
      "\t (id: 4)(H: D12)\n",
      "(Z: C12)(HZ: 1)\n",
      "\t (id: 2)(H: C12)\n",
      "(Z: 1)(HZ: A4)\n",
      "\t (id: 3)(H: A4)\n",
      "(Z: C6 x C2)(HZ: 1)\n",
      "\t (id: 5)(H: C6 x C2)\n"
     ]
    }
   ],
   "source": [
    "for key in groups:\n",
    "    print(key)\n",
    "    for val in groups[key]:\n",
    "        print(\"\\t\", val)"
   ]
  },
  {
   "cell_type": "code",
   "execution_count": null,
   "metadata": {},
   "outputs": [],
   "source": []
  }
 ],
 "metadata": {
  "kernelspec": {
   "display_name": "SageMath 9.0",
   "language": "sage",
   "name": "sagemath"
  },
  "language_info": {
   "codemirror_mode": {
    "name": "ipython",
    "version": 3
   },
   "file_extension": ".py",
   "mimetype": "text/x-python",
   "name": "python",
   "nbconvert_exporter": "python",
   "pygments_lexer": "ipython3",
   "version": "3.7.3"
  }
 },
 "nbformat": 4,
 "nbformat_minor": 2
}
