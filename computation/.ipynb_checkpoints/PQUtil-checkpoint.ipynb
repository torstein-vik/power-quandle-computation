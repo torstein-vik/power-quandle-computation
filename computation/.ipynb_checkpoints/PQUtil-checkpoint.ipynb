{
 "cells": [
  {
   "cell_type": "code",
   "execution_count": 13,
   "metadata": {},
   "outputs": [],
   "source": [
    "class PowerQuandle():\n",
    "    \n",
    "    # elements X is a list of something, rhd_el is function X x X -> X and pow_el is a function X x Z -> X\n",
    "    def __init__(self, elements, rhd_el, pow_el, one_el):\n",
    "        self.elements = elements\n",
    "        self.rhd_el = rhd_el\n",
    "        self.pow_el = pow_el\n",
    "        self.one_el = one_el\n",
    "        \n",
    "        self.one_i0 = elements.index(one_el)\n",
    "        self.one_i1 = self.one_i0 + 1\n",
    "    \n",
    "    def rhd_i0(self, i, j):\n",
    "        x = self.elements[i]\n",
    "        y = self.elements[j]\n",
    "        z = self.rhd_el(x, y)\n",
    "        k = self.elements.index(z)\n",
    "        return k\n",
    "    \n",
    "    def pow_i0(self, i, n):\n",
    "        x = self.elements[i]\n",
    "        y = self.pow_el(x, n)\n",
    "        k = self.elements.index(y)\n",
    "        return k\n",
    "    \n",
    "    def rhd_i1(self, i, j):\n",
    "        return self.rhd_i0(i - 1, j - 1) + 1\n",
    "    \n",
    "    def pow_i1(self, i, n):\n",
    "        return self.pow_i0(i - 1, n) + 1\n",
    "    \n",
    "    def create_precomputed_iso_pq(self, assume_id_periodic = True, power_range = None):\n",
    "        # 0-indexed, it's just a choice\n",
    "        nelements = list(IntegerRange(len(self.elements)))\n",
    "        \n",
    "        nrhddata = [[self.rhd_i0(i, j) for j in nelements] for i in nelements]\n",
    "        \n",
    "        def create_pow_memo_func(i):\n",
    "            if assume_id_periodic:\n",
    "                \n",
    "                pows = []\n",
    "                \n",
    "                # n is not an element, just a power.\n",
    "                for n in nelements:\n",
    "                    j = self.pow_i0(i, n)\n",
    "                    if j == self.one_i0 and n > 0:\n",
    "                        break\n",
    "                    pows.append(j)\n",
    "                \n",
    "                p = len(pows)\n",
    "                \n",
    "                return lambda n: pows[n % p]\n",
    "                \n",
    "            else:\n",
    "                raise NotYetImplementedError()\n",
    "                #if power_range == None:\n",
    "                #    raise ValueError(\"power_range may not be None when assume_id_periodic is False!\")\n",
    "                \n",
    "                #pows = dict()\n",
    "                #for n in power_range:\n",
    "                #    pows.put(n, ) # ITS NOT PUT\n",
    "                    \n",
    "        \n",
    "        npowdata = [create_pow_memo_func(i) for i in nelements]\n",
    "        \n",
    "        nrhd = lambda i, j: nrhddata[i][j]\n",
    "        \n",
    "        npow = lambda i, n: npowdata[i](n)\n",
    "        \n",
    "        return PowerQuandle(nelements, nrhd, npow, self.one_i0)\n",
    "        \n",
    "    "
   ]
  },
  {
   "cell_type": "code",
   "execution_count": null,
   "metadata": {},
   "outputs": [],
   "source": []
  },
  {
   "cell_type": "code",
   "execution_count": 2,
   "metadata": {},
   "outputs": [],
   "source": [
    "def get_gap_group(n, i):\n",
    "    return PermutationGroup(gap_group = gap.Image(gap.IsomorphismPermGroup(gap.SmallGroup(n, i)))).as_finitely_presented_group()"
   ]
  },
  {
   "cell_type": "code",
   "execution_count": 3,
   "metadata": {},
   "outputs": [],
   "source": [
    "def list_gap_groups(n):\n",
    "    for i, H in enumerate(gap.AllSmallGroups(n)):\n",
    "        print(i + 1, H.StructureDescription())"
   ]
  },
  {
   "cell_type": "code",
   "execution_count": null,
   "metadata": {},
   "outputs": [],
   "source": []
  },
  {
   "cell_type": "code",
   "execution_count": 4,
   "metadata": {},
   "outputs": [],
   "source": [
    "def Pq(G):\n",
    "    return PowerQuandle(list(G), lambda x, y: x * y * x^-1, lambda x, n: x ^ n, G.one())"
   ]
  },
  {
   "cell_type": "code",
   "execution_count": null,
   "metadata": {},
   "outputs": [],
   "source": []
  },
  {
   "cell_type": "code",
   "execution_count": 5,
   "metadata": {},
   "outputs": [],
   "source": [
    "# Assumes powers are cyclic. Could we deduce this generally?\n",
    "def Gr(pq, assume_cyclic = True, pow_ranges = None):\n",
    "    N = len(pq.elements)\n",
    "    \n",
    "    Is = IntegerRange(1, N + 1)\n",
    "    \n",
    "    \n",
    "    one_rel = [[pq.one_i1]]\n",
    "    \n",
    "    rhd_rels = []\n",
    "    for i in Is:\n",
    "        for j in Is:\n",
    "            rhd_rels.append([i, j, -i, -pq.rhd_i1(i, j)])\n",
    "    \n",
    "    \n",
    "    pow_rels = []\n",
    "    if assume_cyclic:\n",
    "        for i in Is:\n",
    "            # n is not an element of the power quandle, it is just practical to use since the order of an element is at most the order of the group.\n",
    "            for n in Is:\n",
    "                j = pq.pow_i1(i, n)\n",
    "                pow_rels.append(n * [i] + [-j])\n",
    "                if j == pq.one_i1:\n",
    "                    break\n",
    "    else:\n",
    "        if pow_ranges == None:\n",
    "            raise ValueError(\"If not assume cyclic, then a power range must be specified\")\n",
    "        \n",
    "        for i in Is:\n",
    "            for n in pow_ranges:\n",
    "                j = pq.pow_i1(i, n)\n",
    "                pow_rels.append(n * [i] + [-j])\n",
    "    \n",
    "    rels = one_rel + rhd_rels + pow_rels\n",
    "        \n",
    "    FG = FreeGroup(N)\n",
    "    FGR = FG / rels\n",
    "    FGS = FGR.simplified()\n",
    "    return FGS"
   ]
  },
  {
   "cell_type": "code",
   "execution_count": null,
   "metadata": {},
   "outputs": [],
   "source": []
  },
  {
   "cell_type": "code",
   "execution_count": null,
   "metadata": {},
   "outputs": [],
   "source": []
  },
  {
   "cell_type": "code",
   "execution_count": null,
   "metadata": {},
   "outputs": [],
   "source": []
  },
  {
   "cell_type": "code",
   "execution_count": 6,
   "metadata": {},
   "outputs": [
    {
     "name": "stdout",
     "output_type": "stream",
     "text": [
      "1 C8\n",
      "2 C4 x C2\n",
      "3 D8\n",
      "4 Q8\n",
      "5 C2 x C2 x C2\n"
     ]
    }
   ],
   "source": [
    "#list_gap_groups(8)"
   ]
  },
  {
   "cell_type": "code",
   "execution_count": 7,
   "metadata": {},
   "outputs": [
    {
     "data": {
      "text/plain": [
       "'C8'"
      ]
     },
     "execution_count": 7,
     "metadata": {},
     "output_type": "execute_result"
    }
   ],
   "source": [
    "#C8 = get_gap_group(8, 1); C8.structure_description()"
   ]
  },
  {
   "cell_type": "code",
   "execution_count": 8,
   "metadata": {},
   "outputs": [],
   "source": [
    "#G = Gr(Pq(C8))"
   ]
  },
  {
   "cell_type": "code",
   "execution_count": 9,
   "metadata": {},
   "outputs": [
    {
     "data": {
      "text/plain": [
       "True"
      ]
     },
     "execution_count": 9,
     "metadata": {},
     "output_type": "execute_result"
    }
   ],
   "source": [
    "#G.is_isomorphic(C8)"
   ]
  },
  {
   "cell_type": "code",
   "execution_count": 10,
   "metadata": {},
   "outputs": [
    {
     "data": {
      "text/plain": [
       "'C8'"
      ]
     },
     "execution_count": 10,
     "metadata": {},
     "output_type": "execute_result"
    }
   ],
   "source": [
    "#G.structure_description()"
   ]
  },
  {
   "cell_type": "code",
   "execution_count": null,
   "metadata": {},
   "outputs": [],
   "source": []
  },
  {
   "cell_type": "code",
   "execution_count": 14,
   "metadata": {},
   "outputs": [],
   "source": [
    "def test_memo_pq(pq):\n",
    "    \n",
    "    pq1 = pq.create_precomputed_iso_pq()\n",
    "    \n",
    "    N = len(pq.elements)\n",
    "    \n",
    "    assert len(pq1.elements) == N\n",
    "    \n",
    "    assert pq.one_i0 == pq1.one_el\n",
    "    assert pq.one_i0 == pq1.one_i0\n",
    "    \n",
    "    for i in IntegerRange(N):\n",
    "        for j in IntegerRange(N):\n",
    "            assert pq.rhd_i0(i, j) == pq1.rhd_el(i, j)\n",
    "            assert pq.rhd_i0(i, j) == pq1.rhd_i0(i, j)\n",
    "            \n",
    "    for i in IntegerRange(N):\n",
    "        for n in IntegerRange(-N, N + 1):\n",
    "            assert pq.pow_i0(i, n) == pq1.pow_el(i, n)\n",
    "            assert pq.pow_i0(i, n) == pq1.pow_i0(i, n)"
   ]
  },
  {
   "cell_type": "code",
   "execution_count": null,
   "metadata": {},
   "outputs": [],
   "source": []
  },
  {
   "cell_type": "code",
   "execution_count": 17,
   "metadata": {},
   "outputs": [],
   "source": [
    "#test_memo_pq(Pq(get_gap_group(32, 17)))"
   ]
  },
  {
   "cell_type": "code",
   "execution_count": null,
   "metadata": {},
   "outputs": [],
   "source": []
  }
 ],
 "metadata": {
  "kernelspec": {
   "display_name": "SageMath 9.0",
   "language": "sage",
   "name": "sagemath"
  },
  "language_info": {
   "codemirror_mode": {
    "name": "ipython",
    "version": 3
   },
   "file_extension": ".py",
   "mimetype": "text/x-python",
   "name": "python",
   "nbconvert_exporter": "python",
   "pygments_lexer": "ipython3",
   "version": "3.7.3"
  }
 },
 "nbformat": 4,
 "nbformat_minor": 2
}
