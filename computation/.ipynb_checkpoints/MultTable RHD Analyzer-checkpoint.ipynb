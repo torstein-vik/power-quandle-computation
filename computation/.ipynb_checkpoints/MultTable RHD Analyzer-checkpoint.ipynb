{
 "cells": [
  {
   "cell_type": "code",
   "execution_count": null,
   "metadata": {},
   "outputs": [],
   "source": []
  },
  {
   "cell_type": "code",
   "execution_count": 10,
   "metadata": {},
   "outputs": [],
   "source": [
    "def create_rhd_table_from_multtable(mtpre):\n",
    "    N = len(mtpre)\n",
    "    \n",
    "    mt = [[k - 1 for k in row] for row in mtpre]\n",
    "    \n",
    "    if not mt[0] == list(range(N)):\n",
    "        raise ValueError(\"MultTable must start with id!\")\n",
    "    \n",
    "    one = 0\n",
    "    \n",
    "    invs = [row.index(one) for row in mt]\n",
    "    \n",
    "    def mul(i, j):\n",
    "        return mt[i][j]\n",
    "    \n",
    "    def inv(i):\n",
    "        return invs[i]\n",
    "    \n",
    "    def rhd(i, j):\n",
    "        return mul(i, mul(j, inv(i)))\n",
    "    \n",
    "    rhdt = [[0 for k in row] for row in mtpre]\n",
    "    \n",
    "    for i in range(N):\n",
    "        for j in range(N):\n",
    "            rhdt[i][j] = rhd(i, j)\n",
    "    \n",
    "    return rhdt, invs"
   ]
  },
  {
   "cell_type": "code",
   "execution_count": null,
   "metadata": {},
   "outputs": [],
   "source": []
  },
  {
   "cell_type": "code",
   "execution_count": 11,
   "metadata": {},
   "outputs": [],
   "source": [
    "from collections import Counter"
   ]
  },
  {
   "cell_type": "code",
   "execution_count": null,
   "metadata": {},
   "outputs": [],
   "source": []
  },
  {
   "cell_type": "code",
   "execution_count": 21,
   "metadata": {},
   "outputs": [],
   "source": [
    "def analyze_multtalbe_rhd(mtpre):\n",
    "    rhdt, invs = create_rhd_table_from_multtable(mtpre)\n",
    "    print(\"Table created\")\n",
    "    \n",
    "    N = len(mtpre)\n",
    "    \n",
    "    resp = []\n",
    "    for i in range(N):\n",
    "        s = 0\n",
    "        for j in range(N):\n",
    "            if rhdt[j][i] == i: #invs[i]:\n",
    "                s += 1\n",
    "        resp.append(s)\n",
    "    \n",
    "    print(\"Processed\")\n",
    "    return sorted(Counter(resp).most_common(), key = lambda x: x[0])"
   ]
  },
  {
   "cell_type": "code",
   "execution_count": null,
   "metadata": {},
   "outputs": [],
   "source": []
  },
  {
   "cell_type": "code",
   "execution_count": 50,
   "metadata": {},
   "outputs": [
    {
     "name": "stdout",
     "output_type": "stream",
     "text": [
      "Table created\n",
      "Processed\n"
     ]
    },
    {
     "data": {
      "text/plain": [
       "[(0, 32), (16, 16), (32, 12), (64, 4)]"
      ]
     },
     "execution_count": 50,
     "metadata": {},
     "output_type": "execute_result"
    }
   ],
   "source": [
    "analyze_multtalbe_rhd(gap.SmallGroup(64, 100).MultiplicationTable().sage())"
   ]
  },
  {
   "cell_type": "code",
   "execution_count": 51,
   "metadata": {},
   "outputs": [
    {
     "name": "stdout",
     "output_type": "stream",
     "text": [
      "Table created\n",
      "Processed\n"
     ]
    },
    {
     "data": {
      "text/plain": [
       "[(0, 32), (8, 16), (16, 4), (32, 8), (64, 4)]"
      ]
     },
     "execution_count": 51,
     "metadata": {},
     "output_type": "execute_result"
    }
   ],
   "source": [
    "analyze_multtalbe_rhd(gap.SmallGroup(64, 12).MultiplicationTable().sage())"
   ]
  },
  {
   "cell_type": "code",
   "execution_count": 55,
   "metadata": {},
   "outputs": [
    {
     "name": "stdout",
     "output_type": "stream",
     "text": [
      "Table created\n",
      "Processed\n"
     ]
    },
    {
     "data": {
      "text/plain": [
       "[(0, 48), (16, 8), (32, 4), (64, 4)]"
      ]
     },
     "execution_count": 55,
     "metadata": {},
     "output_type": "execute_result"
    }
   ],
   "source": [
    "analyze_multtalbe_rhd(gap.SmallGroup(64, 4).MultiplicationTable().sage())"
   ]
  },
  {
   "cell_type": "code",
   "execution_count": null,
   "metadata": {},
   "outputs": [],
   "source": []
  },
  {
   "cell_type": "code",
   "execution_count": 2,
   "metadata": {},
   "outputs": [],
   "source": [
    "import pickle"
   ]
  },
  {
   "cell_type": "code",
   "execution_count": 7,
   "metadata": {},
   "outputs": [],
   "source": [
    "M1 = pickle.load(open(\"SG_2187_6479_mt.p\", \"rb\"))"
   ]
  },
  {
   "cell_type": "code",
   "execution_count": 8,
   "metadata": {},
   "outputs": [],
   "source": [
    "M2 = pickle.load(open(\"SG_2187_6576_mt.p\", \"rb\"))"
   ]
  },
  {
   "cell_type": "code",
   "execution_count": null,
   "metadata": {},
   "outputs": [],
   "source": []
  },
  {
   "cell_type": "code",
   "execution_count": 22,
   "metadata": {},
   "outputs": [
    {
     "name": "stdout",
     "output_type": "stream",
     "text": [
      "Table created\n",
      "Processed\n"
     ]
    },
    {
     "data": {
      "text/plain": [
       "[(81, 1458), (243, 648), (729, 54), (2187, 27)]"
      ]
     },
     "execution_count": 22,
     "metadata": {},
     "output_type": "execute_result"
    }
   ],
   "source": [
    "analyze_multtalbe_rhd(M1)"
   ]
  },
  {
   "cell_type": "code",
   "execution_count": 23,
   "metadata": {},
   "outputs": [
    {
     "name": "stdout",
     "output_type": "stream",
     "text": [
      "Table created\n",
      "Processed\n"
     ]
    },
    {
     "data": {
      "text/plain": [
       "[(81, 1296), (243, 864), (2187, 27)]"
      ]
     },
     "execution_count": 23,
     "metadata": {},
     "output_type": "execute_result"
    }
   ],
   "source": [
    "analyze_multtalbe_rhd(M2)"
   ]
  },
  {
   "cell_type": "code",
   "execution_count": null,
   "metadata": {},
   "outputs": [],
   "source": []
  },
  {
   "cell_type": "code",
   "execution_count": 15,
   "metadata": {},
   "outputs": [],
   "source": [
    "rhd1, inv1 = create_rhd_table_from_multtable(M1)"
   ]
  },
  {
   "cell_type": "code",
   "execution_count": 16,
   "metadata": {},
   "outputs": [],
   "source": [
    "rhd2, inv2 = create_rhd_table_from_multtable(M2)"
   ]
  },
  {
   "cell_type": "code",
   "execution_count": null,
   "metadata": {},
   "outputs": [],
   "source": []
  },
  {
   "cell_type": "code",
   "execution_count": null,
   "metadata": {},
   "outputs": [],
   "source": []
  },
  {
   "cell_type": "code",
   "execution_count": null,
   "metadata": {},
   "outputs": [],
   "source": []
  }
 ],
 "metadata": {
  "kernelspec": {
   "display_name": "SageMath 9.0",
   "language": "sage",
   "name": "sagemath"
  },
  "language_info": {
   "codemirror_mode": {
    "name": "ipython",
    "version": 3
   },
   "file_extension": ".py",
   "mimetype": "text/x-python",
   "name": "python",
   "nbconvert_exporter": "python",
   "pygments_lexer": "ipython3",
   "version": "3.7.3"
  }
 },
 "nbformat": 4,
 "nbformat_minor": 2
}
