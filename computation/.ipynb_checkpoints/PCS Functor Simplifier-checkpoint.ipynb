{
 "cells": [
  {
   "cell_type": "code",
   "execution_count": 1,
   "metadata": {},
   "outputs": [],
   "source": [
    "def get_gap_group(n, i):\n",
    "    return PermutationGroup(gap_group = gap.Image(gap.IsomorphismPermGroup(gap.SmallGroup(n, i)))).as_finitely_presented_group()"
   ]
  },
  {
   "cell_type": "code",
   "execution_count": 2,
   "metadata": {},
   "outputs": [],
   "source": [
    "def list_gap_groups(n):\n",
    "    for i, H in enumerate(gap.AllSmallGroups(n)):\n",
    "        print(i + 1, H.StructureDescription())"
   ]
  },
  {
   "cell_type": "code",
   "execution_count": 4,
   "metadata": {},
   "outputs": [
    {
     "name": "stdout",
     "output_type": "stream",
     "text": [
      "1 C16\n",
      "2 C4 x C4\n",
      "3 (C4 x C2) : C2\n",
      "4 C4 : C4\n",
      "5 C8 x C2\n",
      "6 C8 : C2\n",
      "7 D16\n",
      "8 QD16\n",
      "9 Q16\n",
      "10 C4 x C2 x C2\n",
      "11 C2 x D8\n",
      "12 C2 x Q8\n",
      "13 (C4 x C2) : C2\n",
      "14 C2 x C2 x C2 x C2\n"
     ]
    }
   ],
   "source": [
    "list_gap_groups(16)"
   ]
  },
  {
   "cell_type": "markdown",
   "metadata": {},
   "source": [
    "G1 = gap(\"\"\"Group(\n",
    " ( 1, 3, 8, 6)(9,33,25,17)(11,35,27,19),\n",
    " ( 9,11,16,14)( 1,17,41,40)( 6,22,46,35),\n",
    " (17,19,24,22)( 6,25,43,16)( 8,30,41,11)\n",
    " );\"\"\")"
   ]
  },
  {
   "cell_type": "markdown",
   "metadata": {},
   "source": [
    "G = PermutationGroup(gap_group = gap.Image(gap.IsomorphismPermGroup(G1))).as_finitely_presented_group()"
   ]
  },
  {
   "cell_type": "code",
   "execution_count": 52,
   "metadata": {},
   "outputs": [],
   "source": [
    "C2 = groups.presentation.Cyclic(2)\n",
    "C3 = groups.presentation.Cyclic(3)\n",
    "C4 = groups.presentation.Cyclic(4)\n",
    "C6 = groups.presentation.Cyclic(6)\n",
    "C8 = groups.presentation.Cyclic(8)\n",
    "C12 = groups.presentation.Cyclic(12)\n",
    "C16 = groups.presentation.Cyclic(16)\n",
    "C15 = groups.presentation.Cyclic(15)\n",
    "#G = C8.direct_product(C4)\n",
    "# G = groups.presentation.Dihedral(6)\n",
    "# G = groups.presentation.Symmetric(3).direct_product(C4)\n",
    "G = get_gap_group(16, 11)"
   ]
  },
  {
   "cell_type": "code",
   "execution_count": 53,
   "metadata": {},
   "outputs": [
    {
     "data": {
      "text/plain": [
       "'C2 x D4'"
      ]
     },
     "execution_count": 53,
     "metadata": {},
     "output_type": "execute_result"
    }
   ],
   "source": [
    "G.structure_description()"
   ]
  },
  {
   "cell_type": "code",
   "execution_count": 45,
   "metadata": {},
   "outputs": [
    {
     "data": {
      "text/plain": [
       "Finitely presented group < a, b, c, d | c^2, d^2, b^-2*d, d*a^-2, b*c*b^-1*c, a*c*a^-1*c, a*b^-1*a^-1*b^-1 >"
      ]
     },
     "execution_count": 45,
     "metadata": {},
     "output_type": "execute_result"
    }
   ],
   "source": [
    "G"
   ]
  },
  {
   "cell_type": "code",
   "execution_count": 46,
   "metadata": {},
   "outputs": [
    {
     "data": {
      "text/plain": [
       "Group([ c, d ])"
      ]
     },
     "execution_count": 46,
     "metadata": {},
     "output_type": "execute_result"
    }
   ],
   "source": [
    "G.center()"
   ]
  },
  {
   "cell_type": "code",
   "execution_count": 47,
   "metadata": {},
   "outputs": [],
   "source": [
    "# Optimization: Cache index of inverse\n",
    "# Optimization: Only look at quandling by generators! Perhaps not...\n",
    "\n",
    "enumed = list(enumerate(G))\n",
    "#gens = list(G.gens())\n",
    "\n",
    "rs = G.rewriting_system()\n",
    "rs.make_confluent()\n",
    "\n",
    "groupIndex = dict([(rs.reduce(g), i) for i, g in enumed])\n",
    "\n",
    "def indexOf(g):\n",
    "    g1 = rs.reduce(g)\n",
    "    return groupIndex[g1]\n",
    "    #for i, g1 in enumed:\n",
    "        #if g == g1:\n",
    "            #return i\n",
    "\n",
    "def forOneG(t):\n",
    "    (i, g) = t\n",
    "    grelations = []\n",
    "    \n",
    "    indexInv = indexOf(g^(-1))\n",
    "    \n",
    "    for n in range(len(G)):\n",
    "        gn = g^n\n",
    "        if gn == g and n > 1:\n",
    "            break\n",
    "        indexN = indexOf(gn)\n",
    "        grelations.append([indexInv + 1]*n + [indexN + 1])\n",
    "\n",
    "    for i1, g1 in enumed:\n",
    "        #i1 = indexOf(g1)\n",
    "        indexInv1 = indexOf(g1^(-1))\n",
    "        indexInv2 = indexOf((g1*g*g1^(-1))^(-1)) \n",
    "        grelations.append([i1 + 1, i + 1, indexInv1 + 1, indexInv2 + 1])\n",
    "\n",
    "    return grelations\n",
    "\n",
    "relations = []\n",
    "\n",
    "#for i, g in enumed:\n",
    "    #rel = forOneG(i, g)\n",
    "    #relations.extend(rel)\n",
    "\n",
    "from multiprocessing import Pool\n",
    "\n",
    "pool = Pool(processes = 7)\n",
    "result = pool.map(forOneG, enumed)\n",
    "relations = [rel for rels in result for rel in rels]\n",
    "pool.close()\n",
    "pool.join()"
   ]
  },
  {
   "cell_type": "code",
   "execution_count": 48,
   "metadata": {},
   "outputs": [],
   "source": [
    "FreeG = FreeGroup(len(G))"
   ]
  },
  {
   "cell_type": "code",
   "execution_count": 49,
   "metadata": {},
   "outputs": [],
   "source": [
    "FG = FreeG / relations"
   ]
  },
  {
   "cell_type": "code",
   "execution_count": 50,
   "metadata": {},
   "outputs": [
    {
     "data": {
      "text/plain": [
       "Finitely presented group < x1, x3, x5, x7, x9, x11, x13, x14 | x13^2, x5^2, x3^-2*x11^2, x9^2*x11^2, x7^2*x3^2, x1^-2*x9^2, x11*x3^-1*x11^-1*x3, x3^-2*x14^2, x7^-1*x3*x7*x3, x9^-1*x11^-1*x9*x11^-1, x11^-1*x1^-1*x11^-1*x1, x14*x3*x14^-1*x3, x7^-1*x11*x7*x11, x14*x11^-1*x14*x11, (x14^-1*x7^-1)^2, x3^4, x9^-1*x7*x9^-1*x7^-1, x9^-1*x3*x9^-1*x3^-1, x14^-1*x9^-1*x14^-1*x9, x9*x1^-1*x9^-1*x1, x13*x3^-1*x13*x3, x13*x7^-1*x13*x7, x7^-1*x1^-1*x7*x1^-1, x14^-1*x5*x14*x5, x5*x1^-1*x5*x1, x13*x1^-1*x13*x1, x11*x5*x11^-1*x5, x7*x5*x7^-1*x5, x5*x3^-1*x5*x3, x11^-1*x13*x11*x13, x14^-1*x13*x14*x13, x14*x1^-1*x14^-1*x1^-1, x13*x9*x13*x9^-1, x3^-1*x1^-1*x3*x1^-1, (x13*x5)^2, x9*x5*x9^-1*x5 >"
      ]
     },
     "execution_count": 50,
     "metadata": {},
     "output_type": "execute_result"
    }
   ],
   "source": [
    "FGS = FG.simplified()\n",
    "FGS"
   ]
  },
  {
   "cell_type": "code",
   "execution_count": 51,
   "metadata": {},
   "outputs": [
    {
     "data": {
      "text/plain": [
       "'C2 x C2 x C2 x C2 x C2 x C2 x Q8'"
      ]
     },
     "execution_count": 51,
     "metadata": {},
     "output_type": "execute_result"
    }
   ],
   "source": [
    "FGS.structure_description()"
   ]
  },
  {
   "cell_type": "code",
   "execution_count": null,
   "metadata": {},
   "outputs": [],
   "source": []
  },
  {
   "cell_type": "code",
   "execution_count": 14,
   "metadata": {},
   "outputs": [],
   "source": [
    "FGS1 = FGS"
   ]
  },
  {
   "cell_type": "code",
   "execution_count": 24,
   "metadata": {},
   "outputs": [
    {
     "data": {
      "text/plain": [
       "False"
      ]
     },
     "execution_count": 24,
     "metadata": {},
     "output_type": "execute_result"
    }
   ],
   "source": [
    "FGS1.is_isomorphic(FGS)"
   ]
  },
  {
   "cell_type": "code",
   "execution_count": null,
   "metadata": {},
   "outputs": [],
   "source": []
  },
  {
   "cell_type": "markdown",
   "metadata": {},
   "source": [
    "# Table of computations:\n",
    "\n",
    "C4 : C4 -> C2 x C2 x C2 x (C4 : C4)\n",
    "\n",
    "(C4 x C2) : C2 -> C2 x C2 x C4 x ((C4 x C2) : C2)\n",
    "\n",
    "C2 x D4 -> C2 x C2 x C2 x C2 x C2 x C2 x D4\n",
    "\n",
    "C2 x Q8 -> C2 x C2 x C2 x C2 x C2 x C2 x Q8"
   ]
  },
  {
   "cell_type": "code",
   "execution_count": null,
   "metadata": {},
   "outputs": [],
   "source": []
  },
  {
   "cell_type": "code",
   "execution_count": 28,
   "metadata": {},
   "outputs": [
    {
     "data": {
      "text/plain": [
       "Finitely presented group < a, b, c, d, e, f | a^2, b^2, e^2, f^2, d^-2*f, f*c^-2, d*e*d^-1*e, c*e*c^-1*e, (a*e)^2, c*d^-1*c^-1*d^-1, (b*d^-1)^2, (a*d^-1)^2, b*c*b*c^-1, e*c*a*c^-1*a, d^-1*(b*a)^2 >"
      ]
     },
     "execution_count": 28,
     "metadata": {},
     "output_type": "execute_result"
    }
   ],
   "source": [
    "G"
   ]
  },
  {
   "cell_type": "code",
   "execution_count": null,
   "metadata": {},
   "outputs": [],
   "source": []
  },
  {
   "cell_type": "code",
   "execution_count": 9,
   "metadata": {},
   "outputs": [
    {
     "data": {
      "text/plain": [
       "(6, a*b^-1)"
      ]
     },
     "execution_count": 9,
     "metadata": {},
     "output_type": "execute_result"
    }
   ],
   "source": [
    "enumed[6]"
   ]
  },
  {
   "cell_type": "code",
   "execution_count": 10,
   "metadata": {},
   "outputs": [
    {
     "data": {
      "text/plain": [
       "(36, a*b^-6)"
      ]
     },
     "execution_count": 10,
     "metadata": {},
     "output_type": "execute_result"
    }
   ],
   "source": [
    "enumed[36]"
   ]
  },
  {
   "cell_type": "code",
   "execution_count": 11,
   "metadata": {},
   "outputs": [
    {
     "data": {
      "text/plain": [
       "(39, b^7)"
      ]
     },
     "execution_count": 11,
     "metadata": {},
     "output_type": "execute_result"
    }
   ],
   "source": [
    "enumed[39]"
   ]
  },
  {
   "cell_type": "code",
   "execution_count": 12,
   "metadata": {},
   "outputs": [
    {
     "data": {
      "text/plain": [
       "(41, a*b^7)"
      ]
     },
     "execution_count": 12,
     "metadata": {},
     "output_type": "execute_result"
    }
   ],
   "source": [
    "enumed[41]"
   ]
  },
  {
   "cell_type": "code",
   "execution_count": null,
   "metadata": {},
   "outputs": [],
   "source": []
  },
  {
   "cell_type": "code",
   "execution_count": null,
   "metadata": {},
   "outputs": [],
   "source": []
  },
  {
   "cell_type": "code",
   "execution_count": 47,
   "metadata": {},
   "outputs": [],
   "source": [
    "#FG.simplification_isomorphism()"
   ]
  },
  {
   "cell_type": "code",
   "execution_count": 58,
   "metadata": {},
   "outputs": [
    {
     "data": {
      "text/plain": [
       "[(0, 1),\n",
       " (1, a),\n",
       " (2, b),\n",
       " (3, b^-1),\n",
       " (4, a*b),\n",
       " (5, a*b^-1),\n",
       " (6, b^2),\n",
       " (7, b^-2),\n",
       " (8, a*b^2),\n",
       " (9, a*b^-2),\n",
       " (10, b^3),\n",
       " (11, a*b^3)]"
      ]
     },
     "execution_count": 58,
     "metadata": {},
     "output_type": "execute_result"
    }
   ],
   "source": [
    "enumed"
   ]
  },
  {
   "cell_type": "code",
   "execution_count": 50,
   "metadata": {},
   "outputs": [
    {
     "data": {
      "text/plain": [
       "Finitely presented group < a, b | a^2, b^16, a^-1*b^-1*a*b >"
      ]
     },
     "execution_count": 50,
     "metadata": {},
     "output_type": "execute_result"
    }
   ],
   "source": [
    "G"
   ]
  },
  {
   "cell_type": "code",
   "execution_count": 44,
   "metadata": {},
   "outputs": [
    {
     "data": {
      "text/plain": [
       "(1, a)"
      ]
     },
     "execution_count": 44,
     "metadata": {},
     "output_type": "execute_result"
    }
   ],
   "source": [
    "enumed[1]"
   ]
  },
  {
   "cell_type": "code",
   "execution_count": 45,
   "metadata": {},
   "outputs": [
    {
     "data": {
      "text/plain": [
       "(4, a*b)"
      ]
     },
     "execution_count": 45,
     "metadata": {},
     "output_type": "execute_result"
    }
   ],
   "source": [
    "enumed[4]"
   ]
  },
  {
   "cell_type": "code",
   "execution_count": 46,
   "metadata": {},
   "outputs": [
    {
     "data": {
      "text/plain": [
       "(8, a*b^2)"
      ]
     },
     "execution_count": 46,
     "metadata": {},
     "output_type": "execute_result"
    }
   ],
   "source": [
    "enumed[8]"
   ]
  },
  {
   "cell_type": "code",
   "execution_count": 47,
   "metadata": {},
   "outputs": [
    {
     "data": {
      "text/plain": [
       "(16, a*b^4)"
      ]
     },
     "execution_count": 47,
     "metadata": {},
     "output_type": "execute_result"
    }
   ],
   "source": [
    "enumed[16]"
   ]
  },
  {
   "cell_type": "code",
   "execution_count": 48,
   "metadata": {},
   "outputs": [
    {
     "data": {
      "text/plain": [
       "(26, b^7)"
      ]
     },
     "execution_count": 48,
     "metadata": {},
     "output_type": "execute_result"
    }
   ],
   "source": [
    "enumed[26]"
   ]
  },
  {
   "cell_type": "code",
   "execution_count": 49,
   "metadata": {},
   "outputs": [
    {
     "data": {
      "text/plain": [
       "(31, a*b^8)"
      ]
     },
     "execution_count": 49,
     "metadata": {},
     "output_type": "execute_result"
    }
   ],
   "source": [
    "enumed[31]"
   ]
  },
  {
   "cell_type": "code",
   "execution_count": null,
   "metadata": {},
   "outputs": [],
   "source": []
  },
  {
   "cell_type": "code",
   "execution_count": 50,
   "metadata": {},
   "outputs": [
    {
     "data": {
      "text/plain": [
       "(1, a)"
      ]
     },
     "execution_count": 50,
     "metadata": {},
     "output_type": "execute_result"
    }
   ],
   "source": [
    "enumed[1]"
   ]
  },
  {
   "cell_type": "code",
   "execution_count": 51,
   "metadata": {},
   "outputs": [
    {
     "data": {
      "text/plain": [
       "(5, a*b)"
      ]
     },
     "execution_count": 51,
     "metadata": {},
     "output_type": "execute_result"
    }
   ],
   "source": [
    "enumed[5]"
   ]
  },
  {
   "cell_type": "code",
   "execution_count": 52,
   "metadata": {},
   "outputs": [
    {
     "data": {
      "text/plain": [
       "(10, a^-2*b)"
      ]
     },
     "execution_count": 52,
     "metadata": {},
     "output_type": "execute_result"
    }
   ],
   "source": [
    "enumed[10]"
   ]
  },
  {
   "cell_type": "code",
   "execution_count": 27,
   "metadata": {},
   "outputs": [
    {
     "data": {
      "text/plain": [
       "(24, a^7)"
      ]
     },
     "execution_count": 27,
     "metadata": {},
     "output_type": "execute_result"
    }
   ],
   "source": [
    "enumed[24]"
   ]
  },
  {
   "cell_type": "code",
   "execution_count": null,
   "metadata": {},
   "outputs": [],
   "source": []
  },
  {
   "cell_type": "code",
   "execution_count": 15,
   "metadata": {},
   "outputs": [
    {
     "data": {
      "text/plain": [
       "Finitely presented group < a, b | a^12, b^2, (a*b)^2 >"
      ]
     },
     "execution_count": 15,
     "metadata": {},
     "output_type": "execute_result"
    }
   ],
   "source": [
    "G"
   ]
  },
  {
   "cell_type": "code",
   "execution_count": null,
   "metadata": {},
   "outputs": [],
   "source": []
  },
  {
   "cell_type": "code",
   "execution_count": 76,
   "metadata": {},
   "outputs": [
    {
     "data": {
      "text/plain": [
       "Dihedral group of order 4 as a permutation group"
      ]
     },
     "execution_count": 76,
     "metadata": {},
     "output_type": "execute_result"
    }
   ],
   "source": [
    "DihedralGroup(2)"
   ]
  },
  {
   "cell_type": "code",
   "execution_count": 80,
   "metadata": {},
   "outputs": [
    {
     "ename": "AttributeError",
     "evalue": "'tuple' object has no attribute 'direct_product'",
     "output_type": "error",
     "traceback": [
      "\u001b[0;31m---------------------------------------------------------------------------\u001b[0m",
      "\u001b[0;31mAttributeError\u001b[0m                            Traceback (most recent call last)",
      "\u001b[0;32m<ipython-input-80-d177d1609981>\u001b[0m in \u001b[0;36m<module>\u001b[0;34m()\u001b[0m\n\u001b[1;32m      1\u001b[0m \u001b[0mD3\u001b[0m \u001b[0;34m=\u001b[0m \u001b[0mDihedralGroup\u001b[0m\u001b[0;34m(\u001b[0m\u001b[0mInteger\u001b[0m\u001b[0;34m(\u001b[0m\u001b[0;36m3\u001b[0m\u001b[0;34m)\u001b[0m\u001b[0;34m)\u001b[0m \u001b[0;31m#groups.presentation.Dihedral(3)\u001b[0m\u001b[0;34m\u001b[0m\u001b[0;34m\u001b[0m\u001b[0m\n\u001b[1;32m      2\u001b[0m \u001b[0mC2\u001b[0m \u001b[0;34m=\u001b[0m \u001b[0mCyclicPermutationGroup\u001b[0m\u001b[0;34m(\u001b[0m\u001b[0mInteger\u001b[0m\u001b[0;34m(\u001b[0m\u001b[0;36m2\u001b[0m\u001b[0;34m)\u001b[0m\u001b[0;34m)\u001b[0m \u001b[0;31m#groups.presentation.Cyclic(2)\u001b[0m\u001b[0;34m\u001b[0m\u001b[0;34m\u001b[0m\u001b[0m\n\u001b[0;32m----> 3\u001b[0;31m \u001b[0mG1\u001b[0m \u001b[0;34m=\u001b[0m \u001b[0mC2\u001b[0m\u001b[0;34m.\u001b[0m\u001b[0mdirect_product\u001b[0m\u001b[0;34m(\u001b[0m\u001b[0mC2\u001b[0m\u001b[0;34m)\u001b[0m\u001b[0;34m.\u001b[0m\u001b[0mdirect_product\u001b[0m\u001b[0;34m(\u001b[0m\u001b[0mD3\u001b[0m\u001b[0;34m)\u001b[0m\u001b[0;34m\u001b[0m\u001b[0;34m\u001b[0m\u001b[0m\n\u001b[0m",
      "\u001b[0;31mAttributeError\u001b[0m: 'tuple' object has no attribute 'direct_product'"
     ]
    }
   ],
   "source": [
    "D3 = DihedralGroup(3) #groups.presentation.Dihedral(3)\n",
    "C2 = CyclicPermutationGroup(2) #groups.presentation.Cyclic(2)\n",
    "G1 = C2.direct_product(C2).direct_product(D3)"
   ]
  },
  {
   "cell_type": "code",
   "execution_count": 81,
   "metadata": {},
   "outputs": [
    {
     "ename": "AttributeError",
     "evalue": "'tuple' object has no attribute 'simplification_isomorphism'",
     "output_type": "error",
     "traceback": [
      "\u001b[0;31m---------------------------------------------------------------------------\u001b[0m",
      "\u001b[0;31mAttributeError\u001b[0m                            Traceback (most recent call last)",
      "\u001b[0;32m<ipython-input-81-32d304e395b7>\u001b[0m in \u001b[0;36m<module>\u001b[0;34m()\u001b[0m\n\u001b[0;32m----> 1\u001b[0;31m \u001b[0mG1\u001b[0m\u001b[0;34m.\u001b[0m\u001b[0msimplification_isomorphism\u001b[0m\u001b[0;34m(\u001b[0m\u001b[0;34m)\u001b[0m\u001b[0;34m\u001b[0m\u001b[0;34m\u001b[0m\u001b[0m\n\u001b[0m",
      "\u001b[0;31mAttributeError\u001b[0m: 'tuple' object has no attribute 'simplification_isomorphism'"
     ]
    }
   ],
   "source": [
    "G1.simplification_isomorphism()"
   ]
  },
  {
   "cell_type": "code",
   "execution_count": null,
   "metadata": {},
   "outputs": [],
   "source": []
  },
  {
   "cell_type": "code",
   "execution_count": 91,
   "metadata": {},
   "outputs": [
    {
     "data": {
      "text/plain": [
       "True"
      ]
     },
     "execution_count": 91,
     "metadata": {},
     "output_type": "execute_result"
    }
   ],
   "source": [
    "D3p = groups.presentation.Dihedral(3)\n",
    "D6p = groups.presentation.Dihedral(6)\n",
    "C2p = groups.presentation.Cyclic(2)\n",
    "C2p.direct_product(D3p).is_isomorphic(D6p)"
   ]
  },
  {
   "cell_type": "code",
   "execution_count": 93,
   "metadata": {},
   "outputs": [
    {
     "data": {
      "text/plain": [
       "'C2 x C2 x S3'"
      ]
     },
     "execution_count": 93,
     "metadata": {},
     "output_type": "execute_result"
    }
   ],
   "source": [
    "C2p.direct_product(D6p).structure_description()"
   ]
  },
  {
   "cell_type": "code",
   "execution_count": null,
   "metadata": {},
   "outputs": [],
   "source": []
  },
  {
   "cell_type": "code",
   "execution_count": 87,
   "metadata": {},
   "outputs": [
    {
     "data": {
      "text/plain": [
       "[Generic morphism:\n",
       "   From: Finitely presented group < x1, x5, x10 | x5^2, x10^2, (x5*x1)^2, (x5*x10)^2, (x10*x1)^2, x1^6 >\n",
       "   To:   Dihedral group of order 6 as a permutation group\n",
       "   Defn: x1 |--> (1,2,3)\n",
       "         x5 |--> (2,3)\n",
       "         x10 |--> (2,3)]"
      ]
     },
     "execution_count": 87,
     "metadata": {},
     "output_type": "execute_result"
    }
   ],
   "source": [
    "FGS.epimorphisms(DihedralGroup(3))"
   ]
  },
  {
   "cell_type": "code",
   "execution_count": null,
   "metadata": {},
   "outputs": [],
   "source": []
  },
  {
   "cell_type": "code",
   "execution_count": 89,
   "metadata": {},
   "outputs": [
    {
     "data": {
      "text/plain": [
       "[Generic morphism:\n",
       "   From: Finitely presented group < a, b | a^6, b^2, (a*b)^2 >\n",
       "   To:   Dihedral group of order 6 as a permutation group\n",
       "   Defn: a |--> (1,2,3)\n",
       "         b |--> (2,3)]"
      ]
     },
     "execution_count": 89,
     "metadata": {},
     "output_type": "execute_result"
    }
   ],
   "source": [
    "groups.presentation.Dihedral(6).epimorphisms(DihedralGroup(3))"
   ]
  },
  {
   "cell_type": "code",
   "execution_count": null,
   "metadata": {},
   "outputs": [],
   "source": []
  },
  {
   "cell_type": "code",
   "execution_count": 83,
   "metadata": {},
   "outputs": [
    {
     "data": {
      "text/plain": [
       "[Generic morphism:\n",
       "   From: Finitely presented group < x1, x5, x10 | x5^2, x10^2, (x5*x1)^2, (x5*x10)^2, (x10*x1)^2, x1^6 >\n",
       "   To:   Dihedral group of order 12 as a permutation group\n",
       "   Defn: x1 |--> (1,2,3,4,5,6)\n",
       "         x5 |--> (2,6)(3,5)\n",
       "         x10 |--> (2,6)(3,5), Generic morphism:\n",
       "   From: Finitely presented group < x1, x5, x10 | x5^2, x10^2, (x5*x1)^2, (x5*x10)^2, (x10*x1)^2, x1^6 >\n",
       "   To:   Dihedral group of order 12 as a permutation group\n",
       "   Defn: x1 |--> (1,2,3,4,5,6)\n",
       "         x5 |--> (1,4)(2,3)(5,6)\n",
       "         x10 |--> (2,6)(3,5), Generic morphism:\n",
       "   From: Finitely presented group < x1, x5, x10 | x5^2, x10^2, (x5*x1)^2, (x5*x10)^2, (x10*x1)^2, x1^6 >\n",
       "   To:   Dihedral group of order 12 as a permutation group\n",
       "   Defn: x1 |--> (1,3,5)(2,4,6)\n",
       "         x5 |--> (1,4)(2,3)(5,6)\n",
       "         x10 |--> (2,6)(3,5)]"
      ]
     },
     "execution_count": 83,
     "metadata": {},
     "output_type": "execute_result"
    }
   ],
   "source": [
    "FGS.epimorphisms(DihedralGroup(6))"
   ]
  },
  {
   "cell_type": "code",
   "execution_count": 84,
   "metadata": {},
   "outputs": [
    {
     "data": {
      "text/plain": [
       "[Generic morphism:\n",
       "   From: Finitely presented group < a, b | a^6, b^2, (a*b)^2 >\n",
       "   To:   Dihedral group of order 12 as a permutation group\n",
       "   Defn: a |--> (1,2,3,4,5,6)\n",
       "         b |--> (2,6)(3,5)]"
      ]
     },
     "execution_count": 84,
     "metadata": {},
     "output_type": "execute_result"
    }
   ],
   "source": [
    "groups.presentation.Dihedral(6).epimorphisms(DihedralGroup(6))"
   ]
  },
  {
   "cell_type": "code",
   "execution_count": null,
   "metadata": {},
   "outputs": [],
   "source": []
  },
  {
   "cell_type": "code",
   "execution_count": 86,
   "metadata": {},
   "outputs": [
    {
     "data": {
      "text/plain": [
       "[Generic morphism:\n",
       "   From: Finitely presented group < x1, x5, x10 | x5^2, x10^2, (x5*x1)^2, (x5*x10)^2, (x10*x1)^2, x1^6 >\n",
       "   To:   Cyclic group of order 2 as a permutation group\n",
       "   Defn: x1 |--> ()\n",
       "         x5 |--> ()\n",
       "         x10 |--> (1,2), Generic morphism:\n",
       "   From: Finitely presented group < x1, x5, x10 | x5^2, x10^2, (x5*x1)^2, (x5*x10)^2, (x10*x1)^2, x1^6 >\n",
       "   To:   Cyclic group of order 2 as a permutation group\n",
       "   Defn: x1 |--> ()\n",
       "         x5 |--> (1,2)\n",
       "         x10 |--> (), Generic morphism:\n",
       "   From: Finitely presented group < x1, x5, x10 | x5^2, x10^2, (x5*x1)^2, (x5*x10)^2, (x10*x1)^2, x1^6 >\n",
       "   To:   Cyclic group of order 2 as a permutation group\n",
       "   Defn: x1 |--> ()\n",
       "         x5 |--> (1,2)\n",
       "         x10 |--> (1,2), Generic morphism:\n",
       "   From: Finitely presented group < x1, x5, x10 | x5^2, x10^2, (x5*x1)^2, (x5*x10)^2, (x10*x1)^2, x1^6 >\n",
       "   To:   Cyclic group of order 2 as a permutation group\n",
       "   Defn: x1 |--> (1,2)\n",
       "         x5 |--> ()\n",
       "         x10 |--> (), Generic morphism:\n",
       "   From: Finitely presented group < x1, x5, x10 | x5^2, x10^2, (x5*x1)^2, (x5*x10)^2, (x10*x1)^2, x1^6 >\n",
       "   To:   Cyclic group of order 2 as a permutation group\n",
       "   Defn: x1 |--> (1,2)\n",
       "         x5 |--> ()\n",
       "         x10 |--> (1,2), Generic morphism:\n",
       "   From: Finitely presented group < x1, x5, x10 | x5^2, x10^2, (x5*x1)^2, (x5*x10)^2, (x10*x1)^2, x1^6 >\n",
       "   To:   Cyclic group of order 2 as a permutation group\n",
       "   Defn: x1 |--> (1,2)\n",
       "         x5 |--> (1,2)\n",
       "         x10 |--> (), Generic morphism:\n",
       "   From: Finitely presented group < x1, x5, x10 | x5^2, x10^2, (x5*x1)^2, (x5*x10)^2, (x10*x1)^2, x1^6 >\n",
       "   To:   Cyclic group of order 2 as a permutation group\n",
       "   Defn: x1 |--> (1,2)\n",
       "         x5 |--> (1,2)\n",
       "         x10 |--> (1,2)]"
      ]
     },
     "execution_count": 86,
     "metadata": {},
     "output_type": "execute_result"
    }
   ],
   "source": [
    "FGS.epimorphisms(CyclicPermutationGroup(2))"
   ]
  },
  {
   "cell_type": "code",
   "execution_count": null,
   "metadata": {},
   "outputs": [],
   "source": []
  },
  {
   "cell_type": "code",
   "execution_count": null,
   "metadata": {},
   "outputs": [],
   "source": []
  },
  {
   "cell_type": "code",
   "execution_count": null,
   "metadata": {},
   "outputs": [],
   "source": [
    "G.inject_variables()"
   ]
  },
  {
   "cell_type": "code",
   "execution_count": null,
   "metadata": {},
   "outputs": [],
   "source": [
    "x = b"
   ]
  },
  {
   "cell_type": "code",
   "execution_count": null,
   "metadata": {},
   "outputs": [],
   "source": [
    "y = a*b*a"
   ]
  },
  {
   "cell_type": "code",
   "execution_count": null,
   "metadata": {},
   "outputs": [],
   "source": [
    "indexOf((y*x)^3)"
   ]
  },
  {
   "cell_type": "code",
   "execution_count": null,
   "metadata": {},
   "outputs": [],
   "source": [
    "enumed[8]"
   ]
  },
  {
   "cell_type": "code",
   "execution_count": null,
   "metadata": {},
   "outputs": [],
   "source": [
    "FGS.inject_variables()"
   ]
  },
  {
   "cell_type": "code",
   "execution_count": null,
   "metadata": {},
   "outputs": [],
   "source": [
    "(x10*x3)^6 == x10^0"
   ]
  },
  {
   "cell_type": "code",
   "execution_count": null,
   "metadata": {},
   "outputs": [],
   "source": []
  },
  {
   "cell_type": "code",
   "execution_count": 74,
   "metadata": {},
   "outputs": [
    {
     "data": {
      "text/plain": [
       "799958220"
      ]
     },
     "execution_count": 74,
     "metadata": {},
     "output_type": "execute_result"
    }
   ],
   "source": [
    "sage.interfaces.gap.get_gap_memory_pool_size()"
   ]
  },
  {
   "cell_type": "code",
   "execution_count": 75,
   "metadata": {},
   "outputs": [],
   "source": [
    "sage.interfaces.gap.set_gap_memory_pool_size(20000000000)"
   ]
  },
  {
   "cell_type": "code",
   "execution_count": null,
   "metadata": {},
   "outputs": [],
   "source": []
  }
 ],
 "metadata": {
  "kernelspec": {
   "display_name": "SageMath 9.0",
   "language": "sage",
   "name": "sagemath"
  },
  "language_info": {
   "codemirror_mode": {
    "name": "ipython",
    "version": 3
   },
   "file_extension": ".py",
   "mimetype": "text/x-python",
   "name": "python",
   "nbconvert_exporter": "python",
   "pygments_lexer": "ipython3",
   "version": "3.7.3"
  }
 },
 "nbformat": 4,
 "nbformat_minor": 2
}
